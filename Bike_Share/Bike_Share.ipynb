{
 "cells": [
  {
   "cell_type": "code",
   "execution_count": 2,
   "metadata": {},
   "outputs": [],
   "source": [
    "import pandas as pd\n",
    "import matplotlib.pyplot as plt\n",
    "import matplotlib as mpl\n",
    "import numpy as np\n",
    "import seaborn as sns\n",
    "import plotly.express as px"
   ]
  },
  {
   "cell_type": "code",
   "execution_count": 3,
   "metadata": {},
   "outputs": [],
   "source": [
    "jan_2023 = pd.read_csv(\"D:/download/data/202301-divvy-tripdata.csv\")\n",
    "feb_2023 = pd.read_csv(\"D:/download/data/202302-divvy-tripdata.csv\")\n",
    "mar_2023 = pd.read_csv(\"D:/download/data/202303-divvy-tripdata.csv\")\n",
    "apr_2023 = pd.read_csv(\"D:/download/data/202304-divvy-tripdata.csv\")\n",
    "may_2023 = pd.read_csv(\"D:/download/data/202305-divvy-tripdata.csv\")\n",
    "jun_2023 = pd.read_csv(\"D:/download/data/202306-divvy-tripdata.csv\")\n",
    "jul_2023 = pd.read_csv(\"D:/download/data/202307-divvy-tripdata.csv\")\n",
    "aug_2023 = pd.read_csv(\"D:/download/data/202308-divvy-tripdata.csv\")\n",
    "sep_2023 = pd.read_csv(\"D:/download/data/202309-divvy-tripdata.csv\")\n",
    "oct_2023 = pd.read_csv(\"D:/download/data/202310-divvy-tripdata.csv\")\n",
    "nov_2023 = pd.read_csv(\"D:/download/data/202311-divvy-tripdata.csv\")\n",
    "dec_2023 = pd.read_csv(\"D:/download/data/202312-divvy-tripdata.csv\")"
   ]
  },
  {
   "cell_type": "code",
   "execution_count": 4,
   "metadata": {},
   "outputs": [
    {
     "name": "stdout",
     "output_type": "stream",
     "text": [
      "<class 'pandas.core.frame.DataFrame'>\n",
      "RangeIndex: 5719877 entries, 0 to 5719876\n",
      "Data columns (total 15 columns):\n",
      " #   Column              Dtype  \n",
      "---  ------              -----  \n",
      " 0   ride_id             object \n",
      " 1   rideable_type       object \n",
      " 2   started_at          object \n",
      " 3   ended_at            object \n",
      " 4   start_station_name  object \n",
      " 5   start_station_id    object \n",
      " 6   end_station_name    object \n",
      " 7   end_station_id      object \n",
      " 8   start_lat           float64\n",
      " 9   start_lng           float64\n",
      " 10  end_lat             float64\n",
      " 11  end_lng             float64\n",
      " 12  member_casual       object \n",
      " 13  ride_length         float64\n",
      " 14  day_of_week         float64\n",
      "dtypes: float64(6), object(9)\n",
      "memory usage: 654.6+ MB\n"
     ]
    },
    {
     "data": {
      "text/html": [
       "<div>\n",
       "<style scoped>\n",
       "    .dataframe tbody tr th:only-of-type {\n",
       "        vertical-align: middle;\n",
       "    }\n",
       "\n",
       "    .dataframe tbody tr th {\n",
       "        vertical-align: top;\n",
       "    }\n",
       "\n",
       "    .dataframe thead th {\n",
       "        text-align: right;\n",
       "    }\n",
       "</style>\n",
       "<table border=\"1\" class=\"dataframe\">\n",
       "  <thead>\n",
       "    <tr style=\"text-align: right;\">\n",
       "      <th></th>\n",
       "      <th>ride_id</th>\n",
       "      <th>rideable_type</th>\n",
       "      <th>started_at</th>\n",
       "      <th>ended_at</th>\n",
       "      <th>start_station_name</th>\n",
       "      <th>start_station_id</th>\n",
       "      <th>end_station_name</th>\n",
       "      <th>end_station_id</th>\n",
       "      <th>start_lat</th>\n",
       "      <th>start_lng</th>\n",
       "      <th>end_lat</th>\n",
       "      <th>end_lng</th>\n",
       "      <th>member_casual</th>\n",
       "      <th>ride_length</th>\n",
       "      <th>day_of_week</th>\n",
       "    </tr>\n",
       "  </thead>\n",
       "  <tbody>\n",
       "    <tr>\n",
       "      <th>0</th>\n",
       "      <td>F96D5A74A3E41399</td>\n",
       "      <td>electric_bike</td>\n",
       "      <td>2023/1/21 20:05</td>\n",
       "      <td>2023/1/21 20:16</td>\n",
       "      <td>Lincoln Ave &amp; Fullerton Ave</td>\n",
       "      <td>TA1309000058</td>\n",
       "      <td>Hampden Ct &amp; Diversey Ave</td>\n",
       "      <td>202480</td>\n",
       "      <td>41.924074</td>\n",
       "      <td>-87.646278</td>\n",
       "      <td>41.930000</td>\n",
       "      <td>-87.640000</td>\n",
       "      <td>member</td>\n",
       "      <td>0.007535</td>\n",
       "      <td>7.0</td>\n",
       "    </tr>\n",
       "    <tr>\n",
       "      <th>1</th>\n",
       "      <td>13CB7EB698CEDB88</td>\n",
       "      <td>classic_bike</td>\n",
       "      <td>2023/1/10 15:37</td>\n",
       "      <td>2023/1/10 15:46</td>\n",
       "      <td>Kimbark Ave &amp; 53rd St</td>\n",
       "      <td>TA1309000037</td>\n",
       "      <td>Greenwood Ave &amp; 47th St</td>\n",
       "      <td>TA1308000002</td>\n",
       "      <td>41.799568</td>\n",
       "      <td>-87.594747</td>\n",
       "      <td>41.809835</td>\n",
       "      <td>-87.599383</td>\n",
       "      <td>member</td>\n",
       "      <td>0.005891</td>\n",
       "      <td>3.0</td>\n",
       "    </tr>\n",
       "    <tr>\n",
       "      <th>2</th>\n",
       "      <td>BD88A2E670661CE5</td>\n",
       "      <td>electric_bike</td>\n",
       "      <td>2023/1/2 07:51</td>\n",
       "      <td>2023/1/2 08:05</td>\n",
       "      <td>Western Ave &amp; Lunt Ave</td>\n",
       "      <td>RP-005</td>\n",
       "      <td>Valli Produce - Evanston Plaza</td>\n",
       "      <td>599</td>\n",
       "      <td>42.008571</td>\n",
       "      <td>-87.690483</td>\n",
       "      <td>42.039742</td>\n",
       "      <td>-87.699413</td>\n",
       "      <td>casual</td>\n",
       "      <td>0.009190</td>\n",
       "      <td>2.0</td>\n",
       "    </tr>\n",
       "    <tr>\n",
       "      <th>3</th>\n",
       "      <td>C90792D034FED968</td>\n",
       "      <td>classic_bike</td>\n",
       "      <td>2023/1/22 10:52</td>\n",
       "      <td>2023/1/22 11:01</td>\n",
       "      <td>Kimbark Ave &amp; 53rd St</td>\n",
       "      <td>TA1309000037</td>\n",
       "      <td>Greenwood Ave &amp; 47th St</td>\n",
       "      <td>TA1308000002</td>\n",
       "      <td>41.799568</td>\n",
       "      <td>-87.594747</td>\n",
       "      <td>41.809835</td>\n",
       "      <td>-87.599383</td>\n",
       "      <td>member</td>\n",
       "      <td>0.006088</td>\n",
       "      <td>1.0</td>\n",
       "    </tr>\n",
       "    <tr>\n",
       "      <th>4</th>\n",
       "      <td>3397017529188E8A</td>\n",
       "      <td>classic_bike</td>\n",
       "      <td>2023/1/12 13:58</td>\n",
       "      <td>2023/1/12 14:13</td>\n",
       "      <td>Kimbark Ave &amp; 53rd St</td>\n",
       "      <td>TA1309000037</td>\n",
       "      <td>Greenwood Ave &amp; 47th St</td>\n",
       "      <td>TA1308000002</td>\n",
       "      <td>41.799568</td>\n",
       "      <td>-87.594747</td>\n",
       "      <td>41.809835</td>\n",
       "      <td>-87.599383</td>\n",
       "      <td>member</td>\n",
       "      <td>0.010637</td>\n",
       "      <td>5.0</td>\n",
       "    </tr>\n",
       "    <tr>\n",
       "      <th>...</th>\n",
       "      <td>...</td>\n",
       "      <td>...</td>\n",
       "      <td>...</td>\n",
       "      <td>...</td>\n",
       "      <td>...</td>\n",
       "      <td>...</td>\n",
       "      <td>...</td>\n",
       "      <td>...</td>\n",
       "      <td>...</td>\n",
       "      <td>...</td>\n",
       "      <td>...</td>\n",
       "      <td>...</td>\n",
       "      <td>...</td>\n",
       "      <td>...</td>\n",
       "      <td>...</td>\n",
       "    </tr>\n",
       "    <tr>\n",
       "      <th>5719872</th>\n",
       "      <td>F74DF9549B504A6B</td>\n",
       "      <td>electric_bike</td>\n",
       "      <td>2023/12/7 13:15</td>\n",
       "      <td>2023/12/7 13:17</td>\n",
       "      <td>900 W Harrison St</td>\n",
       "      <td>13028</td>\n",
       "      <td>Racine Ave &amp; Congress Pkwy</td>\n",
       "      <td>TA1306000025</td>\n",
       "      <td>41.874702</td>\n",
       "      <td>-87.649804</td>\n",
       "      <td>41.874640</td>\n",
       "      <td>-87.657030</td>\n",
       "      <td>casual</td>\n",
       "      <td>NaN</td>\n",
       "      <td>NaN</td>\n",
       "    </tr>\n",
       "    <tr>\n",
       "      <th>5719873</th>\n",
       "      <td>BCDA66E761CC1029</td>\n",
       "      <td>classic_bike</td>\n",
       "      <td>2023/12/8 18:42</td>\n",
       "      <td>2023/12/8 18:45</td>\n",
       "      <td>900 W Harrison St</td>\n",
       "      <td>13028</td>\n",
       "      <td>Racine Ave &amp; Congress Pkwy</td>\n",
       "      <td>TA1306000025</td>\n",
       "      <td>41.874754</td>\n",
       "      <td>-87.649807</td>\n",
       "      <td>41.874640</td>\n",
       "      <td>-87.657030</td>\n",
       "      <td>casual</td>\n",
       "      <td>NaN</td>\n",
       "      <td>NaN</td>\n",
       "    </tr>\n",
       "    <tr>\n",
       "      <th>5719874</th>\n",
       "      <td>D2CF330F9C266683</td>\n",
       "      <td>classic_bike</td>\n",
       "      <td>2023/12/5 14:09</td>\n",
       "      <td>2023/12/5 14:13</td>\n",
       "      <td>900 W Harrison St</td>\n",
       "      <td>13028</td>\n",
       "      <td>Racine Ave &amp; Congress Pkwy</td>\n",
       "      <td>TA1306000025</td>\n",
       "      <td>41.874754</td>\n",
       "      <td>-87.649807</td>\n",
       "      <td>41.874640</td>\n",
       "      <td>-87.657030</td>\n",
       "      <td>member</td>\n",
       "      <td>NaN</td>\n",
       "      <td>NaN</td>\n",
       "    </tr>\n",
       "    <tr>\n",
       "      <th>5719875</th>\n",
       "      <td>3829A0D1E00EE970</td>\n",
       "      <td>electric_bike</td>\n",
       "      <td>2023/12/2 21:36</td>\n",
       "      <td>2023/12/2 21:53</td>\n",
       "      <td>Damen Ave &amp; Madison St</td>\n",
       "      <td>13134</td>\n",
       "      <td>Morgan St &amp; Lake St*</td>\n",
       "      <td>chargingstx4</td>\n",
       "      <td>41.881396</td>\n",
       "      <td>-87.674984</td>\n",
       "      <td>41.885492</td>\n",
       "      <td>-87.652289</td>\n",
       "      <td>casual</td>\n",
       "      <td>NaN</td>\n",
       "      <td>NaN</td>\n",
       "    </tr>\n",
       "    <tr>\n",
       "      <th>5719876</th>\n",
       "      <td>A373F5B447AEA508</td>\n",
       "      <td>classic_bike</td>\n",
       "      <td>2023/12/11 13:07</td>\n",
       "      <td>2023/12/11 13:11</td>\n",
       "      <td>900 W Harrison St</td>\n",
       "      <td>13028</td>\n",
       "      <td>Racine Ave &amp; Congress Pkwy</td>\n",
       "      <td>TA1306000025</td>\n",
       "      <td>41.874754</td>\n",
       "      <td>-87.649807</td>\n",
       "      <td>41.874640</td>\n",
       "      <td>-87.657030</td>\n",
       "      <td>member</td>\n",
       "      <td>NaN</td>\n",
       "      <td>NaN</td>\n",
       "    </tr>\n",
       "  </tbody>\n",
       "</table>\n",
       "<p>5719877 rows × 15 columns</p>\n",
       "</div>"
      ],
      "text/plain": [
       "                  ride_id  rideable_type        started_at          ended_at  \\\n",
       "0        F96D5A74A3E41399  electric_bike   2023/1/21 20:05   2023/1/21 20:16   \n",
       "1        13CB7EB698CEDB88   classic_bike   2023/1/10 15:37   2023/1/10 15:46   \n",
       "2        BD88A2E670661CE5  electric_bike    2023/1/2 07:51    2023/1/2 08:05   \n",
       "3        C90792D034FED968   classic_bike   2023/1/22 10:52   2023/1/22 11:01   \n",
       "4        3397017529188E8A   classic_bike   2023/1/12 13:58   2023/1/12 14:13   \n",
       "...                   ...            ...               ...               ...   \n",
       "5719872  F74DF9549B504A6B  electric_bike   2023/12/7 13:15   2023/12/7 13:17   \n",
       "5719873  BCDA66E761CC1029   classic_bike   2023/12/8 18:42   2023/12/8 18:45   \n",
       "5719874  D2CF330F9C266683   classic_bike   2023/12/5 14:09   2023/12/5 14:13   \n",
       "5719875  3829A0D1E00EE970  electric_bike   2023/12/2 21:36   2023/12/2 21:53   \n",
       "5719876  A373F5B447AEA508   classic_bike  2023/12/11 13:07  2023/12/11 13:11   \n",
       "\n",
       "                  start_station_name start_station_id  \\\n",
       "0        Lincoln Ave & Fullerton Ave     TA1309000058   \n",
       "1              Kimbark Ave & 53rd St     TA1309000037   \n",
       "2             Western Ave & Lunt Ave           RP-005   \n",
       "3              Kimbark Ave & 53rd St     TA1309000037   \n",
       "4              Kimbark Ave & 53rd St     TA1309000037   \n",
       "...                              ...              ...   \n",
       "5719872            900 W Harrison St            13028   \n",
       "5719873            900 W Harrison St            13028   \n",
       "5719874            900 W Harrison St            13028   \n",
       "5719875       Damen Ave & Madison St            13134   \n",
       "5719876            900 W Harrison St            13028   \n",
       "\n",
       "                       end_station_name end_station_id  start_lat  start_lng  \\\n",
       "0             Hampden Ct & Diversey Ave         202480  41.924074 -87.646278   \n",
       "1               Greenwood Ave & 47th St   TA1308000002  41.799568 -87.594747   \n",
       "2        Valli Produce - Evanston Plaza            599  42.008571 -87.690483   \n",
       "3               Greenwood Ave & 47th St   TA1308000002  41.799568 -87.594747   \n",
       "4               Greenwood Ave & 47th St   TA1308000002  41.799568 -87.594747   \n",
       "...                                 ...            ...        ...        ...   \n",
       "5719872      Racine Ave & Congress Pkwy   TA1306000025  41.874702 -87.649804   \n",
       "5719873      Racine Ave & Congress Pkwy   TA1306000025  41.874754 -87.649807   \n",
       "5719874      Racine Ave & Congress Pkwy   TA1306000025  41.874754 -87.649807   \n",
       "5719875            Morgan St & Lake St*   chargingstx4  41.881396 -87.674984   \n",
       "5719876      Racine Ave & Congress Pkwy   TA1306000025  41.874754 -87.649807   \n",
       "\n",
       "           end_lat    end_lng member_casual  ride_length  day_of_week  \n",
       "0        41.930000 -87.640000        member     0.007535          7.0  \n",
       "1        41.809835 -87.599383        member     0.005891          3.0  \n",
       "2        42.039742 -87.699413        casual     0.009190          2.0  \n",
       "3        41.809835 -87.599383        member     0.006088          1.0  \n",
       "4        41.809835 -87.599383        member     0.010637          5.0  \n",
       "...            ...        ...           ...          ...          ...  \n",
       "5719872  41.874640 -87.657030        casual          NaN          NaN  \n",
       "5719873  41.874640 -87.657030        casual          NaN          NaN  \n",
       "5719874  41.874640 -87.657030        member          NaN          NaN  \n",
       "5719875  41.885492 -87.652289        casual          NaN          NaN  \n",
       "5719876  41.874640 -87.657030        member          NaN          NaN  \n",
       "\n",
       "[5719877 rows x 15 columns]"
      ]
     },
     "execution_count": 4,
     "metadata": {},
     "output_type": "execute_result"
    }
   ],
   "source": [
    "data = pd.concat([jan_2023,feb_2023,mar_2023,apr_2023,may_2023,\n",
    "                  jun_2023,jul_2023,aug_2023,sep_2023,oct_2023,nov_2023,dec_2023], ignore_index = True)\n",
    "data.info()\n",
    "data"
   ]
  },
  {
   "cell_type": "markdown",
   "metadata": {},
   "source": [
    "Data Cleaning and Manipulating Process"
   ]
  },
  {
   "cell_type": "code",
   "execution_count": 5,
   "metadata": {},
   "outputs": [
    {
     "data": {
      "text/plain": [
       "ride_id               0\n",
       "rideable_type         0\n",
       "started_at            0\n",
       "ended_at              0\n",
       "start_station_name    0\n",
       "start_station_id      0\n",
       "end_station_name      0\n",
       "end_station_id        0\n",
       "start_lat             0\n",
       "start_lng             0\n",
       "end_lat               0\n",
       "end_lng               0\n",
       "member_casual         0\n",
       "ride_length           0\n",
       "day_of_week           0\n",
       "dtype: int64"
      ]
     },
     "execution_count": 5,
     "metadata": {},
     "output_type": "execute_result"
    }
   ],
   "source": [
    "#Checking the null values and counting with the sum() function\n",
    "data.isna().sum()\n",
    "#Dropping null values\n",
    "data.dropna(inplace= True)\n",
    "data.isna().sum()"
   ]
  },
  {
   "cell_type": "code",
   "execution_count": 6,
   "metadata": {},
   "outputs": [
    {
     "name": "stdout",
     "output_type": "stream",
     "text": [
      "<class 'pandas.core.frame.DataFrame'>\n",
      "Index: 2208171 entries, 0 to 5323726\n",
      "Data columns (total 15 columns):\n",
      " #   Column              Dtype         \n",
      "---  ------              -----         \n",
      " 0   ride_id             object        \n",
      " 1   rideable_type       object        \n",
      " 2   started_at          datetime64[ns]\n",
      " 3   ended_at            datetime64[ns]\n",
      " 4   start_station_name  object        \n",
      " 5   start_station_id    object        \n",
      " 6   end_station_name    object        \n",
      " 7   end_station_id      object        \n",
      " 8   start_lat           float64       \n",
      " 9   start_lng           float64       \n",
      " 10  end_lat             float64       \n",
      " 11  end_lng             float64       \n",
      " 12  member_casual       object        \n",
      " 13  ride_length         float64       \n",
      " 14  day_of_week         float64       \n",
      "dtypes: datetime64[ns](2), float64(6), object(7)\n",
      "memory usage: 269.6+ MB\n"
     ]
    }
   ],
   "source": [
    "# Converting datatype of \"started_at\" & \"ended_at\" columns to \"datetime64\" type.\n",
    "data['started_at'] = pd.to_datetime(data['started_at'])\n",
    "data['ended_at'] = pd.to_datetime(data['ended_at'])\n",
    "\n",
    "data.info()"
   ]
  },
  {
   "cell_type": "code",
   "execution_count": 7,
   "metadata": {},
   "outputs": [
    {
     "data": {
      "text/html": [
       "<div>\n",
       "<style scoped>\n",
       "    .dataframe tbody tr th:only-of-type {\n",
       "        vertical-align: middle;\n",
       "    }\n",
       "\n",
       "    .dataframe tbody tr th {\n",
       "        vertical-align: top;\n",
       "    }\n",
       "\n",
       "    .dataframe thead th {\n",
       "        text-align: right;\n",
       "    }\n",
       "</style>\n",
       "<table border=\"1\" class=\"dataframe\">\n",
       "  <thead>\n",
       "    <tr style=\"text-align: right;\">\n",
       "      <th></th>\n",
       "      <th>ride_id</th>\n",
       "      <th>rideable_type</th>\n",
       "      <th>started_at</th>\n",
       "      <th>ended_at</th>\n",
       "      <th>start_station_name</th>\n",
       "      <th>start_station_id</th>\n",
       "      <th>end_station_name</th>\n",
       "      <th>end_station_id</th>\n",
       "      <th>start_lat</th>\n",
       "      <th>start_lng</th>\n",
       "      <th>end_lat</th>\n",
       "      <th>end_lng</th>\n",
       "      <th>member_casual</th>\n",
       "      <th>ride_length</th>\n",
       "      <th>day_of_week</th>\n",
       "    </tr>\n",
       "  </thead>\n",
       "  <tbody>\n",
       "    <tr>\n",
       "      <th>0</th>\n",
       "      <td>F96D5A74A3E41399</td>\n",
       "      <td>electric_bike</td>\n",
       "      <td>2023-01-21 20:05:00</td>\n",
       "      <td>2023-01-21 20:16:00</td>\n",
       "      <td>Lincoln Ave &amp; Fullerton Ave</td>\n",
       "      <td>TA1309000058</td>\n",
       "      <td>Hampden Ct &amp; Diversey Ave</td>\n",
       "      <td>202480</td>\n",
       "      <td>41.924074</td>\n",
       "      <td>-87.646278</td>\n",
       "      <td>41.930000</td>\n",
       "      <td>-87.640000</td>\n",
       "      <td>member</td>\n",
       "      <td>11</td>\n",
       "      <td>7.0</td>\n",
       "    </tr>\n",
       "    <tr>\n",
       "      <th>1</th>\n",
       "      <td>13CB7EB698CEDB88</td>\n",
       "      <td>classic_bike</td>\n",
       "      <td>2023-01-10 15:37:00</td>\n",
       "      <td>2023-01-10 15:46:00</td>\n",
       "      <td>Kimbark Ave &amp; 53rd St</td>\n",
       "      <td>TA1309000037</td>\n",
       "      <td>Greenwood Ave &amp; 47th St</td>\n",
       "      <td>TA1308000002</td>\n",
       "      <td>41.799568</td>\n",
       "      <td>-87.594747</td>\n",
       "      <td>41.809835</td>\n",
       "      <td>-87.599383</td>\n",
       "      <td>member</td>\n",
       "      <td>9</td>\n",
       "      <td>3.0</td>\n",
       "    </tr>\n",
       "    <tr>\n",
       "      <th>2</th>\n",
       "      <td>BD88A2E670661CE5</td>\n",
       "      <td>electric_bike</td>\n",
       "      <td>2023-01-02 07:51:00</td>\n",
       "      <td>2023-01-02 08:05:00</td>\n",
       "      <td>Western Ave &amp; Lunt Ave</td>\n",
       "      <td>RP-005</td>\n",
       "      <td>Valli Produce - Evanston Plaza</td>\n",
       "      <td>599</td>\n",
       "      <td>42.008571</td>\n",
       "      <td>-87.690483</td>\n",
       "      <td>42.039742</td>\n",
       "      <td>-87.699413</td>\n",
       "      <td>casual</td>\n",
       "      <td>14</td>\n",
       "      <td>2.0</td>\n",
       "    </tr>\n",
       "    <tr>\n",
       "      <th>3</th>\n",
       "      <td>C90792D034FED968</td>\n",
       "      <td>classic_bike</td>\n",
       "      <td>2023-01-22 10:52:00</td>\n",
       "      <td>2023-01-22 11:01:00</td>\n",
       "      <td>Kimbark Ave &amp; 53rd St</td>\n",
       "      <td>TA1309000037</td>\n",
       "      <td>Greenwood Ave &amp; 47th St</td>\n",
       "      <td>TA1308000002</td>\n",
       "      <td>41.799568</td>\n",
       "      <td>-87.594747</td>\n",
       "      <td>41.809835</td>\n",
       "      <td>-87.599383</td>\n",
       "      <td>member</td>\n",
       "      <td>9</td>\n",
       "      <td>1.0</td>\n",
       "    </tr>\n",
       "    <tr>\n",
       "      <th>4</th>\n",
       "      <td>3397017529188E8A</td>\n",
       "      <td>classic_bike</td>\n",
       "      <td>2023-01-12 13:58:00</td>\n",
       "      <td>2023-01-12 14:13:00</td>\n",
       "      <td>Kimbark Ave &amp; 53rd St</td>\n",
       "      <td>TA1309000037</td>\n",
       "      <td>Greenwood Ave &amp; 47th St</td>\n",
       "      <td>TA1308000002</td>\n",
       "      <td>41.799568</td>\n",
       "      <td>-87.594747</td>\n",
       "      <td>41.809835</td>\n",
       "      <td>-87.599383</td>\n",
       "      <td>member</td>\n",
       "      <td>15</td>\n",
       "      <td>5.0</td>\n",
       "    </tr>\n",
       "  </tbody>\n",
       "</table>\n",
       "</div>"
      ],
      "text/plain": [
       "            ride_id  rideable_type          started_at            ended_at  \\\n",
       "0  F96D5A74A3E41399  electric_bike 2023-01-21 20:05:00 2023-01-21 20:16:00   \n",
       "1  13CB7EB698CEDB88   classic_bike 2023-01-10 15:37:00 2023-01-10 15:46:00   \n",
       "2  BD88A2E670661CE5  electric_bike 2023-01-02 07:51:00 2023-01-02 08:05:00   \n",
       "3  C90792D034FED968   classic_bike 2023-01-22 10:52:00 2023-01-22 11:01:00   \n",
       "4  3397017529188E8A   classic_bike 2023-01-12 13:58:00 2023-01-12 14:13:00   \n",
       "\n",
       "            start_station_name start_station_id  \\\n",
       "0  Lincoln Ave & Fullerton Ave     TA1309000058   \n",
       "1        Kimbark Ave & 53rd St     TA1309000037   \n",
       "2       Western Ave & Lunt Ave           RP-005   \n",
       "3        Kimbark Ave & 53rd St     TA1309000037   \n",
       "4        Kimbark Ave & 53rd St     TA1309000037   \n",
       "\n",
       "                 end_station_name end_station_id  start_lat  start_lng  \\\n",
       "0       Hampden Ct & Diversey Ave         202480  41.924074 -87.646278   \n",
       "1         Greenwood Ave & 47th St   TA1308000002  41.799568 -87.594747   \n",
       "2  Valli Produce - Evanston Plaza            599  42.008571 -87.690483   \n",
       "3         Greenwood Ave & 47th St   TA1308000002  41.799568 -87.594747   \n",
       "4         Greenwood Ave & 47th St   TA1308000002  41.799568 -87.594747   \n",
       "\n",
       "     end_lat    end_lng member_casual  ride_length  day_of_week  \n",
       "0  41.930000 -87.640000        member           11          7.0  \n",
       "1  41.809835 -87.599383        member            9          3.0  \n",
       "2  42.039742 -87.699413        casual           14          2.0  \n",
       "3  41.809835 -87.599383        member            9          1.0  \n",
       "4  41.809835 -87.599383        member           15          5.0  "
      ]
     },
     "execution_count": 7,
     "metadata": {},
     "output_type": "execute_result"
    }
   ],
   "source": [
    "# Creating New Column \"ride_length\" and changing its datatype to \"int32\"\n",
    "# In this column, each row contains the difference between \"started_at and \"ended_at\" columns in minutes.\n",
    "\n",
    "data['ride_length'] = (data['ended_at'] - data['started_at'])/pd.Timedelta(minutes=1)\n",
    "data['ride_length'] = data['ride_length'].astype('int32')\n",
    "\n",
    "data.head()"
   ]
  },
  {
   "cell_type": "code",
   "execution_count": 8,
   "metadata": {},
   "outputs": [
    {
     "data": {
      "text/html": [
       "<div>\n",
       "<style scoped>\n",
       "    .dataframe tbody tr th:only-of-type {\n",
       "        vertical-align: middle;\n",
       "    }\n",
       "\n",
       "    .dataframe tbody tr th {\n",
       "        vertical-align: top;\n",
       "    }\n",
       "\n",
       "    .dataframe thead th {\n",
       "        text-align: right;\n",
       "    }\n",
       "</style>\n",
       "<table border=\"1\" class=\"dataframe\">\n",
       "  <thead>\n",
       "    <tr style=\"text-align: right;\">\n",
       "      <th></th>\n",
       "      <th>ride_id</th>\n",
       "      <th>rideable_type</th>\n",
       "      <th>started_at</th>\n",
       "      <th>ended_at</th>\n",
       "      <th>start_station_name</th>\n",
       "      <th>start_station_id</th>\n",
       "      <th>end_station_name</th>\n",
       "      <th>end_station_id</th>\n",
       "      <th>start_lat</th>\n",
       "      <th>start_lng</th>\n",
       "      <th>end_lat</th>\n",
       "      <th>end_lng</th>\n",
       "      <th>member_casual</th>\n",
       "      <th>ride_length</th>\n",
       "      <th>day_of_week</th>\n",
       "    </tr>\n",
       "  </thead>\n",
       "  <tbody>\n",
       "    <tr>\n",
       "      <th>5257014</th>\n",
       "      <td>C182738D5AF4775B</td>\n",
       "      <td>classic_bike</td>\n",
       "      <td>2023-11-05 01:54:00</td>\n",
       "      <td>2023-11-05 01:01:00</td>\n",
       "      <td>Halsted St &amp; 21st St</td>\n",
       "      <td>13162</td>\n",
       "      <td>Racine Ave &amp; 18th St</td>\n",
       "      <td>13164</td>\n",
       "      <td>41.853780</td>\n",
       "      <td>-87.646603</td>\n",
       "      <td>41.858166</td>\n",
       "      <td>-87.656495</td>\n",
       "      <td>casual</td>\n",
       "      <td>-53</td>\n",
       "      <td>1.0</td>\n",
       "    </tr>\n",
       "    <tr>\n",
       "      <th>5257025</th>\n",
       "      <td>0AF3917F317F4C5F</td>\n",
       "      <td>classic_bike</td>\n",
       "      <td>2023-11-05 01:54:00</td>\n",
       "      <td>2023-11-05 01:01:00</td>\n",
       "      <td>Halsted St &amp; 21st St</td>\n",
       "      <td>13162</td>\n",
       "      <td>Racine Ave &amp; 18th St</td>\n",
       "      <td>13164</td>\n",
       "      <td>41.853780</td>\n",
       "      <td>-87.646603</td>\n",
       "      <td>41.858166</td>\n",
       "      <td>-87.656495</td>\n",
       "      <td>casual</td>\n",
       "      <td>-53</td>\n",
       "      <td>1.0</td>\n",
       "    </tr>\n",
       "    <tr>\n",
       "      <th>5212240</th>\n",
       "      <td>FBDEF92A65F125D9</td>\n",
       "      <td>classic_bike</td>\n",
       "      <td>2023-11-05 01:58:00</td>\n",
       "      <td>2023-11-05 01:05:00</td>\n",
       "      <td>LaSalle Dr &amp; Huron St</td>\n",
       "      <td>KP1705001026</td>\n",
       "      <td>Clark St &amp; Elm St</td>\n",
       "      <td>TA1307000039</td>\n",
       "      <td>41.894877</td>\n",
       "      <td>-87.632326</td>\n",
       "      <td>41.902973</td>\n",
       "      <td>-87.631280</td>\n",
       "      <td>casual</td>\n",
       "      <td>-53</td>\n",
       "      <td>1.0</td>\n",
       "    </tr>\n",
       "    <tr>\n",
       "      <th>5144773</th>\n",
       "      <td>9D73776DE22E7CC3</td>\n",
       "      <td>classic_bike</td>\n",
       "      <td>2023-11-05 01:51:00</td>\n",
       "      <td>2023-11-05 01:01:00</td>\n",
       "      <td>Western Ave &amp; Fillmore St</td>\n",
       "      <td>644</td>\n",
       "      <td>May St &amp; Taylor St</td>\n",
       "      <td>13160</td>\n",
       "      <td>41.868563</td>\n",
       "      <td>-87.686234</td>\n",
       "      <td>41.869482</td>\n",
       "      <td>-87.655486</td>\n",
       "      <td>member</td>\n",
       "      <td>-50</td>\n",
       "      <td>1.0</td>\n",
       "    </tr>\n",
       "    <tr>\n",
       "      <th>5172964</th>\n",
       "      <td>D0AA61C39C6A4403</td>\n",
       "      <td>classic_bike</td>\n",
       "      <td>2023-11-05 01:51:00</td>\n",
       "      <td>2023-11-05 01:02:00</td>\n",
       "      <td>Damen Ave &amp; Cortland St</td>\n",
       "      <td>13133</td>\n",
       "      <td>Damen Ave &amp; Wellington Ave</td>\n",
       "      <td>13268</td>\n",
       "      <td>41.915983</td>\n",
       "      <td>-87.677335</td>\n",
       "      <td>41.935880</td>\n",
       "      <td>-87.678420</td>\n",
       "      <td>casual</td>\n",
       "      <td>-49</td>\n",
       "      <td>1.0</td>\n",
       "    </tr>\n",
       "    <tr>\n",
       "      <th>...</th>\n",
       "      <td>...</td>\n",
       "      <td>...</td>\n",
       "      <td>...</td>\n",
       "      <td>...</td>\n",
       "      <td>...</td>\n",
       "      <td>...</td>\n",
       "      <td>...</td>\n",
       "      <td>...</td>\n",
       "      <td>...</td>\n",
       "      <td>...</td>\n",
       "      <td>...</td>\n",
       "      <td>...</td>\n",
       "      <td>...</td>\n",
       "      <td>...</td>\n",
       "      <td>...</td>\n",
       "    </tr>\n",
       "    <tr>\n",
       "      <th>4485205</th>\n",
       "      <td>7AC23ADF3F785C89</td>\n",
       "      <td>classic_bike</td>\n",
       "      <td>2023-09-29 12:32:00</td>\n",
       "      <td>2023-09-30 13:29:00</td>\n",
       "      <td>Halsted St &amp; 63rd St</td>\n",
       "      <td>KA1503000055</td>\n",
       "      <td>Halsted St &amp; 63rd St</td>\n",
       "      <td>KA1503000055</td>\n",
       "      <td>41.779381</td>\n",
       "      <td>-87.644621</td>\n",
       "      <td>41.779381</td>\n",
       "      <td>-87.644621</td>\n",
       "      <td>casual</td>\n",
       "      <td>1497</td>\n",
       "      <td>6.0</td>\n",
       "    </tr>\n",
       "    <tr>\n",
       "      <th>4554419</th>\n",
       "      <td>C65FD7B15C4C410F</td>\n",
       "      <td>classic_bike</td>\n",
       "      <td>2023-09-18 17:57:00</td>\n",
       "      <td>2023-09-19 18:54:00</td>\n",
       "      <td>DuSable Lake Shore Dr &amp; Wellington Ave</td>\n",
       "      <td>TA1307000041</td>\n",
       "      <td>DuSable Lake Shore Dr &amp; Wellington Ave</td>\n",
       "      <td>TA1307000041</td>\n",
       "      <td>41.936688</td>\n",
       "      <td>-87.636829</td>\n",
       "      <td>41.936688</td>\n",
       "      <td>-87.636829</td>\n",
       "      <td>member</td>\n",
       "      <td>1497</td>\n",
       "      <td>2.0</td>\n",
       "    </tr>\n",
       "    <tr>\n",
       "      <th>168567</th>\n",
       "      <td>89AB3E68A1FE1D42</td>\n",
       "      <td>classic_bike</td>\n",
       "      <td>2023-01-13 18:00:00</td>\n",
       "      <td>2023-01-14 18:58:00</td>\n",
       "      <td>Sheridan Rd &amp; Montrose Ave</td>\n",
       "      <td>TA1307000107</td>\n",
       "      <td>Halsted St &amp; Willow St</td>\n",
       "      <td>TA1307000166</td>\n",
       "      <td>41.961670</td>\n",
       "      <td>-87.654640</td>\n",
       "      <td>41.913865</td>\n",
       "      <td>-87.648755</td>\n",
       "      <td>member</td>\n",
       "      <td>1498</td>\n",
       "      <td>6.0</td>\n",
       "    </tr>\n",
       "    <tr>\n",
       "      <th>1229343</th>\n",
       "      <td>A795B5420E15A65B</td>\n",
       "      <td>docked_bike</td>\n",
       "      <td>2023-05-10 18:42:00</td>\n",
       "      <td>2023-05-13 00:47:00</td>\n",
       "      <td>Clark St &amp; Schiller St</td>\n",
       "      <td>TA1309000024</td>\n",
       "      <td>Ashland Ave &amp; Wellington Ave</td>\n",
       "      <td>13269</td>\n",
       "      <td>41.907993</td>\n",
       "      <td>-87.631501</td>\n",
       "      <td>41.936083</td>\n",
       "      <td>-87.669807</td>\n",
       "      <td>casual</td>\n",
       "      <td>3245</td>\n",
       "      <td>4.0</td>\n",
       "    </tr>\n",
       "    <tr>\n",
       "      <th>1078713</th>\n",
       "      <td>59AD7EE868FC6588</td>\n",
       "      <td>docked_bike</td>\n",
       "      <td>2023-05-30 12:48:00</td>\n",
       "      <td>2023-06-07 23:04:00</td>\n",
       "      <td>Wells St &amp; Polk St</td>\n",
       "      <td>SL-011</td>\n",
       "      <td>Lincoln Ave &amp; Roscoe St*</td>\n",
       "      <td>chargingstx5</td>\n",
       "      <td>41.872732</td>\n",
       "      <td>-87.633516</td>\n",
       "      <td>41.943350</td>\n",
       "      <td>-87.670668</td>\n",
       "      <td>casual</td>\n",
       "      <td>12136</td>\n",
       "      <td>3.0</td>\n",
       "    </tr>\n",
       "  </tbody>\n",
       "</table>\n",
       "<p>2208171 rows × 15 columns</p>\n",
       "</div>"
      ],
      "text/plain": [
       "                  ride_id rideable_type          started_at  \\\n",
       "5257014  C182738D5AF4775B  classic_bike 2023-11-05 01:54:00   \n",
       "5257025  0AF3917F317F4C5F  classic_bike 2023-11-05 01:54:00   \n",
       "5212240  FBDEF92A65F125D9  classic_bike 2023-11-05 01:58:00   \n",
       "5144773  9D73776DE22E7CC3  classic_bike 2023-11-05 01:51:00   \n",
       "5172964  D0AA61C39C6A4403  classic_bike 2023-11-05 01:51:00   \n",
       "...                   ...           ...                 ...   \n",
       "4485205  7AC23ADF3F785C89  classic_bike 2023-09-29 12:32:00   \n",
       "4554419  C65FD7B15C4C410F  classic_bike 2023-09-18 17:57:00   \n",
       "168567   89AB3E68A1FE1D42  classic_bike 2023-01-13 18:00:00   \n",
       "1229343  A795B5420E15A65B   docked_bike 2023-05-10 18:42:00   \n",
       "1078713  59AD7EE868FC6588   docked_bike 2023-05-30 12:48:00   \n",
       "\n",
       "                   ended_at                      start_station_name  \\\n",
       "5257014 2023-11-05 01:01:00                    Halsted St & 21st St   \n",
       "5257025 2023-11-05 01:01:00                    Halsted St & 21st St   \n",
       "5212240 2023-11-05 01:05:00                   LaSalle Dr & Huron St   \n",
       "5144773 2023-11-05 01:01:00               Western Ave & Fillmore St   \n",
       "5172964 2023-11-05 01:02:00                 Damen Ave & Cortland St   \n",
       "...                     ...                                     ...   \n",
       "4485205 2023-09-30 13:29:00                    Halsted St & 63rd St   \n",
       "4554419 2023-09-19 18:54:00  DuSable Lake Shore Dr & Wellington Ave   \n",
       "168567  2023-01-14 18:58:00              Sheridan Rd & Montrose Ave   \n",
       "1229343 2023-05-13 00:47:00                  Clark St & Schiller St   \n",
       "1078713 2023-06-07 23:04:00                      Wells St & Polk St   \n",
       "\n",
       "        start_station_id                        end_station_name  \\\n",
       "5257014            13162                    Racine Ave & 18th St   \n",
       "5257025            13162                    Racine Ave & 18th St   \n",
       "5212240     KP1705001026                       Clark St & Elm St   \n",
       "5144773              644                      May St & Taylor St   \n",
       "5172964            13133              Damen Ave & Wellington Ave   \n",
       "...                  ...                                     ...   \n",
       "4485205     KA1503000055                    Halsted St & 63rd St   \n",
       "4554419     TA1307000041  DuSable Lake Shore Dr & Wellington Ave   \n",
       "168567      TA1307000107                  Halsted St & Willow St   \n",
       "1229343     TA1309000024            Ashland Ave & Wellington Ave   \n",
       "1078713           SL-011                Lincoln Ave & Roscoe St*   \n",
       "\n",
       "        end_station_id  start_lat  start_lng    end_lat    end_lng  \\\n",
       "5257014          13164  41.853780 -87.646603  41.858166 -87.656495   \n",
       "5257025          13164  41.853780 -87.646603  41.858166 -87.656495   \n",
       "5212240   TA1307000039  41.894877 -87.632326  41.902973 -87.631280   \n",
       "5144773          13160  41.868563 -87.686234  41.869482 -87.655486   \n",
       "5172964          13268  41.915983 -87.677335  41.935880 -87.678420   \n",
       "...                ...        ...        ...        ...        ...   \n",
       "4485205   KA1503000055  41.779381 -87.644621  41.779381 -87.644621   \n",
       "4554419   TA1307000041  41.936688 -87.636829  41.936688 -87.636829   \n",
       "168567    TA1307000166  41.961670 -87.654640  41.913865 -87.648755   \n",
       "1229343          13269  41.907993 -87.631501  41.936083 -87.669807   \n",
       "1078713   chargingstx5  41.872732 -87.633516  41.943350 -87.670668   \n",
       "\n",
       "        member_casual  ride_length  day_of_week  \n",
       "5257014        casual          -53          1.0  \n",
       "5257025        casual          -53          1.0  \n",
       "5212240        casual          -53          1.0  \n",
       "5144773        member          -50          1.0  \n",
       "5172964        casual          -49          1.0  \n",
       "...               ...          ...          ...  \n",
       "4485205        casual         1497          6.0  \n",
       "4554419        member         1497          2.0  \n",
       "168567         member         1498          6.0  \n",
       "1229343        casual         3245          4.0  \n",
       "1078713        casual        12136          3.0  \n",
       "\n",
       "[2208171 rows x 15 columns]"
      ]
     },
     "execution_count": 8,
     "metadata": {},
     "output_type": "execute_result"
    }
   ],
   "source": [
    "# Sorting Values by \"ride_length\" column in Ascending order.\n",
    "data.sort_values(by = 'ride_length')"
   ]
  },
  {
   "cell_type": "code",
   "execution_count": 9,
   "metadata": {},
   "outputs": [
    {
     "data": {
      "text/html": [
       "<div>\n",
       "<style scoped>\n",
       "    .dataframe tbody tr th:only-of-type {\n",
       "        vertical-align: middle;\n",
       "    }\n",
       "\n",
       "    .dataframe tbody tr th {\n",
       "        vertical-align: top;\n",
       "    }\n",
       "\n",
       "    .dataframe thead th {\n",
       "        text-align: right;\n",
       "    }\n",
       "</style>\n",
       "<table border=\"1\" class=\"dataframe\">\n",
       "  <thead>\n",
       "    <tr style=\"text-align: right;\">\n",
       "      <th></th>\n",
       "      <th>ride_id</th>\n",
       "      <th>rideable_type</th>\n",
       "      <th>started_at</th>\n",
       "      <th>ended_at</th>\n",
       "      <th>start_station_name</th>\n",
       "      <th>start_station_id</th>\n",
       "      <th>end_station_name</th>\n",
       "      <th>end_station_id</th>\n",
       "      <th>start_lat</th>\n",
       "      <th>start_lng</th>\n",
       "      <th>end_lat</th>\n",
       "      <th>end_lng</th>\n",
       "      <th>member_casual</th>\n",
       "      <th>ride_length</th>\n",
       "      <th>day_of_week</th>\n",
       "    </tr>\n",
       "  </thead>\n",
       "  <tbody>\n",
       "    <tr>\n",
       "      <th>0</th>\n",
       "      <td>F96D5A74A3E41399</td>\n",
       "      <td>electric_bike</td>\n",
       "      <td>2023-01-21 20:05:00</td>\n",
       "      <td>2023-01-21 20:16:00</td>\n",
       "      <td>Lincoln Ave &amp; Fullerton Ave</td>\n",
       "      <td>TA1309000058</td>\n",
       "      <td>Hampden Ct &amp; Diversey Ave</td>\n",
       "      <td>202480</td>\n",
       "      <td>41.924074</td>\n",
       "      <td>-87.646278</td>\n",
       "      <td>41.930000</td>\n",
       "      <td>-87.640000</td>\n",
       "      <td>member</td>\n",
       "      <td>11</td>\n",
       "      <td>7.0</td>\n",
       "    </tr>\n",
       "    <tr>\n",
       "      <th>1</th>\n",
       "      <td>13CB7EB698CEDB88</td>\n",
       "      <td>classic_bike</td>\n",
       "      <td>2023-01-10 15:37:00</td>\n",
       "      <td>2023-01-10 15:46:00</td>\n",
       "      <td>Kimbark Ave &amp; 53rd St</td>\n",
       "      <td>TA1309000037</td>\n",
       "      <td>Greenwood Ave &amp; 47th St</td>\n",
       "      <td>TA1308000002</td>\n",
       "      <td>41.799568</td>\n",
       "      <td>-87.594747</td>\n",
       "      <td>41.809835</td>\n",
       "      <td>-87.599383</td>\n",
       "      <td>member</td>\n",
       "      <td>9</td>\n",
       "      <td>3.0</td>\n",
       "    </tr>\n",
       "    <tr>\n",
       "      <th>2</th>\n",
       "      <td>BD88A2E670661CE5</td>\n",
       "      <td>electric_bike</td>\n",
       "      <td>2023-01-02 07:51:00</td>\n",
       "      <td>2023-01-02 08:05:00</td>\n",
       "      <td>Western Ave &amp; Lunt Ave</td>\n",
       "      <td>RP-005</td>\n",
       "      <td>Valli Produce - Evanston Plaza</td>\n",
       "      <td>599</td>\n",
       "      <td>42.008571</td>\n",
       "      <td>-87.690483</td>\n",
       "      <td>42.039742</td>\n",
       "      <td>-87.699413</td>\n",
       "      <td>casual</td>\n",
       "      <td>14</td>\n",
       "      <td>2.0</td>\n",
       "    </tr>\n",
       "    <tr>\n",
       "      <th>3</th>\n",
       "      <td>C90792D034FED968</td>\n",
       "      <td>classic_bike</td>\n",
       "      <td>2023-01-22 10:52:00</td>\n",
       "      <td>2023-01-22 11:01:00</td>\n",
       "      <td>Kimbark Ave &amp; 53rd St</td>\n",
       "      <td>TA1309000037</td>\n",
       "      <td>Greenwood Ave &amp; 47th St</td>\n",
       "      <td>TA1308000002</td>\n",
       "      <td>41.799568</td>\n",
       "      <td>-87.594747</td>\n",
       "      <td>41.809835</td>\n",
       "      <td>-87.599383</td>\n",
       "      <td>member</td>\n",
       "      <td>9</td>\n",
       "      <td>1.0</td>\n",
       "    </tr>\n",
       "    <tr>\n",
       "      <th>4</th>\n",
       "      <td>3397017529188E8A</td>\n",
       "      <td>classic_bike</td>\n",
       "      <td>2023-01-12 13:58:00</td>\n",
       "      <td>2023-01-12 14:13:00</td>\n",
       "      <td>Kimbark Ave &amp; 53rd St</td>\n",
       "      <td>TA1309000037</td>\n",
       "      <td>Greenwood Ave &amp; 47th St</td>\n",
       "      <td>TA1308000002</td>\n",
       "      <td>41.799568</td>\n",
       "      <td>-87.594747</td>\n",
       "      <td>41.809835</td>\n",
       "      <td>-87.599383</td>\n",
       "      <td>member</td>\n",
       "      <td>15</td>\n",
       "      <td>5.0</td>\n",
       "    </tr>\n",
       "    <tr>\n",
       "      <th>...</th>\n",
       "      <td>...</td>\n",
       "      <td>...</td>\n",
       "      <td>...</td>\n",
       "      <td>...</td>\n",
       "      <td>...</td>\n",
       "      <td>...</td>\n",
       "      <td>...</td>\n",
       "      <td>...</td>\n",
       "      <td>...</td>\n",
       "      <td>...</td>\n",
       "      <td>...</td>\n",
       "      <td>...</td>\n",
       "      <td>...</td>\n",
       "      <td>...</td>\n",
       "      <td>...</td>\n",
       "    </tr>\n",
       "    <tr>\n",
       "      <th>2181494</th>\n",
       "      <td>AD99B5E3EF5681C9</td>\n",
       "      <td>classic_bike</td>\n",
       "      <td>2023-11-02 18:09:00</td>\n",
       "      <td>2023-11-02 18:34:00</td>\n",
       "      <td>Campbell Ave &amp; Montrose Ave</td>\n",
       "      <td>15623</td>\n",
       "      <td>Kedzie Ave &amp; Palmer Ct</td>\n",
       "      <td>13292</td>\n",
       "      <td>41.961524</td>\n",
       "      <td>-87.691177</td>\n",
       "      <td>41.921525</td>\n",
       "      <td>-87.707322</td>\n",
       "      <td>member</td>\n",
       "      <td>25</td>\n",
       "      <td>5.0</td>\n",
       "    </tr>\n",
       "    <tr>\n",
       "      <th>2181495</th>\n",
       "      <td>EE433892E8123B26</td>\n",
       "      <td>classic_bike</td>\n",
       "      <td>2023-11-10 13:25:00</td>\n",
       "      <td>2023-11-10 13:29:00</td>\n",
       "      <td>California Ave &amp; Milwaukee Ave</td>\n",
       "      <td>13084</td>\n",
       "      <td>Kedzie Ave &amp; Palmer Ct</td>\n",
       "      <td>13292</td>\n",
       "      <td>41.922695</td>\n",
       "      <td>-87.697153</td>\n",
       "      <td>41.921525</td>\n",
       "      <td>-87.707322</td>\n",
       "      <td>member</td>\n",
       "      <td>4</td>\n",
       "      <td>6.0</td>\n",
       "    </tr>\n",
       "    <tr>\n",
       "      <th>2181496</th>\n",
       "      <td>DA6305C45F85874D</td>\n",
       "      <td>classic_bike</td>\n",
       "      <td>2023-11-11 13:47:00</td>\n",
       "      <td>2023-11-11 14:06:00</td>\n",
       "      <td>California Ave &amp; Milwaukee Ave</td>\n",
       "      <td>13084</td>\n",
       "      <td>Ashland Ave &amp; Grand Ave</td>\n",
       "      <td>13434</td>\n",
       "      <td>41.922695</td>\n",
       "      <td>-87.697153</td>\n",
       "      <td>41.891072</td>\n",
       "      <td>-87.666611</td>\n",
       "      <td>casual</td>\n",
       "      <td>19</td>\n",
       "      <td>7.0</td>\n",
       "    </tr>\n",
       "    <tr>\n",
       "      <th>2181497</th>\n",
       "      <td>B464EAD240A7FF40</td>\n",
       "      <td>classic_bike</td>\n",
       "      <td>2023-11-13 14:52:00</td>\n",
       "      <td>2023-11-13 14:57:00</td>\n",
       "      <td>California Ave &amp; Milwaukee Ave</td>\n",
       "      <td>13084</td>\n",
       "      <td>Kedzie Ave &amp; Palmer Ct</td>\n",
       "      <td>13292</td>\n",
       "      <td>41.922695</td>\n",
       "      <td>-87.697153</td>\n",
       "      <td>41.921525</td>\n",
       "      <td>-87.707322</td>\n",
       "      <td>casual</td>\n",
       "      <td>5</td>\n",
       "      <td>2.0</td>\n",
       "    </tr>\n",
       "    <tr>\n",
       "      <th>2181498</th>\n",
       "      <td>4F725B7BC9E8C855</td>\n",
       "      <td>electric_bike</td>\n",
       "      <td>2023-11-25 17:07:00</td>\n",
       "      <td>2023-11-25 17:20:00</td>\n",
       "      <td>Wood St &amp; Chicago Ave</td>\n",
       "      <td>637</td>\n",
       "      <td>Kedzie Ave &amp; Palmer Ct</td>\n",
       "      <td>13292</td>\n",
       "      <td>41.895667</td>\n",
       "      <td>-87.672266</td>\n",
       "      <td>41.921525</td>\n",
       "      <td>-87.707322</td>\n",
       "      <td>member</td>\n",
       "      <td>13</td>\n",
       "      <td>7.0</td>\n",
       "    </tr>\n",
       "  </tbody>\n",
       "</table>\n",
       "<p>2181499 rows × 15 columns</p>\n",
       "</div>"
      ],
      "text/plain": [
       "                  ride_id  rideable_type          started_at  \\\n",
       "0        F96D5A74A3E41399  electric_bike 2023-01-21 20:05:00   \n",
       "1        13CB7EB698CEDB88   classic_bike 2023-01-10 15:37:00   \n",
       "2        BD88A2E670661CE5  electric_bike 2023-01-02 07:51:00   \n",
       "3        C90792D034FED968   classic_bike 2023-01-22 10:52:00   \n",
       "4        3397017529188E8A   classic_bike 2023-01-12 13:58:00   \n",
       "...                   ...            ...                 ...   \n",
       "2181494  AD99B5E3EF5681C9   classic_bike 2023-11-02 18:09:00   \n",
       "2181495  EE433892E8123B26   classic_bike 2023-11-10 13:25:00   \n",
       "2181496  DA6305C45F85874D   classic_bike 2023-11-11 13:47:00   \n",
       "2181497  B464EAD240A7FF40   classic_bike 2023-11-13 14:52:00   \n",
       "2181498  4F725B7BC9E8C855  electric_bike 2023-11-25 17:07:00   \n",
       "\n",
       "                   ended_at              start_station_name start_station_id  \\\n",
       "0       2023-01-21 20:16:00     Lincoln Ave & Fullerton Ave     TA1309000058   \n",
       "1       2023-01-10 15:46:00           Kimbark Ave & 53rd St     TA1309000037   \n",
       "2       2023-01-02 08:05:00          Western Ave & Lunt Ave           RP-005   \n",
       "3       2023-01-22 11:01:00           Kimbark Ave & 53rd St     TA1309000037   \n",
       "4       2023-01-12 14:13:00           Kimbark Ave & 53rd St     TA1309000037   \n",
       "...                     ...                             ...              ...   \n",
       "2181494 2023-11-02 18:34:00     Campbell Ave & Montrose Ave            15623   \n",
       "2181495 2023-11-10 13:29:00  California Ave & Milwaukee Ave            13084   \n",
       "2181496 2023-11-11 14:06:00  California Ave & Milwaukee Ave            13084   \n",
       "2181497 2023-11-13 14:57:00  California Ave & Milwaukee Ave            13084   \n",
       "2181498 2023-11-25 17:20:00           Wood St & Chicago Ave              637   \n",
       "\n",
       "                       end_station_name end_station_id  start_lat  start_lng  \\\n",
       "0             Hampden Ct & Diversey Ave         202480  41.924074 -87.646278   \n",
       "1               Greenwood Ave & 47th St   TA1308000002  41.799568 -87.594747   \n",
       "2        Valli Produce - Evanston Plaza            599  42.008571 -87.690483   \n",
       "3               Greenwood Ave & 47th St   TA1308000002  41.799568 -87.594747   \n",
       "4               Greenwood Ave & 47th St   TA1308000002  41.799568 -87.594747   \n",
       "...                                 ...            ...        ...        ...   \n",
       "2181494          Kedzie Ave & Palmer Ct          13292  41.961524 -87.691177   \n",
       "2181495          Kedzie Ave & Palmer Ct          13292  41.922695 -87.697153   \n",
       "2181496         Ashland Ave & Grand Ave          13434  41.922695 -87.697153   \n",
       "2181497          Kedzie Ave & Palmer Ct          13292  41.922695 -87.697153   \n",
       "2181498          Kedzie Ave & Palmer Ct          13292  41.895667 -87.672266   \n",
       "\n",
       "           end_lat    end_lng member_casual  ride_length  day_of_week  \n",
       "0        41.930000 -87.640000        member           11          7.0  \n",
       "1        41.809835 -87.599383        member            9          3.0  \n",
       "2        42.039742 -87.699413        casual           14          2.0  \n",
       "3        41.809835 -87.599383        member            9          1.0  \n",
       "4        41.809835 -87.599383        member           15          5.0  \n",
       "...            ...        ...           ...          ...          ...  \n",
       "2181494  41.921525 -87.707322        member           25          5.0  \n",
       "2181495  41.921525 -87.707322        member            4          6.0  \n",
       "2181496  41.891072 -87.666611        casual           19          7.0  \n",
       "2181497  41.921525 -87.707322        casual            5          2.0  \n",
       "2181498  41.921525 -87.707322        member           13          7.0  \n",
       "\n",
       "[2181499 rows x 15 columns]"
      ]
     },
     "execution_count": 9,
     "metadata": {},
     "output_type": "execute_result"
    }
   ],
   "source": [
    "# Removing rows containing negative values\n",
    "data = data[data['ride_length'] > 0]\n",
    "data = data.reset_index()\n",
    "data = data.drop(columns=['index'])\n",
    " \n",
    "data"
   ]
  },
  {
   "cell_type": "code",
   "execution_count": 10,
   "metadata": {},
   "outputs": [
    {
     "data": {
      "text/plain": [
       "0          Saturday\n",
       "1           Tuesday\n",
       "2            Monday\n",
       "3            Sunday\n",
       "4          Thursday\n",
       "             ...   \n",
       "2181494    Thursday\n",
       "2181495      Friday\n",
       "2181496    Saturday\n",
       "2181497      Monday\n",
       "2181498    Saturday\n",
       "Name: started_at, Length: 2181499, dtype: object"
      ]
     },
     "execution_count": 10,
     "metadata": {},
     "output_type": "execute_result"
    }
   ],
   "source": [
    "# Using the dt.day_name() to get the name of the day to each date\n",
    "\n",
    "data[\"started_at\"].dt.day_name()"
   ]
  },
  {
   "cell_type": "code",
   "execution_count": 11,
   "metadata": {},
   "outputs": [
    {
     "data": {
      "text/plain": [
       "0           1\n",
       "1           1\n",
       "2           1\n",
       "3           1\n",
       "4           1\n",
       "           ..\n",
       "2181494    11\n",
       "2181495    11\n",
       "2181496    11\n",
       "2181497    11\n",
       "2181498    11\n",
       "Name: started_at, Length: 2181499, dtype: int32"
      ]
     },
     "execution_count": 11,
     "metadata": {},
     "output_type": "execute_result"
    }
   ],
   "source": [
    "# df['month_of_date'] = df['date_given'].dt.month\n",
    "\n",
    "data[\"started_at\"].dt.month"
   ]
  },
  {
   "cell_type": "code",
   "execution_count": 12,
   "metadata": {},
   "outputs": [
    {
     "data": {
      "text/plain": [
       "0           January\n",
       "1           January\n",
       "2           January\n",
       "3           January\n",
       "4           January\n",
       "             ...   \n",
       "2181494    November\n",
       "2181495    November\n",
       "2181496    November\n",
       "2181497    November\n",
       "2181498    November\n",
       "Name: started_at, Length: 2181499, dtype: object"
      ]
     },
     "execution_count": 12,
     "metadata": {},
     "output_type": "execute_result"
    }
   ],
   "source": [
    "# Using the dt.month_name to see the months of each date\n",
    "# later we will assign it into a new column\n",
    "\n",
    "data[\"started_at\"].dt.month_name()"
   ]
  },
  {
   "cell_type": "code",
   "execution_count": 13,
   "metadata": {},
   "outputs": [
    {
     "data": {
      "text/plain": [
       "0          21\n",
       "1          10\n",
       "2           2\n",
       "3          22\n",
       "4          12\n",
       "           ..\n",
       "2181494     2\n",
       "2181495    10\n",
       "2181496    11\n",
       "2181497    13\n",
       "2181498    25\n",
       "Name: started_at, Length: 2181499, dtype: int32"
      ]
     },
     "execution_count": 13,
     "metadata": {},
     "output_type": "execute_result"
    }
   ],
   "source": [
    "# Extracting the specific day\n",
    "\n",
    "data[\"started_at\"].dt.day"
   ]
  },
  {
   "cell_type": "code",
   "execution_count": 14,
   "metadata": {},
   "outputs": [
    {
     "data": {
      "text/plain": [
       "0          2023\n",
       "1          2023\n",
       "2          2023\n",
       "3          2023\n",
       "4          2023\n",
       "           ... \n",
       "2181494    2023\n",
       "2181495    2023\n",
       "2181496    2023\n",
       "2181497    2023\n",
       "2181498    2023\n",
       "Name: started_at, Length: 2181499, dtype: int32"
      ]
     },
     "execution_count": 14,
     "metadata": {},
     "output_type": "execute_result"
    }
   ],
   "source": [
    "# Now taking the year this \"dt.\" is kind a library to manipulate date\n",
    "\n",
    "data[\"started_at\"].dt.year"
   ]
  },
  {
   "cell_type": "code",
   "execution_count": 15,
   "metadata": {},
   "outputs": [
    {
     "data": {
      "text/html": [
       "<div>\n",
       "<style scoped>\n",
       "    .dataframe tbody tr th:only-of-type {\n",
       "        vertical-align: middle;\n",
       "    }\n",
       "\n",
       "    .dataframe tbody tr th {\n",
       "        vertical-align: top;\n",
       "    }\n",
       "\n",
       "    .dataframe thead th {\n",
       "        text-align: right;\n",
       "    }\n",
       "</style>\n",
       "<table border=\"1\" class=\"dataframe\">\n",
       "  <thead>\n",
       "    <tr style=\"text-align: right;\">\n",
       "      <th></th>\n",
       "      <th>ride_id</th>\n",
       "      <th>rideable_type</th>\n",
       "      <th>started_at</th>\n",
       "      <th>ended_at</th>\n",
       "      <th>start_station_name</th>\n",
       "      <th>start_station_id</th>\n",
       "      <th>end_station_name</th>\n",
       "      <th>end_station_id</th>\n",
       "      <th>start_lat</th>\n",
       "      <th>start_lng</th>\n",
       "      <th>end_lat</th>\n",
       "      <th>end_lng</th>\n",
       "      <th>member_casual</th>\n",
       "      <th>ride_length</th>\n",
       "      <th>day_of_week</th>\n",
       "      <th>weekday</th>\n",
       "      <th>day</th>\n",
       "      <th>month</th>\n",
       "      <th>month_name</th>\n",
       "      <th>year</th>\n",
       "    </tr>\n",
       "  </thead>\n",
       "  <tbody>\n",
       "    <tr>\n",
       "      <th>0</th>\n",
       "      <td>F96D5A74A3E41399</td>\n",
       "      <td>electric_bike</td>\n",
       "      <td>2023-01-21 20:05:00</td>\n",
       "      <td>2023-01-21 20:16:00</td>\n",
       "      <td>Lincoln Ave &amp; Fullerton Ave</td>\n",
       "      <td>TA1309000058</td>\n",
       "      <td>Hampden Ct &amp; Diversey Ave</td>\n",
       "      <td>202480</td>\n",
       "      <td>41.924074</td>\n",
       "      <td>-87.646278</td>\n",
       "      <td>41.930000</td>\n",
       "      <td>-87.640000</td>\n",
       "      <td>member</td>\n",
       "      <td>11</td>\n",
       "      <td>7.0</td>\n",
       "      <td>Saturday</td>\n",
       "      <td>21</td>\n",
       "      <td>1</td>\n",
       "      <td>January</td>\n",
       "      <td>2023</td>\n",
       "    </tr>\n",
       "    <tr>\n",
       "      <th>1</th>\n",
       "      <td>13CB7EB698CEDB88</td>\n",
       "      <td>classic_bike</td>\n",
       "      <td>2023-01-10 15:37:00</td>\n",
       "      <td>2023-01-10 15:46:00</td>\n",
       "      <td>Kimbark Ave &amp; 53rd St</td>\n",
       "      <td>TA1309000037</td>\n",
       "      <td>Greenwood Ave &amp; 47th St</td>\n",
       "      <td>TA1308000002</td>\n",
       "      <td>41.799568</td>\n",
       "      <td>-87.594747</td>\n",
       "      <td>41.809835</td>\n",
       "      <td>-87.599383</td>\n",
       "      <td>member</td>\n",
       "      <td>9</td>\n",
       "      <td>3.0</td>\n",
       "      <td>Tuesday</td>\n",
       "      <td>10</td>\n",
       "      <td>1</td>\n",
       "      <td>January</td>\n",
       "      <td>2023</td>\n",
       "    </tr>\n",
       "    <tr>\n",
       "      <th>2</th>\n",
       "      <td>BD88A2E670661CE5</td>\n",
       "      <td>electric_bike</td>\n",
       "      <td>2023-01-02 07:51:00</td>\n",
       "      <td>2023-01-02 08:05:00</td>\n",
       "      <td>Western Ave &amp; Lunt Ave</td>\n",
       "      <td>RP-005</td>\n",
       "      <td>Valli Produce - Evanston Plaza</td>\n",
       "      <td>599</td>\n",
       "      <td>42.008571</td>\n",
       "      <td>-87.690483</td>\n",
       "      <td>42.039742</td>\n",
       "      <td>-87.699413</td>\n",
       "      <td>casual</td>\n",
       "      <td>14</td>\n",
       "      <td>2.0</td>\n",
       "      <td>Monday</td>\n",
       "      <td>2</td>\n",
       "      <td>1</td>\n",
       "      <td>January</td>\n",
       "      <td>2023</td>\n",
       "    </tr>\n",
       "    <tr>\n",
       "      <th>3</th>\n",
       "      <td>C90792D034FED968</td>\n",
       "      <td>classic_bike</td>\n",
       "      <td>2023-01-22 10:52:00</td>\n",
       "      <td>2023-01-22 11:01:00</td>\n",
       "      <td>Kimbark Ave &amp; 53rd St</td>\n",
       "      <td>TA1309000037</td>\n",
       "      <td>Greenwood Ave &amp; 47th St</td>\n",
       "      <td>TA1308000002</td>\n",
       "      <td>41.799568</td>\n",
       "      <td>-87.594747</td>\n",
       "      <td>41.809835</td>\n",
       "      <td>-87.599383</td>\n",
       "      <td>member</td>\n",
       "      <td>9</td>\n",
       "      <td>1.0</td>\n",
       "      <td>Sunday</td>\n",
       "      <td>22</td>\n",
       "      <td>1</td>\n",
       "      <td>January</td>\n",
       "      <td>2023</td>\n",
       "    </tr>\n",
       "    <tr>\n",
       "      <th>4</th>\n",
       "      <td>3397017529188E8A</td>\n",
       "      <td>classic_bike</td>\n",
       "      <td>2023-01-12 13:58:00</td>\n",
       "      <td>2023-01-12 14:13:00</td>\n",
       "      <td>Kimbark Ave &amp; 53rd St</td>\n",
       "      <td>TA1309000037</td>\n",
       "      <td>Greenwood Ave &amp; 47th St</td>\n",
       "      <td>TA1308000002</td>\n",
       "      <td>41.799568</td>\n",
       "      <td>-87.594747</td>\n",
       "      <td>41.809835</td>\n",
       "      <td>-87.599383</td>\n",
       "      <td>member</td>\n",
       "      <td>15</td>\n",
       "      <td>5.0</td>\n",
       "      <td>Thursday</td>\n",
       "      <td>12</td>\n",
       "      <td>1</td>\n",
       "      <td>January</td>\n",
       "      <td>2023</td>\n",
       "    </tr>\n",
       "    <tr>\n",
       "      <th>...</th>\n",
       "      <td>...</td>\n",
       "      <td>...</td>\n",
       "      <td>...</td>\n",
       "      <td>...</td>\n",
       "      <td>...</td>\n",
       "      <td>...</td>\n",
       "      <td>...</td>\n",
       "      <td>...</td>\n",
       "      <td>...</td>\n",
       "      <td>...</td>\n",
       "      <td>...</td>\n",
       "      <td>...</td>\n",
       "      <td>...</td>\n",
       "      <td>...</td>\n",
       "      <td>...</td>\n",
       "      <td>...</td>\n",
       "      <td>...</td>\n",
       "      <td>...</td>\n",
       "      <td>...</td>\n",
       "      <td>...</td>\n",
       "    </tr>\n",
       "    <tr>\n",
       "      <th>2181494</th>\n",
       "      <td>AD99B5E3EF5681C9</td>\n",
       "      <td>classic_bike</td>\n",
       "      <td>2023-11-02 18:09:00</td>\n",
       "      <td>2023-11-02 18:34:00</td>\n",
       "      <td>Campbell Ave &amp; Montrose Ave</td>\n",
       "      <td>15623</td>\n",
       "      <td>Kedzie Ave &amp; Palmer Ct</td>\n",
       "      <td>13292</td>\n",
       "      <td>41.961524</td>\n",
       "      <td>-87.691177</td>\n",
       "      <td>41.921525</td>\n",
       "      <td>-87.707322</td>\n",
       "      <td>member</td>\n",
       "      <td>25</td>\n",
       "      <td>5.0</td>\n",
       "      <td>Thursday</td>\n",
       "      <td>2</td>\n",
       "      <td>11</td>\n",
       "      <td>November</td>\n",
       "      <td>2023</td>\n",
       "    </tr>\n",
       "    <tr>\n",
       "      <th>2181495</th>\n",
       "      <td>EE433892E8123B26</td>\n",
       "      <td>classic_bike</td>\n",
       "      <td>2023-11-10 13:25:00</td>\n",
       "      <td>2023-11-10 13:29:00</td>\n",
       "      <td>California Ave &amp; Milwaukee Ave</td>\n",
       "      <td>13084</td>\n",
       "      <td>Kedzie Ave &amp; Palmer Ct</td>\n",
       "      <td>13292</td>\n",
       "      <td>41.922695</td>\n",
       "      <td>-87.697153</td>\n",
       "      <td>41.921525</td>\n",
       "      <td>-87.707322</td>\n",
       "      <td>member</td>\n",
       "      <td>4</td>\n",
       "      <td>6.0</td>\n",
       "      <td>Friday</td>\n",
       "      <td>10</td>\n",
       "      <td>11</td>\n",
       "      <td>November</td>\n",
       "      <td>2023</td>\n",
       "    </tr>\n",
       "    <tr>\n",
       "      <th>2181496</th>\n",
       "      <td>DA6305C45F85874D</td>\n",
       "      <td>classic_bike</td>\n",
       "      <td>2023-11-11 13:47:00</td>\n",
       "      <td>2023-11-11 14:06:00</td>\n",
       "      <td>California Ave &amp; Milwaukee Ave</td>\n",
       "      <td>13084</td>\n",
       "      <td>Ashland Ave &amp; Grand Ave</td>\n",
       "      <td>13434</td>\n",
       "      <td>41.922695</td>\n",
       "      <td>-87.697153</td>\n",
       "      <td>41.891072</td>\n",
       "      <td>-87.666611</td>\n",
       "      <td>casual</td>\n",
       "      <td>19</td>\n",
       "      <td>7.0</td>\n",
       "      <td>Saturday</td>\n",
       "      <td>11</td>\n",
       "      <td>11</td>\n",
       "      <td>November</td>\n",
       "      <td>2023</td>\n",
       "    </tr>\n",
       "    <tr>\n",
       "      <th>2181497</th>\n",
       "      <td>B464EAD240A7FF40</td>\n",
       "      <td>classic_bike</td>\n",
       "      <td>2023-11-13 14:52:00</td>\n",
       "      <td>2023-11-13 14:57:00</td>\n",
       "      <td>California Ave &amp; Milwaukee Ave</td>\n",
       "      <td>13084</td>\n",
       "      <td>Kedzie Ave &amp; Palmer Ct</td>\n",
       "      <td>13292</td>\n",
       "      <td>41.922695</td>\n",
       "      <td>-87.697153</td>\n",
       "      <td>41.921525</td>\n",
       "      <td>-87.707322</td>\n",
       "      <td>casual</td>\n",
       "      <td>5</td>\n",
       "      <td>2.0</td>\n",
       "      <td>Monday</td>\n",
       "      <td>13</td>\n",
       "      <td>11</td>\n",
       "      <td>November</td>\n",
       "      <td>2023</td>\n",
       "    </tr>\n",
       "    <tr>\n",
       "      <th>2181498</th>\n",
       "      <td>4F725B7BC9E8C855</td>\n",
       "      <td>electric_bike</td>\n",
       "      <td>2023-11-25 17:07:00</td>\n",
       "      <td>2023-11-25 17:20:00</td>\n",
       "      <td>Wood St &amp; Chicago Ave</td>\n",
       "      <td>637</td>\n",
       "      <td>Kedzie Ave &amp; Palmer Ct</td>\n",
       "      <td>13292</td>\n",
       "      <td>41.895667</td>\n",
       "      <td>-87.672266</td>\n",
       "      <td>41.921525</td>\n",
       "      <td>-87.707322</td>\n",
       "      <td>member</td>\n",
       "      <td>13</td>\n",
       "      <td>7.0</td>\n",
       "      <td>Saturday</td>\n",
       "      <td>25</td>\n",
       "      <td>11</td>\n",
       "      <td>November</td>\n",
       "      <td>2023</td>\n",
       "    </tr>\n",
       "  </tbody>\n",
       "</table>\n",
       "<p>2181499 rows × 20 columns</p>\n",
       "</div>"
      ],
      "text/plain": [
       "                  ride_id  rideable_type          started_at  \\\n",
       "0        F96D5A74A3E41399  electric_bike 2023-01-21 20:05:00   \n",
       "1        13CB7EB698CEDB88   classic_bike 2023-01-10 15:37:00   \n",
       "2        BD88A2E670661CE5  electric_bike 2023-01-02 07:51:00   \n",
       "3        C90792D034FED968   classic_bike 2023-01-22 10:52:00   \n",
       "4        3397017529188E8A   classic_bike 2023-01-12 13:58:00   \n",
       "...                   ...            ...                 ...   \n",
       "2181494  AD99B5E3EF5681C9   classic_bike 2023-11-02 18:09:00   \n",
       "2181495  EE433892E8123B26   classic_bike 2023-11-10 13:25:00   \n",
       "2181496  DA6305C45F85874D   classic_bike 2023-11-11 13:47:00   \n",
       "2181497  B464EAD240A7FF40   classic_bike 2023-11-13 14:52:00   \n",
       "2181498  4F725B7BC9E8C855  electric_bike 2023-11-25 17:07:00   \n",
       "\n",
       "                   ended_at              start_station_name start_station_id  \\\n",
       "0       2023-01-21 20:16:00     Lincoln Ave & Fullerton Ave     TA1309000058   \n",
       "1       2023-01-10 15:46:00           Kimbark Ave & 53rd St     TA1309000037   \n",
       "2       2023-01-02 08:05:00          Western Ave & Lunt Ave           RP-005   \n",
       "3       2023-01-22 11:01:00           Kimbark Ave & 53rd St     TA1309000037   \n",
       "4       2023-01-12 14:13:00           Kimbark Ave & 53rd St     TA1309000037   \n",
       "...                     ...                             ...              ...   \n",
       "2181494 2023-11-02 18:34:00     Campbell Ave & Montrose Ave            15623   \n",
       "2181495 2023-11-10 13:29:00  California Ave & Milwaukee Ave            13084   \n",
       "2181496 2023-11-11 14:06:00  California Ave & Milwaukee Ave            13084   \n",
       "2181497 2023-11-13 14:57:00  California Ave & Milwaukee Ave            13084   \n",
       "2181498 2023-11-25 17:20:00           Wood St & Chicago Ave              637   \n",
       "\n",
       "                       end_station_name end_station_id  start_lat  start_lng  \\\n",
       "0             Hampden Ct & Diversey Ave         202480  41.924074 -87.646278   \n",
       "1               Greenwood Ave & 47th St   TA1308000002  41.799568 -87.594747   \n",
       "2        Valli Produce - Evanston Plaza            599  42.008571 -87.690483   \n",
       "3               Greenwood Ave & 47th St   TA1308000002  41.799568 -87.594747   \n",
       "4               Greenwood Ave & 47th St   TA1308000002  41.799568 -87.594747   \n",
       "...                                 ...            ...        ...        ...   \n",
       "2181494          Kedzie Ave & Palmer Ct          13292  41.961524 -87.691177   \n",
       "2181495          Kedzie Ave & Palmer Ct          13292  41.922695 -87.697153   \n",
       "2181496         Ashland Ave & Grand Ave          13434  41.922695 -87.697153   \n",
       "2181497          Kedzie Ave & Palmer Ct          13292  41.922695 -87.697153   \n",
       "2181498          Kedzie Ave & Palmer Ct          13292  41.895667 -87.672266   \n",
       "\n",
       "           end_lat    end_lng member_casual  ride_length  day_of_week  \\\n",
       "0        41.930000 -87.640000        member           11          7.0   \n",
       "1        41.809835 -87.599383        member            9          3.0   \n",
       "2        42.039742 -87.699413        casual           14          2.0   \n",
       "3        41.809835 -87.599383        member            9          1.0   \n",
       "4        41.809835 -87.599383        member           15          5.0   \n",
       "...            ...        ...           ...          ...          ...   \n",
       "2181494  41.921525 -87.707322        member           25          5.0   \n",
       "2181495  41.921525 -87.707322        member            4          6.0   \n",
       "2181496  41.891072 -87.666611        casual           19          7.0   \n",
       "2181497  41.921525 -87.707322        casual            5          2.0   \n",
       "2181498  41.921525 -87.707322        member           13          7.0   \n",
       "\n",
       "          weekday  day  month month_name  year  \n",
       "0        Saturday   21      1    January  2023  \n",
       "1         Tuesday   10      1    January  2023  \n",
       "2          Monday    2      1    January  2023  \n",
       "3          Sunday   22      1    January  2023  \n",
       "4        Thursday   12      1    January  2023  \n",
       "...           ...  ...    ...        ...   ...  \n",
       "2181494  Thursday    2     11   November  2023  \n",
       "2181495    Friday   10     11   November  2023  \n",
       "2181496  Saturday   11     11   November  2023  \n",
       "2181497    Monday   13     11   November  2023  \n",
       "2181498  Saturday   25     11   November  2023  \n",
       "\n",
       "[2181499 rows x 20 columns]"
      ]
     },
     "execution_count": 15,
     "metadata": {},
     "output_type": "execute_result"
    }
   ],
   "source": [
    "#Create and insert new columns\n",
    "data[\"weekday\"] = data[\"started_at\"].dt.day_name()\n",
    "data[\"day\"] = data[\"started_at\"].dt.day\n",
    "data[\"month\"] = data[\"started_at\"].dt.month\n",
    "data[\"month_name\"] = data[\"started_at\"].dt.month_name()\n",
    "data[\"year\"] = data[\"started_at\"].dt.year\n",
    "\n",
    "\n",
    "data"
   ]
  },
  {
   "cell_type": "code",
   "execution_count": 16,
   "metadata": {},
   "outputs": [
    {
     "data": {
      "text/plain": [
       "ride_id               2181498\n",
       "rideable_type               3\n",
       "started_at             343511\n",
       "ended_at               343650\n",
       "start_station_name       1428\n",
       "start_station_id         1374\n",
       "end_station_name         1446\n",
       "end_station_id           1389\n",
       "start_lat              466249\n",
       "start_lng              448235\n",
       "end_lat                  4445\n",
       "end_lng                  4457\n",
       "member_casual               2\n",
       "ride_length              1311\n",
       "day_of_week                 7\n",
       "weekday                     7\n",
       "day                        31\n",
       "month                      10\n",
       "month_name                 10\n",
       "year                        1\n",
       "dtype: int64"
      ]
     },
     "execution_count": 16,
     "metadata": {},
     "output_type": "execute_result"
    }
   ],
   "source": [
    "# Checking the number of unique values for each column.\n",
    "data.nunique()"
   ]
  },
  {
   "cell_type": "code",
   "execution_count": 17,
   "metadata": {},
   "outputs": [
    {
     "data": {
      "text/plain": [
       "1"
      ]
     },
     "execution_count": 17,
     "metadata": {},
     "output_type": "execute_result"
    }
   ],
   "source": [
    "# Using the duplicated() function combined with the sum() to have the total number of duplicated values\n",
    "\n",
    "data[\"ride_id\"].duplicated().sum()"
   ]
  },
  {
   "cell_type": "code",
   "execution_count": 18,
   "metadata": {},
   "outputs": [],
   "source": [
    "data_cleaned = data"
   ]
  },
  {
   "cell_type": "code",
   "execution_count": 19,
   "metadata": {},
   "outputs": [],
   "source": [
    "# df.to_csv(\"your_name.csv\")\n",
    "\n",
    "data_cleaned.to_csv(\"data_clean.csv\")"
   ]
  },
  {
   "cell_type": "markdown",
   "metadata": {},
   "source": [
    "PHASE 4: ANALYZE"
   ]
  },
  {
   "cell_type": "code",
   "execution_count": 20,
   "metadata": {},
   "outputs": [
    {
     "name": "stdout",
     "output_type": "stream",
     "text": [
      "<class 'pandas.core.frame.DataFrame'>\n",
      "RangeIndex: 2181499 entries, 0 to 2181498\n",
      "Data columns (total 20 columns):\n",
      " #   Column              Dtype         \n",
      "---  ------              -----         \n",
      " 0   ride_id             object        \n",
      " 1   rideable_type       object        \n",
      " 2   started_at          datetime64[ns]\n",
      " 3   ended_at            datetime64[ns]\n",
      " 4   start_station_name  object        \n",
      " 5   start_station_id    object        \n",
      " 6   end_station_name    object        \n",
      " 7   end_station_id      object        \n",
      " 8   start_lat           float64       \n",
      " 9   start_lng           float64       \n",
      " 10  end_lat             float64       \n",
      " 11  end_lng             float64       \n",
      " 12  member_casual       object        \n",
      " 13  ride_length         int32         \n",
      " 14  day_of_week         float64       \n",
      " 15  weekday             object        \n",
      " 16  day                 int32         \n",
      " 17  month               int32         \n",
      " 18  month_name          object        \n",
      " 19  year                int32         \n",
      "dtypes: datetime64[ns](2), float64(5), int32(4), object(9)\n",
      "memory usage: 299.6+ MB\n"
     ]
    }
   ],
   "source": [
    "data_cleaned.info()"
   ]
  },
  {
   "cell_type": "code",
   "execution_count": 21,
   "metadata": {},
   "outputs": [
    {
     "data": {
      "text/plain": [
       "member_casual\n",
       "member    66.9\n",
       "casual    33.1\n",
       "Name: proportion, dtype: float64"
      ]
     },
     "execution_count": 21,
     "metadata": {},
     "output_type": "execute_result"
    }
   ],
   "source": [
    "#Percentage of total users\n",
    "percent = round(data_cleaned[\"member_casual\"].value_counts(normalize = True) * 100, 1)\n",
    "percent"
   ]
  },
  {
   "cell_type": "code",
   "execution_count": 22,
   "metadata": {},
   "outputs": [
    {
     "data": {
      "text/plain": [
       "member_casual  weekday  \n",
       "casual         Friday       21.498558\n",
       "               Monday       21.898053\n",
       "               Saturday     25.391897\n",
       "               Sunday       26.233435\n",
       "               Thursday     18.858991\n",
       "               Tuesday      19.307671\n",
       "               Wednesday    18.626932\n",
       "member         Friday       11.753165\n",
       "               Monday       11.288676\n",
       "               Saturday     13.379660\n",
       "               Sunday       13.401668\n",
       "               Thursday     11.300662\n",
       "               Tuesday      11.334797\n",
       "               Wednesday    11.360867\n",
       "Name: ride_length, dtype: float64"
      ]
     },
     "execution_count": 22,
     "metadata": {},
     "output_type": "execute_result"
    }
   ],
   "source": [
    "# See the average ride length by each day for members vs casual user\n",
    "data_cleaned.groupby(['member_casual','weekday']).ride_length.mean()"
   ]
  },
  {
   "cell_type": "code",
   "execution_count": 23,
   "metadata": {},
   "outputs": [
    {
     "data": {
      "text/html": [
       "<div>\n",
       "<style scoped>\n",
       "    .dataframe tbody tr th:only-of-type {\n",
       "        vertical-align: middle;\n",
       "    }\n",
       "\n",
       "    .dataframe tbody tr th {\n",
       "        vertical-align: top;\n",
       "    }\n",
       "\n",
       "    .dataframe thead th {\n",
       "        text-align: right;\n",
       "    }\n",
       "</style>\n",
       "<table border=\"1\" class=\"dataframe\">\n",
       "  <thead>\n",
       "    <tr style=\"text-align: right;\">\n",
       "      <th></th>\n",
       "      <th>ride_id</th>\n",
       "      <th>rideable_type</th>\n",
       "      <th>started_at</th>\n",
       "      <th>ended_at</th>\n",
       "      <th>start_station_name</th>\n",
       "      <th>start_station_id</th>\n",
       "      <th>end_station_name</th>\n",
       "      <th>end_station_id</th>\n",
       "      <th>start_lat</th>\n",
       "      <th>start_lng</th>\n",
       "      <th>end_lat</th>\n",
       "      <th>end_lng</th>\n",
       "      <th>member_casual</th>\n",
       "      <th>ride_length</th>\n",
       "      <th>day_of_week</th>\n",
       "      <th>weekday</th>\n",
       "      <th>day</th>\n",
       "      <th>month</th>\n",
       "      <th>month_name</th>\n",
       "      <th>year</th>\n",
       "    </tr>\n",
       "  </thead>\n",
       "  <tbody>\n",
       "    <tr>\n",
       "      <th>0</th>\n",
       "      <td>F96D5A74A3E41399</td>\n",
       "      <td>electric_bike</td>\n",
       "      <td>2023-01-21 20:05:00</td>\n",
       "      <td>2023-01-21 20:16:00</td>\n",
       "      <td>Lincoln Ave &amp; Fullerton Ave</td>\n",
       "      <td>TA1309000058</td>\n",
       "      <td>Hampden Ct &amp; Diversey Ave</td>\n",
       "      <td>202480</td>\n",
       "      <td>41.924074</td>\n",
       "      <td>-87.646278</td>\n",
       "      <td>41.930000</td>\n",
       "      <td>-87.640000</td>\n",
       "      <td>member</td>\n",
       "      <td>11</td>\n",
       "      <td>7.0</td>\n",
       "      <td>Saturday</td>\n",
       "      <td>21</td>\n",
       "      <td>1</td>\n",
       "      <td>January</td>\n",
       "      <td>2023</td>\n",
       "    </tr>\n",
       "    <tr>\n",
       "      <th>1</th>\n",
       "      <td>13CB7EB698CEDB88</td>\n",
       "      <td>classic_bike</td>\n",
       "      <td>2023-01-10 15:37:00</td>\n",
       "      <td>2023-01-10 15:46:00</td>\n",
       "      <td>Kimbark Ave &amp; 53rd St</td>\n",
       "      <td>TA1309000037</td>\n",
       "      <td>Greenwood Ave &amp; 47th St</td>\n",
       "      <td>TA1308000002</td>\n",
       "      <td>41.799568</td>\n",
       "      <td>-87.594747</td>\n",
       "      <td>41.809835</td>\n",
       "      <td>-87.599383</td>\n",
       "      <td>member</td>\n",
       "      <td>9</td>\n",
       "      <td>3.0</td>\n",
       "      <td>Tuesday</td>\n",
       "      <td>10</td>\n",
       "      <td>1</td>\n",
       "      <td>January</td>\n",
       "      <td>2023</td>\n",
       "    </tr>\n",
       "    <tr>\n",
       "      <th>2</th>\n",
       "      <td>BD88A2E670661CE5</td>\n",
       "      <td>electric_bike</td>\n",
       "      <td>2023-01-02 07:51:00</td>\n",
       "      <td>2023-01-02 08:05:00</td>\n",
       "      <td>Western Ave &amp; Lunt Ave</td>\n",
       "      <td>RP-005</td>\n",
       "      <td>Valli Produce - Evanston Plaza</td>\n",
       "      <td>599</td>\n",
       "      <td>42.008571</td>\n",
       "      <td>-87.690483</td>\n",
       "      <td>42.039742</td>\n",
       "      <td>-87.699413</td>\n",
       "      <td>casual</td>\n",
       "      <td>14</td>\n",
       "      <td>2.0</td>\n",
       "      <td>Monday</td>\n",
       "      <td>2</td>\n",
       "      <td>1</td>\n",
       "      <td>January</td>\n",
       "      <td>2023</td>\n",
       "    </tr>\n",
       "    <tr>\n",
       "      <th>3</th>\n",
       "      <td>C90792D034FED968</td>\n",
       "      <td>classic_bike</td>\n",
       "      <td>2023-01-22 10:52:00</td>\n",
       "      <td>2023-01-22 11:01:00</td>\n",
       "      <td>Kimbark Ave &amp; 53rd St</td>\n",
       "      <td>TA1309000037</td>\n",
       "      <td>Greenwood Ave &amp; 47th St</td>\n",
       "      <td>TA1308000002</td>\n",
       "      <td>41.799568</td>\n",
       "      <td>-87.594747</td>\n",
       "      <td>41.809835</td>\n",
       "      <td>-87.599383</td>\n",
       "      <td>member</td>\n",
       "      <td>9</td>\n",
       "      <td>1.0</td>\n",
       "      <td>Sunday</td>\n",
       "      <td>22</td>\n",
       "      <td>1</td>\n",
       "      <td>January</td>\n",
       "      <td>2023</td>\n",
       "    </tr>\n",
       "    <tr>\n",
       "      <th>4</th>\n",
       "      <td>3397017529188E8A</td>\n",
       "      <td>classic_bike</td>\n",
       "      <td>2023-01-12 13:58:00</td>\n",
       "      <td>2023-01-12 14:13:00</td>\n",
       "      <td>Kimbark Ave &amp; 53rd St</td>\n",
       "      <td>TA1309000037</td>\n",
       "      <td>Greenwood Ave &amp; 47th St</td>\n",
       "      <td>TA1308000002</td>\n",
       "      <td>41.799568</td>\n",
       "      <td>-87.594747</td>\n",
       "      <td>41.809835</td>\n",
       "      <td>-87.599383</td>\n",
       "      <td>member</td>\n",
       "      <td>15</td>\n",
       "      <td>5.0</td>\n",
       "      <td>Thursday</td>\n",
       "      <td>12</td>\n",
       "      <td>1</td>\n",
       "      <td>January</td>\n",
       "      <td>2023</td>\n",
       "    </tr>\n",
       "    <tr>\n",
       "      <th>...</th>\n",
       "      <td>...</td>\n",
       "      <td>...</td>\n",
       "      <td>...</td>\n",
       "      <td>...</td>\n",
       "      <td>...</td>\n",
       "      <td>...</td>\n",
       "      <td>...</td>\n",
       "      <td>...</td>\n",
       "      <td>...</td>\n",
       "      <td>...</td>\n",
       "      <td>...</td>\n",
       "      <td>...</td>\n",
       "      <td>...</td>\n",
       "      <td>...</td>\n",
       "      <td>...</td>\n",
       "      <td>...</td>\n",
       "      <td>...</td>\n",
       "      <td>...</td>\n",
       "      <td>...</td>\n",
       "      <td>...</td>\n",
       "    </tr>\n",
       "    <tr>\n",
       "      <th>2181494</th>\n",
       "      <td>AD99B5E3EF5681C9</td>\n",
       "      <td>classic_bike</td>\n",
       "      <td>2023-11-02 18:09:00</td>\n",
       "      <td>2023-11-02 18:34:00</td>\n",
       "      <td>Campbell Ave &amp; Montrose Ave</td>\n",
       "      <td>15623</td>\n",
       "      <td>Kedzie Ave &amp; Palmer Ct</td>\n",
       "      <td>13292</td>\n",
       "      <td>41.961524</td>\n",
       "      <td>-87.691177</td>\n",
       "      <td>41.921525</td>\n",
       "      <td>-87.707322</td>\n",
       "      <td>member</td>\n",
       "      <td>25</td>\n",
       "      <td>5.0</td>\n",
       "      <td>Thursday</td>\n",
       "      <td>2</td>\n",
       "      <td>11</td>\n",
       "      <td>November</td>\n",
       "      <td>2023</td>\n",
       "    </tr>\n",
       "    <tr>\n",
       "      <th>2181495</th>\n",
       "      <td>EE433892E8123B26</td>\n",
       "      <td>classic_bike</td>\n",
       "      <td>2023-11-10 13:25:00</td>\n",
       "      <td>2023-11-10 13:29:00</td>\n",
       "      <td>California Ave &amp; Milwaukee Ave</td>\n",
       "      <td>13084</td>\n",
       "      <td>Kedzie Ave &amp; Palmer Ct</td>\n",
       "      <td>13292</td>\n",
       "      <td>41.922695</td>\n",
       "      <td>-87.697153</td>\n",
       "      <td>41.921525</td>\n",
       "      <td>-87.707322</td>\n",
       "      <td>member</td>\n",
       "      <td>4</td>\n",
       "      <td>6.0</td>\n",
       "      <td>Friday</td>\n",
       "      <td>10</td>\n",
       "      <td>11</td>\n",
       "      <td>November</td>\n",
       "      <td>2023</td>\n",
       "    </tr>\n",
       "    <tr>\n",
       "      <th>2181496</th>\n",
       "      <td>DA6305C45F85874D</td>\n",
       "      <td>classic_bike</td>\n",
       "      <td>2023-11-11 13:47:00</td>\n",
       "      <td>2023-11-11 14:06:00</td>\n",
       "      <td>California Ave &amp; Milwaukee Ave</td>\n",
       "      <td>13084</td>\n",
       "      <td>Ashland Ave &amp; Grand Ave</td>\n",
       "      <td>13434</td>\n",
       "      <td>41.922695</td>\n",
       "      <td>-87.697153</td>\n",
       "      <td>41.891072</td>\n",
       "      <td>-87.666611</td>\n",
       "      <td>casual</td>\n",
       "      <td>19</td>\n",
       "      <td>7.0</td>\n",
       "      <td>Saturday</td>\n",
       "      <td>11</td>\n",
       "      <td>11</td>\n",
       "      <td>November</td>\n",
       "      <td>2023</td>\n",
       "    </tr>\n",
       "    <tr>\n",
       "      <th>2181497</th>\n",
       "      <td>B464EAD240A7FF40</td>\n",
       "      <td>classic_bike</td>\n",
       "      <td>2023-11-13 14:52:00</td>\n",
       "      <td>2023-11-13 14:57:00</td>\n",
       "      <td>California Ave &amp; Milwaukee Ave</td>\n",
       "      <td>13084</td>\n",
       "      <td>Kedzie Ave &amp; Palmer Ct</td>\n",
       "      <td>13292</td>\n",
       "      <td>41.922695</td>\n",
       "      <td>-87.697153</td>\n",
       "      <td>41.921525</td>\n",
       "      <td>-87.707322</td>\n",
       "      <td>casual</td>\n",
       "      <td>5</td>\n",
       "      <td>2.0</td>\n",
       "      <td>Monday</td>\n",
       "      <td>13</td>\n",
       "      <td>11</td>\n",
       "      <td>November</td>\n",
       "      <td>2023</td>\n",
       "    </tr>\n",
       "    <tr>\n",
       "      <th>2181498</th>\n",
       "      <td>4F725B7BC9E8C855</td>\n",
       "      <td>electric_bike</td>\n",
       "      <td>2023-11-25 17:07:00</td>\n",
       "      <td>2023-11-25 17:20:00</td>\n",
       "      <td>Wood St &amp; Chicago Ave</td>\n",
       "      <td>637</td>\n",
       "      <td>Kedzie Ave &amp; Palmer Ct</td>\n",
       "      <td>13292</td>\n",
       "      <td>41.895667</td>\n",
       "      <td>-87.672266</td>\n",
       "      <td>41.921525</td>\n",
       "      <td>-87.707322</td>\n",
       "      <td>member</td>\n",
       "      <td>13</td>\n",
       "      <td>7.0</td>\n",
       "      <td>Saturday</td>\n",
       "      <td>25</td>\n",
       "      <td>11</td>\n",
       "      <td>November</td>\n",
       "      <td>2023</td>\n",
       "    </tr>\n",
       "  </tbody>\n",
       "</table>\n",
       "<p>2181499 rows × 20 columns</p>\n",
       "</div>"
      ],
      "text/plain": [
       "                  ride_id  rideable_type          started_at  \\\n",
       "0        F96D5A74A3E41399  electric_bike 2023-01-21 20:05:00   \n",
       "1        13CB7EB698CEDB88   classic_bike 2023-01-10 15:37:00   \n",
       "2        BD88A2E670661CE5  electric_bike 2023-01-02 07:51:00   \n",
       "3        C90792D034FED968   classic_bike 2023-01-22 10:52:00   \n",
       "4        3397017529188E8A   classic_bike 2023-01-12 13:58:00   \n",
       "...                   ...            ...                 ...   \n",
       "2181494  AD99B5E3EF5681C9   classic_bike 2023-11-02 18:09:00   \n",
       "2181495  EE433892E8123B26   classic_bike 2023-11-10 13:25:00   \n",
       "2181496  DA6305C45F85874D   classic_bike 2023-11-11 13:47:00   \n",
       "2181497  B464EAD240A7FF40   classic_bike 2023-11-13 14:52:00   \n",
       "2181498  4F725B7BC9E8C855  electric_bike 2023-11-25 17:07:00   \n",
       "\n",
       "                   ended_at              start_station_name start_station_id  \\\n",
       "0       2023-01-21 20:16:00     Lincoln Ave & Fullerton Ave     TA1309000058   \n",
       "1       2023-01-10 15:46:00           Kimbark Ave & 53rd St     TA1309000037   \n",
       "2       2023-01-02 08:05:00          Western Ave & Lunt Ave           RP-005   \n",
       "3       2023-01-22 11:01:00           Kimbark Ave & 53rd St     TA1309000037   \n",
       "4       2023-01-12 14:13:00           Kimbark Ave & 53rd St     TA1309000037   \n",
       "...                     ...                             ...              ...   \n",
       "2181494 2023-11-02 18:34:00     Campbell Ave & Montrose Ave            15623   \n",
       "2181495 2023-11-10 13:29:00  California Ave & Milwaukee Ave            13084   \n",
       "2181496 2023-11-11 14:06:00  California Ave & Milwaukee Ave            13084   \n",
       "2181497 2023-11-13 14:57:00  California Ave & Milwaukee Ave            13084   \n",
       "2181498 2023-11-25 17:20:00           Wood St & Chicago Ave              637   \n",
       "\n",
       "                       end_station_name end_station_id  start_lat  start_lng  \\\n",
       "0             Hampden Ct & Diversey Ave         202480  41.924074 -87.646278   \n",
       "1               Greenwood Ave & 47th St   TA1308000002  41.799568 -87.594747   \n",
       "2        Valli Produce - Evanston Plaza            599  42.008571 -87.690483   \n",
       "3               Greenwood Ave & 47th St   TA1308000002  41.799568 -87.594747   \n",
       "4               Greenwood Ave & 47th St   TA1308000002  41.799568 -87.594747   \n",
       "...                                 ...            ...        ...        ...   \n",
       "2181494          Kedzie Ave & Palmer Ct          13292  41.961524 -87.691177   \n",
       "2181495          Kedzie Ave & Palmer Ct          13292  41.922695 -87.697153   \n",
       "2181496         Ashland Ave & Grand Ave          13434  41.922695 -87.697153   \n",
       "2181497          Kedzie Ave & Palmer Ct          13292  41.922695 -87.697153   \n",
       "2181498          Kedzie Ave & Palmer Ct          13292  41.895667 -87.672266   \n",
       "\n",
       "           end_lat    end_lng member_casual  ride_length  day_of_week  \\\n",
       "0        41.930000 -87.640000        member           11          7.0   \n",
       "1        41.809835 -87.599383        member            9          3.0   \n",
       "2        42.039742 -87.699413        casual           14          2.0   \n",
       "3        41.809835 -87.599383        member            9          1.0   \n",
       "4        41.809835 -87.599383        member           15          5.0   \n",
       "...            ...        ...           ...          ...          ...   \n",
       "2181494  41.921525 -87.707322        member           25          5.0   \n",
       "2181495  41.921525 -87.707322        member            4          6.0   \n",
       "2181496  41.891072 -87.666611        casual           19          7.0   \n",
       "2181497  41.921525 -87.707322        casual            5          2.0   \n",
       "2181498  41.921525 -87.707322        member           13          7.0   \n",
       "\n",
       "          weekday  day  month month_name  year  \n",
       "0        Saturday   21      1    January  2023  \n",
       "1         Tuesday   10      1    January  2023  \n",
       "2          Monday    2      1    January  2023  \n",
       "3          Sunday   22      1    January  2023  \n",
       "4        Thursday   12      1    January  2023  \n",
       "...           ...  ...    ...        ...   ...  \n",
       "2181494  Thursday    2     11   November  2023  \n",
       "2181495    Friday   10     11   November  2023  \n",
       "2181496  Saturday   11     11   November  2023  \n",
       "2181497    Monday   13     11   November  2023  \n",
       "2181498  Saturday   25     11   November  2023  \n",
       "\n",
       "[2181499 rows x 20 columns]"
      ]
     },
     "execution_count": 23,
     "metadata": {},
     "output_type": "execute_result"
    }
   ],
   "source": [
    "#fix the days of the week that are out of order.\n",
    "day_order = ['Sunday','Monday','Tuesday','Wednesday','Thursday','Friday','Saturday']\n",
    "data_cleaned['weekday'] = pd.Categorical(data_cleaned['weekday'], categories=day_order, ordered=True)\n",
    "data_cleaned"
   ]
  },
  {
   "cell_type": "code",
   "execution_count": 24,
   "metadata": {},
   "outputs": [
    {
     "name": "stderr",
     "output_type": "stream",
     "text": [
      "C:\\Users\\Ho\\AppData\\Local\\Temp\\ipykernel_2100\\3274426749.py:2: FutureWarning: The default of observed=False is deprecated and will be changed to True in a future version of pandas. Pass observed=False to retain current behavior or observed=True to adopt the future default and silence this warning.\n",
      "  data_cleaned.groupby(['member_casual','weekday']).ride_length.mean()\n"
     ]
    },
    {
     "data": {
      "text/plain": [
       "member_casual  weekday  \n",
       "casual         Sunday       26.233435\n",
       "               Monday       21.898053\n",
       "               Tuesday      19.307671\n",
       "               Wednesday    18.626932\n",
       "               Thursday     18.858991\n",
       "               Friday       21.498558\n",
       "               Saturday     25.391897\n",
       "member         Sunday       13.401668\n",
       "               Monday       11.288676\n",
       "               Tuesday      11.334797\n",
       "               Wednesday    11.360867\n",
       "               Thursday     11.300662\n",
       "               Friday       11.753165\n",
       "               Saturday     13.379660\n",
       "Name: ride_length, dtype: float64"
      ]
     },
     "execution_count": 24,
     "metadata": {},
     "output_type": "execute_result"
    }
   ],
   "source": [
    "#The average ride time by each day for members vs casual user\n",
    "data_cleaned.groupby(['member_casual','weekday']).ride_length.mean()"
   ]
  },
  {
   "cell_type": "code",
   "execution_count": 25,
   "metadata": {},
   "outputs": [
    {
     "data": {
      "text/html": [
       "<div>\n",
       "<style scoped>\n",
       "    .dataframe tbody tr th:only-of-type {\n",
       "        vertical-align: middle;\n",
       "    }\n",
       "\n",
       "    .dataframe tbody tr th {\n",
       "        vertical-align: top;\n",
       "    }\n",
       "\n",
       "    .dataframe thead th {\n",
       "        text-align: right;\n",
       "    }\n",
       "</style>\n",
       "<table border=\"1\" class=\"dataframe\">\n",
       "  <thead>\n",
       "    <tr style=\"text-align: right;\">\n",
       "      <th></th>\n",
       "      <th>member_casual</th>\n",
       "      <th>ride_length</th>\n",
       "    </tr>\n",
       "  </thead>\n",
       "  <tbody>\n",
       "    <tr>\n",
       "      <th>0</th>\n",
       "      <td>casual</td>\n",
       "      <td>22.235283</td>\n",
       "    </tr>\n",
       "    <tr>\n",
       "      <th>1</th>\n",
       "      <td>member</td>\n",
       "      <td>11.868391</td>\n",
       "    </tr>\n",
       "  </tbody>\n",
       "</table>\n",
       "</div>"
      ],
      "text/plain": [
       "  member_casual  ride_length\n",
       "0        casual    22.235283\n",
       "1        member    11.868391"
      ]
     },
     "execution_count": 25,
     "metadata": {},
     "output_type": "execute_result"
    }
   ],
   "source": [
    "#Analyse how casual and member usertype use differently\n",
    "data_cleaned_1 = data_cleaned.groupby('member_casual', as_index = False)['ride_length'].agg('mean')\n",
    "\n",
    "data_cleaned_1"
   ]
  },
  {
   "cell_type": "code",
   "execution_count": 26,
   "metadata": {},
   "outputs": [
    {
     "data": {
      "text/html": [
       "<div>\n",
       "<style scoped>\n",
       "    .dataframe tbody tr th:only-of-type {\n",
       "        vertical-align: middle;\n",
       "    }\n",
       "\n",
       "    .dataframe tbody tr th {\n",
       "        vertical-align: top;\n",
       "    }\n",
       "\n",
       "    .dataframe thead th {\n",
       "        text-align: right;\n",
       "    }\n",
       "</style>\n",
       "<table border=\"1\" class=\"dataframe\">\n",
       "  <thead>\n",
       "    <tr style=\"text-align: right;\">\n",
       "      <th></th>\n",
       "      <th>member_casual</th>\n",
       "      <th>weekday</th>\n",
       "      <th>ride_length</th>\n",
       "    </tr>\n",
       "  </thead>\n",
       "  <tbody>\n",
       "    <tr>\n",
       "      <th>0</th>\n",
       "      <td>casual</td>\n",
       "      <td>Sunday</td>\n",
       "      <td>26.233435</td>\n",
       "    </tr>\n",
       "    <tr>\n",
       "      <th>1</th>\n",
       "      <td>casual</td>\n",
       "      <td>Monday</td>\n",
       "      <td>21.898053</td>\n",
       "    </tr>\n",
       "    <tr>\n",
       "      <th>2</th>\n",
       "      <td>casual</td>\n",
       "      <td>Tuesday</td>\n",
       "      <td>19.307671</td>\n",
       "    </tr>\n",
       "    <tr>\n",
       "      <th>3</th>\n",
       "      <td>casual</td>\n",
       "      <td>Wednesday</td>\n",
       "      <td>18.626932</td>\n",
       "    </tr>\n",
       "    <tr>\n",
       "      <th>4</th>\n",
       "      <td>casual</td>\n",
       "      <td>Thursday</td>\n",
       "      <td>18.858991</td>\n",
       "    </tr>\n",
       "    <tr>\n",
       "      <th>5</th>\n",
       "      <td>casual</td>\n",
       "      <td>Friday</td>\n",
       "      <td>21.498558</td>\n",
       "    </tr>\n",
       "    <tr>\n",
       "      <th>6</th>\n",
       "      <td>casual</td>\n",
       "      <td>Saturday</td>\n",
       "      <td>25.391897</td>\n",
       "    </tr>\n",
       "    <tr>\n",
       "      <th>7</th>\n",
       "      <td>member</td>\n",
       "      <td>Sunday</td>\n",
       "      <td>13.401668</td>\n",
       "    </tr>\n",
       "    <tr>\n",
       "      <th>8</th>\n",
       "      <td>member</td>\n",
       "      <td>Monday</td>\n",
       "      <td>11.288676</td>\n",
       "    </tr>\n",
       "    <tr>\n",
       "      <th>9</th>\n",
       "      <td>member</td>\n",
       "      <td>Tuesday</td>\n",
       "      <td>11.334797</td>\n",
       "    </tr>\n",
       "    <tr>\n",
       "      <th>10</th>\n",
       "      <td>member</td>\n",
       "      <td>Wednesday</td>\n",
       "      <td>11.360867</td>\n",
       "    </tr>\n",
       "    <tr>\n",
       "      <th>11</th>\n",
       "      <td>member</td>\n",
       "      <td>Thursday</td>\n",
       "      <td>11.300662</td>\n",
       "    </tr>\n",
       "    <tr>\n",
       "      <th>12</th>\n",
       "      <td>member</td>\n",
       "      <td>Friday</td>\n",
       "      <td>11.753165</td>\n",
       "    </tr>\n",
       "    <tr>\n",
       "      <th>13</th>\n",
       "      <td>member</td>\n",
       "      <td>Saturday</td>\n",
       "      <td>13.379660</td>\n",
       "    </tr>\n",
       "  </tbody>\n",
       "</table>\n",
       "</div>"
      ],
      "text/plain": [
       "   member_casual    weekday  ride_length\n",
       "0         casual     Sunday    26.233435\n",
       "1         casual     Monday    21.898053\n",
       "2         casual    Tuesday    19.307671\n",
       "3         casual  Wednesday    18.626932\n",
       "4         casual   Thursday    18.858991\n",
       "5         casual     Friday    21.498558\n",
       "6         casual   Saturday    25.391897\n",
       "7         member     Sunday    13.401668\n",
       "8         member     Monday    11.288676\n",
       "9         member    Tuesday    11.334797\n",
       "10        member  Wednesday    11.360867\n",
       "11        member   Thursday    11.300662\n",
       "12        member     Friday    11.753165\n",
       "13        member   Saturday    13.379660"
      ]
     },
     "execution_count": 26,
     "metadata": {},
     "output_type": "execute_result"
    }
   ],
   "source": [
    "# Run the average ride time by each day for members vs casual users and analyze ridership data by type and weekday\n",
    "data_cleaned_2 = data_cleaned.groupby(['member_casual', 'weekday'], as_index=False, observed=False)['ride_length'].agg('mean')\n",
    "data_cleaned_2\n",
    "# Above group by columns member_casual and weekday becomes Index of the DataFrame, In order to get these as a SQL like group by use as_index =False param or use reset_index()."
   ]
  },
  {
   "cell_type": "code",
   "execution_count": 27,
   "metadata": {},
   "outputs": [
    {
     "data": {
      "text/html": [
       "<div>\n",
       "<style scoped>\n",
       "    .dataframe tbody tr th:only-of-type {\n",
       "        vertical-align: middle;\n",
       "    }\n",
       "\n",
       "    .dataframe tbody tr th {\n",
       "        vertical-align: top;\n",
       "    }\n",
       "\n",
       "    .dataframe thead th {\n",
       "        text-align: right;\n",
       "    }\n",
       "</style>\n",
       "<table border=\"1\" class=\"dataframe\">\n",
       "  <thead>\n",
       "    <tr style=\"text-align: right;\">\n",
       "      <th></th>\n",
       "      <th>member_casual</th>\n",
       "      <th>month</th>\n",
       "      <th>month_name</th>\n",
       "      <th>ride_length</th>\n",
       "    </tr>\n",
       "  </thead>\n",
       "  <tbody>\n",
       "    <tr>\n",
       "      <th>0</th>\n",
       "      <td>casual</td>\n",
       "      <td>1</td>\n",
       "      <td>January</td>\n",
       "      <td>15.054958</td>\n",
       "    </tr>\n",
       "    <tr>\n",
       "      <th>1</th>\n",
       "      <td>casual</td>\n",
       "      <td>2</td>\n",
       "      <td>February</td>\n",
       "      <td>17.870186</td>\n",
       "    </tr>\n",
       "    <tr>\n",
       "      <th>2</th>\n",
       "      <td>casual</td>\n",
       "      <td>3</td>\n",
       "      <td>March</td>\n",
       "      <td>17.035128</td>\n",
       "    </tr>\n",
       "    <tr>\n",
       "      <th>3</th>\n",
       "      <td>casual</td>\n",
       "      <td>4</td>\n",
       "      <td>April</td>\n",
       "      <td>23.776584</td>\n",
       "    </tr>\n",
       "    <tr>\n",
       "      <th>4</th>\n",
       "      <td>casual</td>\n",
       "      <td>5</td>\n",
       "      <td>May</td>\n",
       "      <td>25.261561</td>\n",
       "    </tr>\n",
       "    <tr>\n",
       "      <th>5</th>\n",
       "      <td>casual</td>\n",
       "      <td>6</td>\n",
       "      <td>June</td>\n",
       "      <td>23.322110</td>\n",
       "    </tr>\n",
       "    <tr>\n",
       "      <th>6</th>\n",
       "      <td>casual</td>\n",
       "      <td>7</td>\n",
       "      <td>July</td>\n",
       "      <td>25.196158</td>\n",
       "    </tr>\n",
       "    <tr>\n",
       "      <th>7</th>\n",
       "      <td>casual</td>\n",
       "      <td>9</td>\n",
       "      <td>September</td>\n",
       "      <td>23.734969</td>\n",
       "    </tr>\n",
       "    <tr>\n",
       "      <th>8</th>\n",
       "      <td>casual</td>\n",
       "      <td>10</td>\n",
       "      <td>October</td>\n",
       "      <td>21.565999</td>\n",
       "    </tr>\n",
       "    <tr>\n",
       "      <th>9</th>\n",
       "      <td>casual</td>\n",
       "      <td>11</td>\n",
       "      <td>November</td>\n",
       "      <td>17.762904</td>\n",
       "    </tr>\n",
       "    <tr>\n",
       "      <th>10</th>\n",
       "      <td>member</td>\n",
       "      <td>1</td>\n",
       "      <td>January</td>\n",
       "      <td>10.170686</td>\n",
       "    </tr>\n",
       "    <tr>\n",
       "      <th>11</th>\n",
       "      <td>member</td>\n",
       "      <td>2</td>\n",
       "      <td>February</td>\n",
       "      <td>10.594306</td>\n",
       "    </tr>\n",
       "    <tr>\n",
       "      <th>12</th>\n",
       "      <td>member</td>\n",
       "      <td>3</td>\n",
       "      <td>March</td>\n",
       "      <td>10.411103</td>\n",
       "    </tr>\n",
       "    <tr>\n",
       "      <th>13</th>\n",
       "      <td>member</td>\n",
       "      <td>4</td>\n",
       "      <td>April</td>\n",
       "      <td>11.919580</td>\n",
       "    </tr>\n",
       "    <tr>\n",
       "      <th>14</th>\n",
       "      <td>member</td>\n",
       "      <td>5</td>\n",
       "      <td>May</td>\n",
       "      <td>12.695133</td>\n",
       "    </tr>\n",
       "    <tr>\n",
       "      <th>15</th>\n",
       "      <td>member</td>\n",
       "      <td>6</td>\n",
       "      <td>June</td>\n",
       "      <td>12.918705</td>\n",
       "    </tr>\n",
       "    <tr>\n",
       "      <th>16</th>\n",
       "      <td>member</td>\n",
       "      <td>7</td>\n",
       "      <td>July</td>\n",
       "      <td>13.572868</td>\n",
       "    </tr>\n",
       "    <tr>\n",
       "      <th>17</th>\n",
       "      <td>member</td>\n",
       "      <td>9</td>\n",
       "      <td>September</td>\n",
       "      <td>12.806581</td>\n",
       "    </tr>\n",
       "    <tr>\n",
       "      <th>18</th>\n",
       "      <td>member</td>\n",
       "      <td>10</td>\n",
       "      <td>October</td>\n",
       "      <td>11.770153</td>\n",
       "    </tr>\n",
       "    <tr>\n",
       "      <th>19</th>\n",
       "      <td>member</td>\n",
       "      <td>11</td>\n",
       "      <td>November</td>\n",
       "      <td>10.903611</td>\n",
       "    </tr>\n",
       "  </tbody>\n",
       "</table>\n",
       "</div>"
      ],
      "text/plain": [
       "   member_casual  month month_name  ride_length\n",
       "0         casual      1    January    15.054958\n",
       "1         casual      2   February    17.870186\n",
       "2         casual      3      March    17.035128\n",
       "3         casual      4      April    23.776584\n",
       "4         casual      5        May    25.261561\n",
       "5         casual      6       June    23.322110\n",
       "6         casual      7       July    25.196158\n",
       "7         casual      9  September    23.734969\n",
       "8         casual     10    October    21.565999\n",
       "9         casual     11   November    17.762904\n",
       "10        member      1    January    10.170686\n",
       "11        member      2   February    10.594306\n",
       "12        member      3      March    10.411103\n",
       "13        member      4      April    11.919580\n",
       "14        member      5        May    12.695133\n",
       "15        member      6       June    12.918705\n",
       "16        member      7       July    13.572868\n",
       "17        member      9  September    12.806581\n",
       "18        member     10    October    11.770153\n",
       "19        member     11   November    10.903611"
      ]
     },
     "execution_count": 27,
     "metadata": {},
     "output_type": "execute_result"
    }
   ],
   "source": [
    "# See the average ride time by each month for members vs casual user\n",
    "data_cleaned_3=data_cleaned.groupby(['member_casual','month', 'month_name'], as_index=False)['ride_length'].agg('mean')\n",
    "data_cleaned_3"
   ]
  },
  {
   "cell_type": "code",
   "execution_count": 28,
   "metadata": {},
   "outputs": [
    {
     "data": {
      "text/html": [
       "<div>\n",
       "<style scoped>\n",
       "    .dataframe tbody tr th:only-of-type {\n",
       "        vertical-align: middle;\n",
       "    }\n",
       "\n",
       "    .dataframe tbody tr th {\n",
       "        vertical-align: top;\n",
       "    }\n",
       "\n",
       "    .dataframe thead th {\n",
       "        text-align: right;\n",
       "    }\n",
       "</style>\n",
       "<table border=\"1\" class=\"dataframe\">\n",
       "  <thead>\n",
       "    <tr style=\"text-align: right;\">\n",
       "      <th></th>\n",
       "      <th>member_casual</th>\n",
       "      <th>rideable_type</th>\n",
       "      <th>count</th>\n",
       "    </tr>\n",
       "  </thead>\n",
       "  <tbody>\n",
       "    <tr>\n",
       "      <th>0</th>\n",
       "      <td>casual</td>\n",
       "      <td>classic_bike</td>\n",
       "      <td>417404</td>\n",
       "    </tr>\n",
       "    <tr>\n",
       "      <th>1</th>\n",
       "      <td>casual</td>\n",
       "      <td>docked_bike</td>\n",
       "      <td>24956</td>\n",
       "    </tr>\n",
       "    <tr>\n",
       "      <th>2</th>\n",
       "      <td>casual</td>\n",
       "      <td>electric_bike</td>\n",
       "      <td>279536</td>\n",
       "    </tr>\n",
       "    <tr>\n",
       "      <th>3</th>\n",
       "      <td>member</td>\n",
       "      <td>classic_bike</td>\n",
       "      <td>949514</td>\n",
       "    </tr>\n",
       "    <tr>\n",
       "      <th>4</th>\n",
       "      <td>member</td>\n",
       "      <td>electric_bike</td>\n",
       "      <td>510089</td>\n",
       "    </tr>\n",
       "  </tbody>\n",
       "</table>\n",
       "</div>"
      ],
      "text/plain": [
       "  member_casual  rideable_type   count\n",
       "0        casual   classic_bike  417404\n",
       "1        casual    docked_bike   24956\n",
       "2        casual  electric_bike  279536\n",
       "3        member   classic_bike  949514\n",
       "4        member  electric_bike  510089"
      ]
     },
     "execution_count": 28,
     "metadata": {},
     "output_type": "execute_result"
    }
   ],
   "source": [
    "# Count the rides, given both user, and bike type\n",
    "data_cleaned_4 = data_cleaned.groupby(['member_casual','rideable_type'])['ride_id'].count().rename_axis(['member_casual', 'rideable_type']).reset_index(name = 'count')\n",
    "data_cleaned_4"
   ]
  },
  {
   "cell_type": "code",
   "execution_count": 29,
   "metadata": {},
   "outputs": [
    {
     "data": {
      "text/html": [
       "<div>\n",
       "<style scoped>\n",
       "    .dataframe tbody tr th:only-of-type {\n",
       "        vertical-align: middle;\n",
       "    }\n",
       "\n",
       "    .dataframe tbody tr th {\n",
       "        vertical-align: top;\n",
       "    }\n",
       "\n",
       "    .dataframe thead th {\n",
       "        text-align: right;\n",
       "    }\n",
       "</style>\n",
       "<table border=\"1\" class=\"dataframe\">\n",
       "  <thead>\n",
       "    <tr style=\"text-align: right;\">\n",
       "      <th></th>\n",
       "      <th>member_casual</th>\n",
       "      <th>month</th>\n",
       "      <th>month_name</th>\n",
       "      <th>ride_id</th>\n",
       "    </tr>\n",
       "  </thead>\n",
       "  <tbody>\n",
       "    <tr>\n",
       "      <th>0</th>\n",
       "      <td>casual</td>\n",
       "      <td>1</td>\n",
       "      <td>January</td>\n",
       "      <td>29277</td>\n",
       "    </tr>\n",
       "    <tr>\n",
       "      <th>1</th>\n",
       "      <td>casual</td>\n",
       "      <td>2</td>\n",
       "      <td>February</td>\n",
       "      <td>32408</td>\n",
       "    </tr>\n",
       "    <tr>\n",
       "      <th>2</th>\n",
       "      <td>casual</td>\n",
       "      <td>3</td>\n",
       "      <td>March</td>\n",
       "      <td>37121</td>\n",
       "    </tr>\n",
       "    <tr>\n",
       "      <th>3</th>\n",
       "      <td>casual</td>\n",
       "      <td>4</td>\n",
       "      <td>April</td>\n",
       "      <td>48855</td>\n",
       "    </tr>\n",
       "    <tr>\n",
       "      <th>4</th>\n",
       "      <td>casual</td>\n",
       "      <td>5</td>\n",
       "      <td>May</td>\n",
       "      <td>57371</td>\n",
       "    </tr>\n",
       "    <tr>\n",
       "      <th>5</th>\n",
       "      <td>casual</td>\n",
       "      <td>6</td>\n",
       "      <td>June</td>\n",
       "      <td>70836</td>\n",
       "    </tr>\n",
       "    <tr>\n",
       "      <th>6</th>\n",
       "      <td>casual</td>\n",
       "      <td>7</td>\n",
       "      <td>July</td>\n",
       "      <td>74797</td>\n",
       "    </tr>\n",
       "    <tr>\n",
       "      <th>7</th>\n",
       "      <td>casual</td>\n",
       "      <td>9</td>\n",
       "      <td>September</td>\n",
       "      <td>195298</td>\n",
       "    </tr>\n",
       "    <tr>\n",
       "      <th>8</th>\n",
       "      <td>casual</td>\n",
       "      <td>10</td>\n",
       "      <td>October</td>\n",
       "      <td>129184</td>\n",
       "    </tr>\n",
       "    <tr>\n",
       "      <th>9</th>\n",
       "      <td>casual</td>\n",
       "      <td>11</td>\n",
       "      <td>November</td>\n",
       "      <td>46749</td>\n",
       "    </tr>\n",
       "    <tr>\n",
       "      <th>10</th>\n",
       "      <td>member</td>\n",
       "      <td>1</td>\n",
       "      <td>January</td>\n",
       "      <td>116723</td>\n",
       "    </tr>\n",
       "    <tr>\n",
       "      <th>11</th>\n",
       "      <td>member</td>\n",
       "      <td>2</td>\n",
       "      <td>February</td>\n",
       "      <td>114897</td>\n",
       "    </tr>\n",
       "    <tr>\n",
       "      <th>12</th>\n",
       "      <td>member</td>\n",
       "      <td>3</td>\n",
       "      <td>March</td>\n",
       "      <td>119374</td>\n",
       "    </tr>\n",
       "    <tr>\n",
       "      <th>13</th>\n",
       "      <td>member</td>\n",
       "      <td>4</td>\n",
       "      <td>April</td>\n",
       "      <td>86769</td>\n",
       "    </tr>\n",
       "    <tr>\n",
       "      <th>14</th>\n",
       "      <td>member</td>\n",
       "      <td>5</td>\n",
       "      <td>May</td>\n",
       "      <td>101523</td>\n",
       "    </tr>\n",
       "    <tr>\n",
       "      <th>15</th>\n",
       "      <td>member</td>\n",
       "      <td>6</td>\n",
       "      <td>June</td>\n",
       "      <td>105726</td>\n",
       "    </tr>\n",
       "    <tr>\n",
       "      <th>16</th>\n",
       "      <td>member</td>\n",
       "      <td>7</td>\n",
       "      <td>July</td>\n",
       "      <td>107653</td>\n",
       "    </tr>\n",
       "    <tr>\n",
       "      <th>17</th>\n",
       "      <td>member</td>\n",
       "      <td>9</td>\n",
       "      <td>September</td>\n",
       "      <td>306423</td>\n",
       "    </tr>\n",
       "    <tr>\n",
       "      <th>18</th>\n",
       "      <td>member</td>\n",
       "      <td>10</td>\n",
       "      <td>October</td>\n",
       "      <td>270645</td>\n",
       "    </tr>\n",
       "    <tr>\n",
       "      <th>19</th>\n",
       "      <td>member</td>\n",
       "      <td>11</td>\n",
       "      <td>November</td>\n",
       "      <td>129870</td>\n",
       "    </tr>\n",
       "  </tbody>\n",
       "</table>\n",
       "</div>"
      ],
      "text/plain": [
       "   member_casual  month month_name  ride_id\n",
       "0         casual      1    January    29277\n",
       "1         casual      2   February    32408\n",
       "2         casual      3      March    37121\n",
       "3         casual      4      April    48855\n",
       "4         casual      5        May    57371\n",
       "5         casual      6       June    70836\n",
       "6         casual      7       July    74797\n",
       "7         casual      9  September   195298\n",
       "8         casual     10    October   129184\n",
       "9         casual     11   November    46749\n",
       "10        member      1    January   116723\n",
       "11        member      2   February   114897\n",
       "12        member      3      March   119374\n",
       "13        member      4      April    86769\n",
       "14        member      5        May   101523\n",
       "15        member      6       June   105726\n",
       "16        member      7       July   107653\n",
       "17        member      9  September   306423\n",
       "18        member     10    October   270645\n",
       "19        member     11   November   129870"
      ]
     },
     "execution_count": 29,
     "metadata": {},
     "output_type": "execute_result"
    }
   ],
   "source": [
    "# no of ride by each month for members vs casual user\n",
    "data_cleaned_5=data_cleaned.groupby(['member_casual','month', 'month_name'], as_index=False)['ride_id'].agg('count')\n",
    "data_cleaned_5"
   ]
  },
  {
   "cell_type": "code",
   "execution_count": 30,
   "metadata": {},
   "outputs": [
    {
     "data": {
      "image/png": "[encoded data removed]",
      "text/plain": [
       "<Figure size 1000x700 with 1 Axes>"
      ]
     },
     "metadata": {},
     "output_type": "display_data"
    }
   ],
   "source": [
    "member_casual = ['member', 'casual']\n",
    "fig = plt.figure(figsize =(10, 7))\n",
    "plt.pie(percent, labels = member_casual, autopct = \"%0.1f%%\")\n",
    "plt.title(\"Percentage of Total Users\")\n",
    "plt.show()"
   ]
  },
  {
   "cell_type": "code",
   "execution_count": 31,
   "metadata": {},
   "outputs": [
    {
     "data": {
      "image/png": "[encoded data removed]",
      "text/plain": [
       "<Figure size 1000x700 with 1 Axes>"
      ]
     },
     "metadata": {},
     "output_type": "display_data"
    }
   ],
   "source": [
    "# Let's visualize how casual and member usertype use differently\n",
    "fig = plt.figure(figsize =(10, 7))\n",
    "plt.pie(data_cleaned_1['ride_length'], labels = data_cleaned_1['member_casual'], autopct = \"%0.1f%%\")\n",
    "plt.title(\"Average Ride Length Member vs Casual Riders in 2021\")\n",
    "plt.savefig('Average Ride Length Member vs Casual in 2021', dpi=300, bbox_inches='tight')\n",
    "plt.show()"
   ]
  },
  {
   "cell_type": "code",
   "execution_count": 32,
   "metadata": {},
   "outputs": [
    {
     "data": {
      "image/png": "[encoded data removed]",
      "text/plain": [
       "<Figure size 1000x700 with 1 Axes>"
      ]
     },
     "metadata": {},
     "output_type": "display_data"
    }
   ],
   "source": [
    "# Let's create a visualization for average duration\n",
    "fig = plt.figure(figsize =(10, 7))\n",
    "sns.barplot(x='weekday', y='ride_length', hue = 'member_casual', data=data_cleaned_2)\n",
    "plt.title(\"Average Ride Length Member vs Casual on Day of Week\")\n",
    "plt.xlabel(\"Day of Week\")\n",
    "plt.ylabel(\"Average Ride Length\")\n",
    "plt.savefig('Average Ride Length Member vs Casual on Day of Week.png', dpi=300)\n",
    "plt.show()"
   ]
  },
  {
   "cell_type": "code",
   "execution_count": 33,
   "metadata": {},
   "outputs": [
    {
     "name": "stderr",
     "output_type": "stream",
     "text": [
      "C:\\Users\\Ho\\AppData\\Local\\Packages\\PythonSoftwareFoundation.Python.3.12_qbz5n2kfra8p0\\LocalCache\\local-packages\\Python312\\site-packages\\plotly\\express\\_core.py:2065: FutureWarning: When grouping with a length-1 list-like, you will need to pass a length-1 tuple to get_group in a future version of pandas. Pass `(name,)` instead of `name` to silence this warning.\n",
      "  sf: grouped.get_group(s if len(s) > 1 else s[0])\n"
     ]
    },
    {
     "data": {
      "application/vnd.plotly.v1+json": {
       "config": {
        "plotlyServerURL": "https://plot.ly"
       },
       "data": [
        {
         "alignmentgroup": "True",
         "customdata": [
          [
           "casual"
          ],
          [
           "casual"
          ],
          [
           "casual"
          ],
          [
           "casual"
          ],
          [
           "casual"
          ],
          [
           "casual"
          ],
          [
           "casual"
          ],
          [
           "casual"
          ],
          [
           "casual"
          ],
          [
           "casual"
          ]
         ],
         "hovertemplate": "<b>%{hovertext}</b><br><br>Months (January 2021 - December 2021)=%{x}<br>Average Ride Length (minutes)=%{text}<extra></extra>",
         "hovertext": [
          "casual",
          "casual",
          "casual",
          "casual",
          "casual",
          "casual",
          "casual",
          "casual",
          "casual",
          "casual"
         ],
         "legendgroup": "casual",
         "marker": {
          "color": "#058ED9",
          "pattern": {
           "shape": ""
          }
         },
         "name": "casual",
         "offsetgroup": "casual",
         "orientation": "v",
         "showlegend": true,
         "text": [
          15.05,
          17.87,
          17.04,
          23.78,
          25.26,
          23.32,
          25.2,
          23.73,
          21.57,
          17.76
         ],
         "textposition": "auto",
         "type": "bar",
         "x": [
          "January",
          "February",
          "March",
          "April",
          "May",
          "June",
          "July",
          "September",
          "October",
          "November"
         ],
         "xaxis": "x",
         "y": [
          15.05,
          17.87,
          17.04,
          23.78,
          25.26,
          23.32,
          25.2,
          23.73,
          21.57,
          17.76
         ],
         "yaxis": "y"
        },
        {
         "alignmentgroup": "True",
         "customdata": [
          [
           "member"
          ],
          [
           "member"
          ],
          [
           "member"
          ],
          [
           "member"
          ],
          [
           "member"
          ],
          [
           "member"
          ],
          [
           "member"
          ],
          [
           "member"
          ],
          [
           "member"
          ],
          [
           "member"
          ]
         ],
         "hovertemplate": "<b>%{hovertext}</b><br><br>Months (January 2021 - December 2021)=%{x}<br>Average Ride Length (minutes)=%{text}<extra></extra>",
         "hovertext": [
          "member",
          "member",
          "member",
          "member",
          "member",
          "member",
          "member",
          "member",
          "member",
          "member"
         ],
         "legendgroup": "member",
         "marker": {
          "color": "#FF934F",
          "pattern": {
           "shape": ""
          }
         },
         "name": "member",
         "offsetgroup": "member",
         "orientation": "v",
         "showlegend": true,
         "text": [
          10.17,
          10.59,
          10.41,
          11.92,
          12.7,
          12.92,
          13.57,
          12.81,
          11.77,
          10.9
         ],
         "textposition": "auto",
         "type": "bar",
         "x": [
          "January",
          "February",
          "March",
          "April",
          "May",
          "June",
          "July",
          "September",
          "October",
          "November"
         ],
         "xaxis": "x",
         "y": [
          10.17,
          10.59,
          10.41,
          11.92,
          12.7,
          12.92,
          13.57,
          12.81,
          11.77,
          10.9
         ],
         "yaxis": "y"
        }
       ],
       "layout": {
        "barmode": "group",
        "legend": {
         "title": {
          "text": "Member/Casual"
         },
         "tracegroupgap": 0
        },
        "margin": {
         "t": 60
        },
        "template": {
         "data": {
          "bar": [
           {
            "error_x": {
             "color": "#2a3f5f"
            },
            "error_y": {
             "color": "#2a3f5f"
            },
            "marker": {
             "line": {
              "color": "#E5ECF6",
              "width": 0.5
             },
             "pattern": {
              "fillmode": "overlay",
              "size": 10,
              "solidity": 0.2
             }
            },
            "type": "bar"
           }
          ],
          "barpolar": [
           {
            "marker": {
             "line": {
              "color": "#E5ECF6",
              "width": 0.5
             },
             "pattern": {
              "fillmode": "overlay",
              "size": 10,
              "solidity": 0.2
             }
            },
            "type": "barpolar"
           }
          ],
          "carpet": [
           {
            "aaxis": {
             "endlinecolor": "#2a3f5f",
             "gridcolor": "white",
             "linecolor": "white",
             "minorgridcolor": "white",
             "startlinecolor": "#2a3f5f"
            },
            "baxis": {
             "endlinecolor": "#2a3f5f",
             "gridcolor": "white",
             "linecolor": "white",
             "minorgridcolor": "white",
             "startlinecolor": "#2a3f5f"
            },
            "type": "carpet"
           }
          ],
          "choropleth": [
           {
            "colorbar": {
             "outlinewidth": 0,
             "ticks": ""
            },
            "type": "choropleth"
           }
          ],
          "contour": [
           {
            "colorbar": {
             "outlinewidth": 0,
             "ticks": ""
            },
            "colorscale": [
             [
              0,
              "#0d0887"
             ],
             [
              0.1111111111111111,
              "#46039f"
             ],
             [
              0.2222222222222222,
              "#7201a8"
             ],
             [
              0.3333333333333333,
              "#9c179e"
             ],
             [
              0.4444444444444444,
              "#bd3786"
             ],
             [
              0.5555555555555556,
              "#d8576b"
             ],
             [
              0.6666666666666666,
              "#ed7953"
             ],
             [
              0.7777777777777778,
              "#fb9f3a"
             ],
             [
              0.8888888888888888,
              "#fdca26"
             ],
             [
              1,
              "#f0f921"
             ]
            ],
            "type": "contour"
           }
          ],
          "contourcarpet": [
           {
            "colorbar": {
             "outlinewidth": 0,
             "ticks": ""
            },
            "type": "contourcarpet"
           }
          ],
          "heatmap": [
           {
            "colorbar": {
             "outlinewidth": 0,
             "ticks": ""
            },
            "colorscale": [
             [
              0,
              "#0d0887"
             ],
             [
              0.1111111111111111,
              "#46039f"
             ],
             [
              0.2222222222222222,
              "#7201a8"
             ],
             [
              0.3333333333333333,
              "#9c179e"
             ],
             [
              0.4444444444444444,
              "#bd3786"
             ],
             [
              0.5555555555555556,
              "#d8576b"
             ],
             [
              0.6666666666666666,
              "#ed7953"
             ],
             [
              0.7777777777777778,
              "#fb9f3a"
             ],
             [
              0.8888888888888888,
              "#fdca26"
             ],
             [
              1,
              "#f0f921"
             ]
            ],
            "type": "heatmap"
           }
          ],
          "heatmapgl": [
           {
            "colorbar": {
             "outlinewidth": 0,
             "ticks": ""
            },
            "colorscale": [
             [
              0,
              "#0d0887"
             ],
             [
              0.1111111111111111,
              "#46039f"
             ],
             [
              0.2222222222222222,
              "#7201a8"
             ],
             [
              0.3333333333333333,
              "#9c179e"
             ],
             [
              0.4444444444444444,
              "#bd3786"
             ],
             [
              0.5555555555555556,
              "#d8576b"
             ],
             [
              0.6666666666666666,
              "#ed7953"
             ],
             [
              0.7777777777777778,
              "#fb9f3a"
             ],
             [
              0.8888888888888888,
              "#fdca26"
             ],
             [
              1,
              "#f0f921"
             ]
            ],
            "type": "heatmapgl"
           }
          ],
          "histogram": [
           {
            "marker": {
             "pattern": {
              "fillmode": "overlay",
              "size": 10,
              "solidity": 0.2
             }
            },
            "type": "histogram"
           }
          ],
          "histogram2d": [
           {
            "colorbar": {
             "outlinewidth": 0,
             "ticks": ""
            },
            "colorscale": [
             [
              0,
              "#0d0887"
             ],
             [
              0.1111111111111111,
              "#46039f"
             ],
             [
              0.2222222222222222,
              "#7201a8"
             ],
             [
              0.3333333333333333,
              "#9c179e"
             ],
             [
              0.4444444444444444,
              "#bd3786"
             ],
             [
              0.5555555555555556,
              "#d8576b"
             ],
             [
              0.6666666666666666,
              "#ed7953"
             ],
             [
              0.7777777777777778,
              "#fb9f3a"
             ],
             [
              0.8888888888888888,
              "#fdca26"
             ],
             [
              1,
              "#f0f921"
             ]
            ],
            "type": "histogram2d"
           }
          ],
          "histogram2dcontour": [
           {
            "colorbar": {
             "outlinewidth": 0,
             "ticks": ""
            },
            "colorscale": [
             [
              0,
              "#0d0887"
             ],
             [
              0.1111111111111111,
              "#46039f"
             ],
             [
              0.2222222222222222,
              "#7201a8"
             ],
             [
              0.3333333333333333,
              "#9c179e"
             ],
             [
              0.4444444444444444,
              "#bd3786"
             ],
             [
              0.5555555555555556,
              "#d8576b"
             ],
             [
              0.6666666666666666,
              "#ed7953"
             ],
             [
              0.7777777777777778,
              "#fb9f3a"
             ],
             [
              0.8888888888888888,
              "#fdca26"
             ],
             [
              1,
              "#f0f921"
             ]
            ],
            "type": "histogram2dcontour"
           }
          ],
          "mesh3d": [
           {
            "colorbar": {
             "outlinewidth": 0,
             "ticks": ""
            },
            "type": "mesh3d"
           }
          ],
          "parcoords": [
           {
            "line": {
             "colorbar": {
              "outlinewidth": 0,
              "ticks": ""
             }
            },
            "type": "parcoords"
           }
          ],
          "pie": [
           {
            "automargin": true,
            "type": "pie"
           }
          ],
          "scatter": [
           {
            "fillpattern": {
             "fillmode": "overlay",
             "size": 10,
             "solidity": 0.2
            },
            "type": "scatter"
           }
          ],
          "scatter3d": [
           {
            "line": {
             "colorbar": {
              "outlinewidth": 0,
              "ticks": ""
             }
            },
            "marker": {
             "colorbar": {
              "outlinewidth": 0,
              "ticks": ""
             }
            },
            "type": "scatter3d"
           }
          ],
          "scattercarpet": [
           {
            "marker": {
             "colorbar": {
              "outlinewidth": 0,
              "ticks": ""
             }
            },
            "type": "scattercarpet"
           }
          ],
          "scattergeo": [
           {
            "marker": {
             "colorbar": {
              "outlinewidth": 0,
              "ticks": ""
             }
            },
            "type": "scattergeo"
           }
          ],
          "scattergl": [
           {
            "marker": {
             "colorbar": {
              "outlinewidth": 0,
              "ticks": ""
             }
            },
            "type": "scattergl"
           }
          ],
          "scattermapbox": [
           {
            "marker": {
             "colorbar": {
              "outlinewidth": 0,
              "ticks": ""
             }
            },
            "type": "scattermapbox"
           }
          ],
          "scatterpolar": [
           {
            "marker": {
             "colorbar": {
              "outlinewidth": 0,
              "ticks": ""
             }
            },
            "type": "scatterpolar"
           }
          ],
          "scatterpolargl": [
           {
            "marker": {
             "colorbar": {
              "outlinewidth": 0,
              "ticks": ""
             }
            },
            "type": "scatterpolargl"
           }
          ],
          "scatterternary": [
           {
            "marker": {
             "colorbar": {
              "outlinewidth": 0,
              "ticks": ""
             }
            },
            "type": "scatterternary"
           }
          ],
          "surface": [
           {
            "colorbar": {
             "outlinewidth": 0,
             "ticks": ""
            },
            "colorscale": [
             [
              0,
              "#0d0887"
             ],
             [
              0.1111111111111111,
              "#46039f"
             ],
             [
              0.2222222222222222,
              "#7201a8"
             ],
             [
              0.3333333333333333,
              "#9c179e"
             ],
             [
              0.4444444444444444,
              "#bd3786"
             ],
             [
              0.5555555555555556,
              "#d8576b"
             ],
             [
              0.6666666666666666,
              "#ed7953"
             ],
             [
              0.7777777777777778,
              "#fb9f3a"
             ],
             [
              0.8888888888888888,
              "#fdca26"
             ],
             [
              1,
              "#f0f921"
             ]
            ],
            "type": "surface"
           }
          ],
          "table": [
           {
            "cells": {
             "fill": {
              "color": "#EBF0F8"
             },
             "line": {
              "color": "white"
             }
            },
            "header": {
             "fill": {
              "color": "#C8D4E3"
             },
             "line": {
              "color": "white"
             }
            },
            "type": "table"
           }
          ]
         },
         "layout": {
          "annotationdefaults": {
           "arrowcolor": "#2a3f5f",
           "arrowhead": 0,
           "arrowwidth": 1
          },
          "autotypenumbers": "strict",
          "coloraxis": {
           "colorbar": {
            "outlinewidth": 0,
            "ticks": ""
           }
          },
          "colorscale": {
           "diverging": [
            [
             0,
             "#8e0152"
            ],
            [
             0.1,
             "#c51b7d"
            ],
            [
             0.2,
             "#de77ae"
            ],
            [
             0.3,
             "#f1b6da"
            ],
            [
             0.4,
             "#fde0ef"
            ],
            [
             0.5,
             "#f7f7f7"
            ],
            [
             0.6,
             "#e6f5d0"
            ],
            [
             0.7,
             "#b8e186"
            ],
            [
             0.8,
             "#7fbc41"
            ],
            [
             0.9,
             "#4d9221"
            ],
            [
             1,
             "#276419"
            ]
           ],
           "sequential": [
            [
             0,
             "#0d0887"
            ],
            [
             0.1111111111111111,
             "#46039f"
            ],
            [
             0.2222222222222222,
             "#7201a8"
            ],
            [
             0.3333333333333333,
             "#9c179e"
            ],
            [
             0.4444444444444444,
             "#bd3786"
            ],
            [
             0.5555555555555556,
             "#d8576b"
            ],
            [
             0.6666666666666666,
             "#ed7953"
            ],
            [
             0.7777777777777778,
             "#fb9f3a"
            ],
            [
             0.8888888888888888,
             "#fdca26"
            ],
            [
             1,
             "#f0f921"
            ]
           ],
           "sequentialminus": [
            [
             0,
             "#0d0887"
            ],
            [
             0.1111111111111111,
             "#46039f"
            ],
            [
             0.2222222222222222,
             "#7201a8"
            ],
            [
             0.3333333333333333,
             "#9c179e"
            ],
            [
             0.4444444444444444,
             "#bd3786"
            ],
            [
             0.5555555555555556,
             "#d8576b"
            ],
            [
             0.6666666666666666,
             "#ed7953"
            ],
            [
             0.7777777777777778,
             "#fb9f3a"
            ],
            [
             0.8888888888888888,
             "#fdca26"
            ],
            [
             1,
             "#f0f921"
            ]
           ]
          },
          "colorway": [
           "#636efa",
           "#EF553B",
           "#00cc96",
           "#ab63fa",
           "#FFA15A",
           "#19d3f3",
           "#FF6692",
           "#B6E880",
           "#FF97FF",
           "#FECB52"
          ],
          "font": {
           "color": "#2a3f5f"
          },
          "geo": {
           "bgcolor": "white",
           "lakecolor": "white",
           "landcolor": "#E5ECF6",
           "showlakes": true,
           "showland": true,
           "subunitcolor": "white"
          },
          "hoverlabel": {
           "align": "left"
          },
          "hovermode": "closest",
          "mapbox": {
           "style": "light"
          },
          "paper_bgcolor": "white",
          "plot_bgcolor": "#E5ECF6",
          "polar": {
           "angularaxis": {
            "gridcolor": "white",
            "linecolor": "white",
            "ticks": ""
           },
           "bgcolor": "#E5ECF6",
           "radialaxis": {
            "gridcolor": "white",
            "linecolor": "white",
            "ticks": ""
           }
          },
          "scene": {
           "xaxis": {
            "backgroundcolor": "#E5ECF6",
            "gridcolor": "white",
            "gridwidth": 2,
            "linecolor": "white",
            "showbackground": true,
            "ticks": "",
            "zerolinecolor": "white"
           },
           "yaxis": {
            "backgroundcolor": "#E5ECF6",
            "gridcolor": "white",
            "gridwidth": 2,
            "linecolor": "white",
            "showbackground": true,
            "ticks": "",
            "zerolinecolor": "white"
           },
           "zaxis": {
            "backgroundcolor": "#E5ECF6",
            "gridcolor": "white",
            "gridwidth": 2,
            "linecolor": "white",
            "showbackground": true,
            "ticks": "",
            "zerolinecolor": "white"
           }
          },
          "shapedefaults": {
           "line": {
            "color": "#2a3f5f"
           }
          },
          "ternary": {
           "aaxis": {
            "gridcolor": "white",
            "linecolor": "white",
            "ticks": ""
           },
           "baxis": {
            "gridcolor": "white",
            "linecolor": "white",
            "ticks": ""
           },
           "bgcolor": "#E5ECF6",
           "caxis": {
            "gridcolor": "white",
            "linecolor": "white",
            "ticks": ""
           }
          },
          "title": {
           "x": 0.05
          },
          "xaxis": {
           "automargin": true,
           "gridcolor": "white",
           "linecolor": "white",
           "ticks": "",
           "title": {
            "standoff": 15
           },
           "zerolinecolor": "white",
           "zerolinewidth": 2
          },
          "yaxis": {
           "automargin": true,
           "gridcolor": "white",
           "linecolor": "white",
           "ticks": "",
           "title": {
            "standoff": 15
           },
           "zerolinecolor": "white",
           "zerolinewidth": 2
          }
         }
        },
        "xaxis": {
         "anchor": "y",
         "domain": [
          0,
          1
         ],
         "title": {
          "text": "Months (January 2021 - December 2021)"
         }
        },
        "yaxis": {
         "anchor": "x",
         "domain": [
          0,
          1
         ],
         "title": {
          "text": "Average Ride Length (minutes)"
         }
        }
       }
      }
     },
     "metadata": {},
     "output_type": "display_data"
    }
   ],
   "source": [
    "#Average Ride Length in Each Month\n",
    "data_cleaned_3=round(data_cleaned_3.groupby(['member_casual','month', 'month_name'], as_index=False)['ride_length'].agg('mean'),2).dropna()\n",
    "\n",
    "px.bar(data_cleaned_3, x = 'month_name', y = 'ride_length',\n",
    "        color = 'member_casual',\n",
    "        barmode='group',\n",
    "        text = 'ride_length', \n",
    "        labels = {'ride_length': 'Average Ride Length (minutes)', 'member_casual': 'Member/Casual', 'month_name': 'Months (January 2021 - December 2021)'},\n",
    "        hover_name = 'member_casual', hover_data = {'member_casual': False, 'ride_length': True}, \n",
    "        color_discrete_map = {'casual': '#058ED9', 'member': '#FF934F'})"
   ]
  },
  {
   "cell_type": "code",
   "execution_count": 37,
   "metadata": {},
   "outputs": [
    {
     "name": "stderr",
     "output_type": "stream",
     "text": [
      "C:\\Users\\Ho\\AppData\\Local\\Packages\\PythonSoftwareFoundation.Python.3.12_qbz5n2kfra8p0\\LocalCache\\local-packages\\Python312\\site-packages\\plotly\\express\\_core.py:2065: FutureWarning:\n",
      "\n",
      "When grouping with a length-1 list-like, you will need to pass a length-1 tuple to get_group in a future version of pandas. Pass `(name,)` instead of `name` to silence this warning.\n",
      "\n"
     ]
    },
    {
     "data": {
      "application/vnd.plotly.v1+json": {
       "config": {
        "plotlyServerURL": "https://plot.ly"
       },
       "data": [
        {
         "alignmentgroup": "True",
         "customdata": [
          [
           "casual",
           417404
          ],
          [
           "casual",
           24956
          ],
          [
           "casual",
           279536
          ]
         ],
         "hovertemplate": "<b>%{hovertext}</b><br><br>Rideable Type=%{x}<br>No. of Rides=%{text}<extra></extra>",
         "hovertext": [
          "casual",
          "casual",
          "casual"
         ],
         "legendgroup": "casual",
         "marker": {
          "color": "#058ED9",
          "pattern": {
           "shape": ""
          }
         },
         "name": "casual",
         "offsetgroup": "casual",
         "orientation": "v",
         "showlegend": true,
         "text": [
          417404,
          24956,
          279536
         ],
         "textposition": "auto",
         "type": "bar",
         "x": [
          "classic_bike",
          "docked_bike",
          "electric_bike"
         ],
         "xaxis": "x",
         "y": [
          417404,
          24956,
          279536
         ],
         "yaxis": "y"
        },
        {
         "alignmentgroup": "True",
         "customdata": [
          [
           "member",
           949514
          ],
          [
           "member",
           510089
          ]
         ],
         "hovertemplate": "<b>%{hovertext}</b><br><br>Rideable Type=%{x}<br>No. of Rides=%{text}<extra></extra>",
         "hovertext": [
          "member",
          "member"
         ],
         "legendgroup": "member",
         "marker": {
          "color": "#FF934F",
          "pattern": {
           "shape": ""
          }
         },
         "name": "member",
         "offsetgroup": "member",
         "orientation": "v",
         "showlegend": true,
         "text": [
          949514,
          510089
         ],
         "textposition": "auto",
         "type": "bar",
         "x": [
          "classic_bike",
          "electric_bike"
         ],
         "xaxis": "x",
         "y": [
          949514,
          510089
         ],
         "yaxis": "y"
        }
       ],
       "layout": {
        "barmode": "group",
        "legend": {
         "title": {
          "text": "Member/Casual"
         },
         "tracegroupgap": 0
        },
        "margin": {
         "t": 60
        },
        "template": {
         "data": {
          "bar": [
           {
            "error_x": {
             "color": "#2a3f5f"
            },
            "error_y": {
             "color": "#2a3f5f"
            },
            "marker": {
             "line": {
              "color": "#E5ECF6",
              "width": 0.5
             },
             "pattern": {
              "fillmode": "overlay",
              "size": 10,
              "solidity": 0.2
             }
            },
            "type": "bar"
           }
          ],
          "barpolar": [
           {
            "marker": {
             "line": {
              "color": "#E5ECF6",
              "width": 0.5
             },
             "pattern": {
              "fillmode": "overlay",
              "size": 10,
              "solidity": 0.2
             }
            },
            "type": "barpolar"
           }
          ],
          "carpet": [
           {
            "aaxis": {
             "endlinecolor": "#2a3f5f",
             "gridcolor": "white",
             "linecolor": "white",
             "minorgridcolor": "white",
             "startlinecolor": "#2a3f5f"
            },
            "baxis": {
             "endlinecolor": "#2a3f5f",
             "gridcolor": "white",
             "linecolor": "white",
             "minorgridcolor": "white",
             "startlinecolor": "#2a3f5f"
            },
            "type": "carpet"
           }
          ],
          "choropleth": [
           {
            "colorbar": {
             "outlinewidth": 0,
             "ticks": ""
            },
            "type": "choropleth"
           }
          ],
          "contour": [
           {
            "colorbar": {
             "outlinewidth": 0,
             "ticks": ""
            },
            "colorscale": [
             [
              0,
              "#0d0887"
             ],
             [
              0.1111111111111111,
              "#46039f"
             ],
             [
              0.2222222222222222,
              "#7201a8"
             ],
             [
              0.3333333333333333,
              "#9c179e"
             ],
             [
              0.4444444444444444,
              "#bd3786"
             ],
             [
              0.5555555555555556,
              "#d8576b"
             ],
             [
              0.6666666666666666,
              "#ed7953"
             ],
             [
              0.7777777777777778,
              "#fb9f3a"
             ],
             [
              0.8888888888888888,
              "#fdca26"
             ],
             [
              1,
              "#f0f921"
             ]
            ],
            "type": "contour"
           }
          ],
          "contourcarpet": [
           {
            "colorbar": {
             "outlinewidth": 0,
             "ticks": ""
            },
            "type": "contourcarpet"
           }
          ],
          "heatmap": [
           {
            "colorbar": {
             "outlinewidth": 0,
             "ticks": ""
            },
            "colorscale": [
             [
              0,
              "#0d0887"
             ],
             [
              0.1111111111111111,
              "#46039f"
             ],
             [
              0.2222222222222222,
              "#7201a8"
             ],
             [
              0.3333333333333333,
              "#9c179e"
             ],
             [
              0.4444444444444444,
              "#bd3786"
             ],
             [
              0.5555555555555556,
              "#d8576b"
             ],
             [
              0.6666666666666666,
              "#ed7953"
             ],
             [
              0.7777777777777778,
              "#fb9f3a"
             ],
             [
              0.8888888888888888,
              "#fdca26"
             ],
             [
              1,
              "#f0f921"
             ]
            ],
            "type": "heatmap"
           }
          ],
          "heatmapgl": [
           {
            "colorbar": {
             "outlinewidth": 0,
             "ticks": ""
            },
            "colorscale": [
             [
              0,
              "#0d0887"
             ],
             [
              0.1111111111111111,
              "#46039f"
             ],
             [
              0.2222222222222222,
              "#7201a8"
             ],
             [
              0.3333333333333333,
              "#9c179e"
             ],
             [
              0.4444444444444444,
              "#bd3786"
             ],
             [
              0.5555555555555556,
              "#d8576b"
             ],
             [
              0.6666666666666666,
              "#ed7953"
             ],
             [
              0.7777777777777778,
              "#fb9f3a"
             ],
             [
              0.8888888888888888,
              "#fdca26"
             ],
             [
              1,
              "#f0f921"
             ]
            ],
            "type": "heatmapgl"
           }
          ],
          "histogram": [
           {
            "marker": {
             "pattern": {
              "fillmode": "overlay",
              "size": 10,
              "solidity": 0.2
             }
            },
            "type": "histogram"
           }
          ],
          "histogram2d": [
           {
            "colorbar": {
             "outlinewidth": 0,
             "ticks": ""
            },
            "colorscale": [
             [
              0,
              "#0d0887"
             ],
             [
              0.1111111111111111,
              "#46039f"
             ],
             [
              0.2222222222222222,
              "#7201a8"
             ],
             [
              0.3333333333333333,
              "#9c179e"
             ],
             [
              0.4444444444444444,
              "#bd3786"
             ],
             [
              0.5555555555555556,
              "#d8576b"
             ],
             [
              0.6666666666666666,
              "#ed7953"
             ],
             [
              0.7777777777777778,
              "#fb9f3a"
             ],
             [
              0.8888888888888888,
              "#fdca26"
             ],
             [
              1,
              "#f0f921"
             ]
            ],
            "type": "histogram2d"
           }
          ],
          "histogram2dcontour": [
           {
            "colorbar": {
             "outlinewidth": 0,
             "ticks": ""
            },
            "colorscale": [
             [
              0,
              "#0d0887"
             ],
             [
              0.1111111111111111,
              "#46039f"
             ],
             [
              0.2222222222222222,
              "#7201a8"
             ],
             [
              0.3333333333333333,
              "#9c179e"
             ],
             [
              0.4444444444444444,
              "#bd3786"
             ],
             [
              0.5555555555555556,
              "#d8576b"
             ],
             [
              0.6666666666666666,
              "#ed7953"
             ],
             [
              0.7777777777777778,
              "#fb9f3a"
             ],
             [
              0.8888888888888888,
              "#fdca26"
             ],
             [
              1,
              "#f0f921"
             ]
            ],
            "type": "histogram2dcontour"
           }
          ],
          "mesh3d": [
           {
            "colorbar": {
             "outlinewidth": 0,
             "ticks": ""
            },
            "type": "mesh3d"
           }
          ],
          "parcoords": [
           {
            "line": {
             "colorbar": {
              "outlinewidth": 0,
              "ticks": ""
             }
            },
            "type": "parcoords"
           }
          ],
          "pie": [
           {
            "automargin": true,
            "type": "pie"
           }
          ],
          "scatter": [
           {
            "fillpattern": {
             "fillmode": "overlay",
             "size": 10,
             "solidity": 0.2
            },
            "type": "scatter"
           }
          ],
          "scatter3d": [
           {
            "line": {
             "colorbar": {
              "outlinewidth": 0,
              "ticks": ""
             }
            },
            "marker": {
             "colorbar": {
              "outlinewidth": 0,
              "ticks": ""
             }
            },
            "type": "scatter3d"
           }
          ],
          "scattercarpet": [
           {
            "marker": {
             "colorbar": {
              "outlinewidth": 0,
              "ticks": ""
             }
            },
            "type": "scattercarpet"
           }
          ],
          "scattergeo": [
           {
            "marker": {
             "colorbar": {
              "outlinewidth": 0,
              "ticks": ""
             }
            },
            "type": "scattergeo"
           }
          ],
          "scattergl": [
           {
            "marker": {
             "colorbar": {
              "outlinewidth": 0,
              "ticks": ""
             }
            },
            "type": "scattergl"
           }
          ],
          "scattermapbox": [
           {
            "marker": {
             "colorbar": {
              "outlinewidth": 0,
              "ticks": ""
             }
            },
            "type": "scattermapbox"
           }
          ],
          "scatterpolar": [
           {
            "marker": {
             "colorbar": {
              "outlinewidth": 0,
              "ticks": ""
             }
            },
            "type": "scatterpolar"
           }
          ],
          "scatterpolargl": [
           {
            "marker": {
             "colorbar": {
              "outlinewidth": 0,
              "ticks": ""
             }
            },
            "type": "scatterpolargl"
           }
          ],
          "scatterternary": [
           {
            "marker": {
             "colorbar": {
              "outlinewidth": 0,
              "ticks": ""
             }
            },
            "type": "scatterternary"
           }
          ],
          "surface": [
           {
            "colorbar": {
             "outlinewidth": 0,
             "ticks": ""
            },
            "colorscale": [
             [
              0,
              "#0d0887"
             ],
             [
              0.1111111111111111,
              "#46039f"
             ],
             [
              0.2222222222222222,
              "#7201a8"
             ],
             [
              0.3333333333333333,
              "#9c179e"
             ],
             [
              0.4444444444444444,
              "#bd3786"
             ],
             [
              0.5555555555555556,
              "#d8576b"
             ],
             [
              0.6666666666666666,
              "#ed7953"
             ],
             [
              0.7777777777777778,
              "#fb9f3a"
             ],
             [
              0.8888888888888888,
              "#fdca26"
             ],
             [
              1,
              "#f0f921"
             ]
            ],
            "type": "surface"
           }
          ],
          "table": [
           {
            "cells": {
             "fill": {
              "color": "#EBF0F8"
             },
             "line": {
              "color": "white"
             }
            },
            "header": {
             "fill": {
              "color": "#C8D4E3"
             },
             "line": {
              "color": "white"
             }
            },
            "type": "table"
           }
          ]
         },
         "layout": {
          "annotationdefaults": {
           "arrowcolor": "#2a3f5f",
           "arrowhead": 0,
           "arrowwidth": 1
          },
          "autotypenumbers": "strict",
          "coloraxis": {
           "colorbar": {
            "outlinewidth": 0,
            "ticks": ""
           }
          },
          "colorscale": {
           "diverging": [
            [
             0,
             "#8e0152"
            ],
            [
             0.1,
             "#c51b7d"
            ],
            [
             0.2,
             "#de77ae"
            ],
            [
             0.3,
             "#f1b6da"
            ],
            [
             0.4,
             "#fde0ef"
            ],
            [
             0.5,
             "#f7f7f7"
            ],
            [
             0.6,
             "#e6f5d0"
            ],
            [
             0.7,
             "#b8e186"
            ],
            [
             0.8,
             "#7fbc41"
            ],
            [
             0.9,
             "#4d9221"
            ],
            [
             1,
             "#276419"
            ]
           ],
           "sequential": [
            [
             0,
             "#0d0887"
            ],
            [
             0.1111111111111111,
             "#46039f"
            ],
            [
             0.2222222222222222,
             "#7201a8"
            ],
            [
             0.3333333333333333,
             "#9c179e"
            ],
            [
             0.4444444444444444,
             "#bd3786"
            ],
            [
             0.5555555555555556,
             "#d8576b"
            ],
            [
             0.6666666666666666,
             "#ed7953"
            ],
            [
             0.7777777777777778,
             "#fb9f3a"
            ],
            [
             0.8888888888888888,
             "#fdca26"
            ],
            [
             1,
             "#f0f921"
            ]
           ],
           "sequentialminus": [
            [
             0,
             "#0d0887"
            ],
            [
             0.1111111111111111,
             "#46039f"
            ],
            [
             0.2222222222222222,
             "#7201a8"
            ],
            [
             0.3333333333333333,
             "#9c179e"
            ],
            [
             0.4444444444444444,
             "#bd3786"
            ],
            [
             0.5555555555555556,
             "#d8576b"
            ],
            [
             0.6666666666666666,
             "#ed7953"
            ],
            [
             0.7777777777777778,
             "#fb9f3a"
            ],
            [
             0.8888888888888888,
             "#fdca26"
            ],
            [
             1,
             "#f0f921"
            ]
           ]
          },
          "colorway": [
           "#636efa",
           "#EF553B",
           "#00cc96",
           "#ab63fa",
           "#FFA15A",
           "#19d3f3",
           "#FF6692",
           "#B6E880",
           "#FF97FF",
           "#FECB52"
          ],
          "font": {
           "color": "#2a3f5f"
          },
          "geo": {
           "bgcolor": "white",
           "lakecolor": "white",
           "landcolor": "#E5ECF6",
           "showlakes": true,
           "showland": true,
           "subunitcolor": "white"
          },
          "hoverlabel": {
           "align": "left"
          },
          "hovermode": "closest",
          "mapbox": {
           "style": "light"
          },
          "paper_bgcolor": "white",
          "plot_bgcolor": "#E5ECF6",
          "polar": {
           "angularaxis": {
            "gridcolor": "white",
            "linecolor": "white",
            "ticks": ""
           },
           "bgcolor": "#E5ECF6",
           "radialaxis": {
            "gridcolor": "white",
            "linecolor": "white",
            "ticks": ""
           }
          },
          "scene": {
           "xaxis": {
            "backgroundcolor": "#E5ECF6",
            "gridcolor": "white",
            "gridwidth": 2,
            "linecolor": "white",
            "showbackground": true,
            "ticks": "",
            "zerolinecolor": "white"
           },
           "yaxis": {
            "backgroundcolor": "#E5ECF6",
            "gridcolor": "white",
            "gridwidth": 2,
            "linecolor": "white",
            "showbackground": true,
            "ticks": "",
            "zerolinecolor": "white"
           },
           "zaxis": {
            "backgroundcolor": "#E5ECF6",
            "gridcolor": "white",
            "gridwidth": 2,
            "linecolor": "white",
            "showbackground": true,
            "ticks": "",
            "zerolinecolor": "white"
           }
          },
          "shapedefaults": {
           "line": {
            "color": "#2a3f5f"
           }
          },
          "ternary": {
           "aaxis": {
            "gridcolor": "white",
            "linecolor": "white",
            "ticks": ""
           },
           "baxis": {
            "gridcolor": "white",
            "linecolor": "white",
            "ticks": ""
           },
           "bgcolor": "#E5ECF6",
           "caxis": {
            "gridcolor": "white",
            "linecolor": "white",
            "ticks": ""
           }
          },
          "title": {
           "x": 0.05
          },
          "xaxis": {
           "automargin": true,
           "gridcolor": "white",
           "linecolor": "white",
           "ticks": "",
           "title": {
            "standoff": 15
           },
           "zerolinecolor": "white",
           "zerolinewidth": 2
          },
          "yaxis": {
           "automargin": true,
           "gridcolor": "white",
           "linecolor": "white",
           "ticks": "",
           "title": {
            "standoff": 15
           },
           "zerolinecolor": "white",
           "zerolinewidth": 2
          }
         }
        },
        "xaxis": {
         "anchor": "y",
         "domain": [
          0,
          1
         ],
         "title": {
          "text": "Rideable Type"
         }
        },
        "yaxis": {
         "anchor": "x",
         "domain": [
          0,
          1
         ],
         "title": {
          "text": "No. of Rides"
         }
        }
       }
      }
     },
     "metadata": {},
     "output_type": "display_data"
    }
   ],
   "source": [
    "# Let's visualize most preferred bike by users\n",
    "\n",
    "data_cleaned_5 = data_cleaned.groupby(['rideable_type', 'member_casual'], as_index=False).count()\n",
    "\n",
    "px.bar(data_cleaned_5, x = 'rideable_type', y = 'ride_id',\n",
    "        color = 'member_casual',\n",
    "        barmode='group',\n",
    "        text = 'ride_id', \n",
    "        labels = {'ride_id': 'No. of Rides', 'member_casual': 'Member/Casual', 'rideable_type' : 'Rideable Type'},\n",
    "        hover_name = 'member_casual', hover_data = {'member_casual': False, 'ride_length': False}, \n",
    "        color_discrete_map = {'casual': '#058ED9', 'member': '#FF934F'})"
   ]
  },
  {
   "cell_type": "code",
   "execution_count": null,
   "metadata": {},
   "outputs": [
    {
     "name": "stderr",
     "output_type": "stream",
     "text": [
      "C:\\Users\\Ho\\AppData\\Local\\Packages\\PythonSoftwareFoundation.Python.3.12_qbz5n2kfra8p0\\LocalCache\\local-packages\\Python312\\site-packages\\plotly\\express\\_core.py:2065: FutureWarning:\n",
      "\n",
      "When grouping with a length-1 list-like, you will need to pass a length-1 tuple to get_group in a future version of pandas. Pass `(name,)` instead of `name` to silence this warning.\n",
      "\n"
     ]
    },
    {
     "data": {
      "application/vnd.plotly.v1+json": {
       "config": {
        "plotlyServerURL": "https://plot.ly"
       },
       "data": [
        {
         "customdata": [
          [
           "casual",
           1
          ],
          [
           "casual",
           2
          ],
          [
           "casual",
           3
          ],
          [
           "casual",
           4
          ],
          [
           "casual",
           5
          ],
          [
           "casual",
           6
          ],
          [
           "casual",
           7
          ],
          [
           "casual",
           9
          ],
          [
           "casual",
           10
          ],
          [
           "casual",
           11
          ]
         ],
         "hovertemplate": "<b>%{hovertext}</b><br><br>month_name=%{x}<br>No. of Rides=%{y}<br>Months (January 2021 - December 2021)=%{customdata[1]}<extra></extra>",
         "hovertext": [
          "casual",
          "casual",
          "casual",
          "casual",
          "casual",
          "casual",
          "casual",
          "casual",
          "casual",
          "casual"
         ],
         "legendgroup": "casual",
         "line": {
          "color": "#058ED9",
          "dash": "solid",
          "shape": "spline"
         },
         "marker": {
          "symbol": "circle"
         },
         "mode": "markers+lines",
         "name": "casual",
         "orientation": "v",
         "showlegend": true,
         "type": "scatter",
         "x": [
          "January",
          "February",
          "March",
          "April",
          "May",
          "June",
          "July",
          "September",
          "October",
          "November"
         ],
         "xaxis": "x",
         "y": [
          29277,
          32408,
          37121,
          48855,
          57371,
          70836,
          74797,
          195298,
          129184,
          46749
         ],
         "yaxis": "y"
        },
        {
         "customdata": [
          [
           "member",
           1
          ],
          [
           "member",
           2
          ],
          [
           "member",
           3
          ],
          [
           "member",
           4
          ],
          [
           "member",
           5
          ],
          [
           "member",
           6
          ],
          [
           "member",
           7
          ],
          [
           "member",
           9
          ],
          [
           "member",
           10
          ],
          [
           "member",
           11
          ]
         ],
         "hovertemplate": "<b>%{hovertext}</b><br><br>month_name=%{x}<br>No. of Rides=%{y}<br>Months (January 2021 - December 2021)=%{customdata[1]}<extra></extra>",
         "hovertext": [
          "member",
          "member",
          "member",
          "member",
          "member",
          "member",
          "member",
          "member",
          "member",
          "member"
         ],
         "legendgroup": "member",
         "line": {
          "color": "#FF934F",
          "dash": "solid",
          "shape": "spline"
         },
         "marker": {
          "symbol": "circle"
         },
         "mode": "markers+lines",
         "name": "member",
         "orientation": "v",
         "showlegend": true,
         "type": "scatter",
         "x": [
          "January",
          "February",
          "March",
          "April",
          "May",
          "June",
          "July",
          "September",
          "October",
          "November"
         ],
         "xaxis": "x",
         "y": [
          116723,
          114897,
          119374,
          86769,
          101523,
          105726,
          107653,
          306423,
          270645,
          129870
         ],
         "yaxis": "y"
        }
       ],
       "layout": {
        "legend": {
         "title": {
          "text": "Member/Casual"
         },
         "tracegroupgap": 0
        },
        "margin": {
         "t": 60
        },
        "template": {
         "data": {
          "bar": [
           {
            "error_x": {
             "color": "#2a3f5f"
            },
            "error_y": {
             "color": "#2a3f5f"
            },
            "marker": {
             "line": {
              "color": "#E5ECF6",
              "width": 0.5
             },
             "pattern": {
              "fillmode": "overlay",
              "size": 10,
              "solidity": 0.2
             }
            },
            "type": "bar"
           }
          ],
          "barpolar": [
           {
            "marker": {
             "line": {
              "color": "#E5ECF6",
              "width": 0.5
             },
             "pattern": {
              "fillmode": "overlay",
              "size": 10,
              "solidity": 0.2
             }
            },
            "type": "barpolar"
           }
          ],
          "carpet": [
           {
            "aaxis": {
             "endlinecolor": "#2a3f5f",
             "gridcolor": "white",
             "linecolor": "white",
             "minorgridcolor": "white",
             "startlinecolor": "#2a3f5f"
            },
            "baxis": {
             "endlinecolor": "#2a3f5f",
             "gridcolor": "white",
             "linecolor": "white",
             "minorgridcolor": "white",
             "startlinecolor": "#2a3f5f"
            },
            "type": "carpet"
           }
          ],
          "choropleth": [
           {
            "colorbar": {
             "outlinewidth": 0,
             "ticks": ""
            },
            "type": "choropleth"
           }
          ],
          "contour": [
           {
            "colorbar": {
             "outlinewidth": 0,
             "ticks": ""
            },
            "colorscale": [
             [
              0,
              "#0d0887"
             ],
             [
              0.1111111111111111,
              "#46039f"
             ],
             [
              0.2222222222222222,
              "#7201a8"
             ],
             [
              0.3333333333333333,
              "#9c179e"
             ],
             [
              0.4444444444444444,
              "#bd3786"
             ],
             [
              0.5555555555555556,
              "#d8576b"
             ],
             [
              0.6666666666666666,
              "#ed7953"
             ],
             [
              0.7777777777777778,
              "#fb9f3a"
             ],
             [
              0.8888888888888888,
              "#fdca26"
             ],
             [
              1,
              "#f0f921"
             ]
            ],
            "type": "contour"
           }
          ],
          "contourcarpet": [
           {
            "colorbar": {
             "outlinewidth": 0,
             "ticks": ""
            },
            "type": "contourcarpet"
           }
          ],
          "heatmap": [
           {
            "colorbar": {
             "outlinewidth": 0,
             "ticks": ""
            },
            "colorscale": [
             [
              0,
              "#0d0887"
             ],
             [
              0.1111111111111111,
              "#46039f"
             ],
             [
              0.2222222222222222,
              "#7201a8"
             ],
             [
              0.3333333333333333,
              "#9c179e"
             ],
             [
              0.4444444444444444,
              "#bd3786"
             ],
             [
              0.5555555555555556,
              "#d8576b"
             ],
             [
              0.6666666666666666,
              "#ed7953"
             ],
             [
              0.7777777777777778,
              "#fb9f3a"
             ],
             [
              0.8888888888888888,
              "#fdca26"
             ],
             [
              1,
              "#f0f921"
             ]
            ],
            "type": "heatmap"
           }
          ],
          "heatmapgl": [
           {
            "colorbar": {
             "outlinewidth": 0,
             "ticks": ""
            },
            "colorscale": [
             [
              0,
              "#0d0887"
             ],
             [
              0.1111111111111111,
              "#46039f"
             ],
             [
              0.2222222222222222,
              "#7201a8"
             ],
             [
              0.3333333333333333,
              "#9c179e"
             ],
             [
              0.4444444444444444,
              "#bd3786"
             ],
             [
              0.5555555555555556,
              "#d8576b"
             ],
             [
              0.6666666666666666,
              "#ed7953"
             ],
             [
              0.7777777777777778,
              "#fb9f3a"
             ],
             [
              0.8888888888888888,
              "#fdca26"
             ],
             [
              1,
              "#f0f921"
             ]
            ],
            "type": "heatmapgl"
           }
          ],
          "histogram": [
           {
            "marker": {
             "pattern": {
              "fillmode": "overlay",
              "size": 10,
              "solidity": 0.2
             }
            },
            "type": "histogram"
           }
          ],
          "histogram2d": [
           {
            "colorbar": {
             "outlinewidth": 0,
             "ticks": ""
            },
            "colorscale": [
             [
              0,
              "#0d0887"
             ],
             [
              0.1111111111111111,
              "#46039f"
             ],
             [
              0.2222222222222222,
              "#7201a8"
             ],
             [
              0.3333333333333333,
              "#9c179e"
             ],
             [
              0.4444444444444444,
              "#bd3786"
             ],
             [
              0.5555555555555556,
              "#d8576b"
             ],
             [
              0.6666666666666666,
              "#ed7953"
             ],
             [
              0.7777777777777778,
              "#fb9f3a"
             ],
             [
              0.8888888888888888,
              "#fdca26"
             ],
             [
              1,
              "#f0f921"
             ]
            ],
            "type": "histogram2d"
           }
          ],
          "histogram2dcontour": [
           {
            "colorbar": {
             "outlinewidth": 0,
             "ticks": ""
            },
            "colorscale": [
             [
              0,
              "#0d0887"
             ],
             [
              0.1111111111111111,
              "#46039f"
             ],
             [
              0.2222222222222222,
              "#7201a8"
             ],
             [
              0.3333333333333333,
              "#9c179e"
             ],
             [
              0.4444444444444444,
              "#bd3786"
             ],
             [
              0.5555555555555556,
              "#d8576b"
             ],
             [
              0.6666666666666666,
              "#ed7953"
             ],
             [
              0.7777777777777778,
              "#fb9f3a"
             ],
             [
              0.8888888888888888,
              "#fdca26"
             ],
             [
              1,
              "#f0f921"
             ]
            ],
            "type": "histogram2dcontour"
           }
          ],
          "mesh3d": [
           {
            "colorbar": {
             "outlinewidth": 0,
             "ticks": ""
            },
            "type": "mesh3d"
           }
          ],
          "parcoords": [
           {
            "line": {
             "colorbar": {
              "outlinewidth": 0,
              "ticks": ""
             }
            },
            "type": "parcoords"
           }
          ],
          "pie": [
           {
            "automargin": true,
            "type": "pie"
           }
          ],
          "scatter": [
           {
            "fillpattern": {
             "fillmode": "overlay",
             "size": 10,
             "solidity": 0.2
            },
            "type": "scatter"
           }
          ],
          "scatter3d": [
           {
            "line": {
             "colorbar": {
              "outlinewidth": 0,
              "ticks": ""
             }
            },
            "marker": {
             "colorbar": {
              "outlinewidth": 0,
              "ticks": ""
             }
            },
            "type": "scatter3d"
           }
          ],
          "scattercarpet": [
           {
            "marker": {
             "colorbar": {
              "outlinewidth": 0,
              "ticks": ""
             }
            },
            "type": "scattercarpet"
           }
          ],
          "scattergeo": [
           {
            "marker": {
             "colorbar": {
              "outlinewidth": 0,
              "ticks": ""
             }
            },
            "type": "scattergeo"
           }
          ],
          "scattergl": [
           {
            "marker": {
             "colorbar": {
              "outlinewidth": 0,
              "ticks": ""
             }
            },
            "type": "scattergl"
           }
          ],
          "scattermapbox": [
           {
            "marker": {
             "colorbar": {
              "outlinewidth": 0,
              "ticks": ""
             }
            },
            "type": "scattermapbox"
           }
          ],
          "scatterpolar": [
           {
            "marker": {
             "colorbar": {
              "outlinewidth": 0,
              "ticks": ""
             }
            },
            "type": "scatterpolar"
           }
          ],
          "scatterpolargl": [
           {
            "marker": {
             "colorbar": {
              "outlinewidth": 0,
              "ticks": ""
             }
            },
            "type": "scatterpolargl"
           }
          ],
          "scatterternary": [
           {
            "marker": {
             "colorbar": {
              "outlinewidth": 0,
              "ticks": ""
             }
            },
            "type": "scatterternary"
           }
          ],
          "surface": [
           {
            "colorbar": {
             "outlinewidth": 0,
             "ticks": ""
            },
            "colorscale": [
             [
              0,
              "#0d0887"
             ],
             [
              0.1111111111111111,
              "#46039f"
             ],
             [
              0.2222222222222222,
              "#7201a8"
             ],
             [
              0.3333333333333333,
              "#9c179e"
             ],
             [
              0.4444444444444444,
              "#bd3786"
             ],
             [
              0.5555555555555556,
              "#d8576b"
             ],
             [
              0.6666666666666666,
              "#ed7953"
             ],
             [
              0.7777777777777778,
              "#fb9f3a"
             ],
             [
              0.8888888888888888,
              "#fdca26"
             ],
             [
              1,
              "#f0f921"
             ]
            ],
            "type": "surface"
           }
          ],
          "table": [
           {
            "cells": {
             "fill": {
              "color": "#EBF0F8"
             },
             "line": {
              "color": "white"
             }
            },
            "header": {
             "fill": {
              "color": "#C8D4E3"
             },
             "line": {
              "color": "white"
             }
            },
            "type": "table"
           }
          ]
         },
         "layout": {
          "annotationdefaults": {
           "arrowcolor": "#2a3f5f",
           "arrowhead": 0,
           "arrowwidth": 1
          },
          "autotypenumbers": "strict",
          "coloraxis": {
           "colorbar": {
            "outlinewidth": 0,
            "ticks": ""
           }
          },
          "colorscale": {
           "diverging": [
            [
             0,
             "#8e0152"
            ],
            [
             0.1,
             "#c51b7d"
            ],
            [
             0.2,
             "#de77ae"
            ],
            [
             0.3,
             "#f1b6da"
            ],
            [
             0.4,
             "#fde0ef"
            ],
            [
             0.5,
             "#f7f7f7"
            ],
            [
             0.6,
             "#e6f5d0"
            ],
            [
             0.7,
             "#b8e186"
            ],
            [
             0.8,
             "#7fbc41"
            ],
            [
             0.9,
             "#4d9221"
            ],
            [
             1,
             "#276419"
            ]
           ],
           "sequential": [
            [
             0,
             "#0d0887"
            ],
            [
             0.1111111111111111,
             "#46039f"
            ],
            [
             0.2222222222222222,
             "#7201a8"
            ],
            [
             0.3333333333333333,
             "#9c179e"
            ],
            [
             0.4444444444444444,
             "#bd3786"
            ],
            [
             0.5555555555555556,
             "#d8576b"
            ],
            [
             0.6666666666666666,
             "#ed7953"
            ],
            [
             0.7777777777777778,
             "#fb9f3a"
            ],
            [
             0.8888888888888888,
             "#fdca26"
            ],
            [
             1,
             "#f0f921"
            ]
           ],
           "sequentialminus": [
            [
             0,
             "#0d0887"
            ],
            [
             0.1111111111111111,
             "#46039f"
            ],
            [
             0.2222222222222222,
             "#7201a8"
            ],
            [
             0.3333333333333333,
             "#9c179e"
            ],
            [
             0.4444444444444444,
             "#bd3786"
            ],
            [
             0.5555555555555556,
             "#d8576b"
            ],
            [
             0.6666666666666666,
             "#ed7953"
            ],
            [
             0.7777777777777778,
             "#fb9f3a"
            ],
            [
             0.8888888888888888,
             "#fdca26"
            ],
            [
             1,
             "#f0f921"
            ]
           ]
          },
          "colorway": [
           "#636efa",
           "#EF553B",
           "#00cc96",
           "#ab63fa",
           "#FFA15A",
           "#19d3f3",
           "#FF6692",
           "#B6E880",
           "#FF97FF",
           "#FECB52"
          ],
          "font": {
           "color": "#2a3f5f"
          },
          "geo": {
           "bgcolor": "white",
           "lakecolor": "white",
           "landcolor": "#E5ECF6",
           "showlakes": true,
           "showland": true,
           "subunitcolor": "white"
          },
          "hoverlabel": {
           "align": "left"
          },
          "hovermode": "closest",
          "mapbox": {
           "style": "light"
          },
          "paper_bgcolor": "white",
          "plot_bgcolor": "#E5ECF6",
          "polar": {
           "angularaxis": {
            "gridcolor": "white",
            "linecolor": "white",
            "ticks": ""
           },
           "bgcolor": "#E5ECF6",
           "radialaxis": {
            "gridcolor": "white",
            "linecolor": "white",
            "ticks": ""
           }
          },
          "scene": {
           "xaxis": {
            "backgroundcolor": "#E5ECF6",
            "gridcolor": "white",
            "gridwidth": 2,
            "linecolor": "white",
            "showbackground": true,
            "ticks": "",
            "zerolinecolor": "white"
           },
           "yaxis": {
            "backgroundcolor": "#E5ECF6",
            "gridcolor": "white",
            "gridwidth": 2,
            "linecolor": "white",
            "showbackground": true,
            "ticks": "",
            "zerolinecolor": "white"
           },
           "zaxis": {
            "backgroundcolor": "#E5ECF6",
            "gridcolor": "white",
            "gridwidth": 2,
            "linecolor": "white",
            "showbackground": true,
            "ticks": "",
            "zerolinecolor": "white"
           }
          },
          "shapedefaults": {
           "line": {
            "color": "#2a3f5f"
           }
          },
          "ternary": {
           "aaxis": {
            "gridcolor": "white",
            "linecolor": "white",
            "ticks": ""
           },
           "baxis": {
            "gridcolor": "white",
            "linecolor": "white",
            "ticks": ""
           },
           "bgcolor": "#E5ECF6",
           "caxis": {
            "gridcolor": "white",
            "linecolor": "white",
            "ticks": ""
           }
          },
          "title": {
           "x": 0.05
          },
          "xaxis": {
           "automargin": true,
           "gridcolor": "white",
           "linecolor": "white",
           "ticks": "",
           "title": {
            "standoff": 15
           },
           "zerolinecolor": "white",
           "zerolinewidth": 2
          },
          "yaxis": {
           "automargin": true,
           "gridcolor": "white",
           "linecolor": "white",
           "ticks": "",
           "title": {
            "standoff": 15
           },
           "zerolinecolor": "white",
           "zerolinewidth": 2
          }
         }
        },
        "xaxis": {
         "anchor": "y",
         "domain": [
          0,
          1
         ],
         "title": {
          "text": "month_name"
         }
        },
        "yaxis": {
         "anchor": "x",
         "domain": [
          0,
          1
         ],
         "range": [
          0,
          450000
         ],
         "title": {
          "text": "No. of Rides"
         }
        }
       }
      }
     },
     "metadata": {},
     "output_type": "display_data"
    }
   ],
   "source": [
    "# Keep the data grouping and aggregation as it is\n",
    "data_cleaned_5 = data_cleaned.groupby(['member_casual', 'month', 'month_name'], as_index=False)['ride_id'].agg('count')\n",
    "\n",
    "# Fix the warning in visualization code\n",
    "px.line(data_cleaned_5, x='month_name', y='ride_id', range_y=[0, 450000],\n",
    "       color='member_casual', line_shape='spline', markers=True,\n",
    "       labels={'ride_id': 'No. of Rides', 'month': 'Months (January 2021 - December 2021)', 'member_casual': 'Member/Casual'},\n",
    "       hover_name='member_casual', hover_data={'member_casual': False, 'month': True, 'ride_id': True},\n",
    "       color_discrete_map={'casual': '#058ED9', 'member': '#FF934F'})\n"
   ]
  }
 ],
 "metadata": {
  "kernelspec": {
   "display_name": "Python 3",
   "language": "python",
   "name": "python3"
  },
  "language_info": {
   "codemirror_mode": {
    "name": "ipython",
    "version": 3
   },
   "file_extension": ".py",
   "mimetype": "text/x-python",
   "name": "python",
   "nbconvert_exporter": "python",
   "pygments_lexer": "ipython3",
   "version": "3.12.2"
  }
 },
 "nbformat": 4,
 "nbformat_minor": 2
}

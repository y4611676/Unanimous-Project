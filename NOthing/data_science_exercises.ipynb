{
 "cells": [
  {
   "cell_type": "markdown",
   "id": "ad11485c",
   "metadata": {},
   "source": [
    "# 数据科学工具和实务 - 练习笔记本"
   ]
  },
  {
   "cell_type": "markdown",
   "id": "957e2c4f",
   "metadata": {},
   "source": [
    "## 引言\n",
    "本笔记本将涵盖数据科学中的语言、库、工具及算术表达式等内容，作为练习和学习参考。"
   ]
  },
  {
   "cell_type": "markdown",
   "id": "1896248b",
   "metadata": {},
   "source": [
    "## 数据科学语言\n",
    "- Python\n",
    "- R\n",
    "- SQL\n",
    "- Julia\n",
    "- Scala"
   ]
  },
  {
   "cell_type": "markdown",
   "id": "f71eb41d",
   "metadata": {},
   "source": [
    "## 数据科学库\n",
    "- Pandas\n",
    "- NumPy\n",
    "- Matplotlib\n",
    "- Seaborn\n",
    "- Scikit-learn\n",
    "- TensorFlow\n",
    "- Keras"
   ]
  },
  {
   "cell_type": "markdown",
   "id": "ca624695",
   "metadata": {},
   "source": [
    "## 数据科学工具表\n",
    "\n",
    "| 工具名称       | 类型           | 描述                      |\n",
    "|----------------|----------------|---------------------------|\n",
    "| Jupyter Notebook | 开发环境     | 可用于交互式计算与文档化 |\n",
    "| RStudio         | 开发环境     | R 语言开发环境            |\n",
    "| Apache Hadoop   | 大数据处理框架 | 分布式数据存储与处理     |\n",
    "| Tableau         | 可视化工具     | 创建交互式图表与仪表板   |\n",
    "| Power BI        | 可视化工具     | 微软推出的商业智能工具   |\n"
   ]
  },
  {
   "cell_type": "markdown",
   "id": "93d0ba01",
   "metadata": {},
   "source": [
    "## 算术表达式示例\n",
    "算术表达式用于执行数学计算，例如：加法、减法、乘法和除法。\n",
    "例如：`3 * (4 + 5)`"
   ]
  },
  {
   "cell_type": "code",
   "execution_count": null,
   "id": "4b4a8660",
   "metadata": {},
   "outputs": [],
   "source": [
    "result = 3 * (4 + 5)\n",
    "print('结果为:', result)"
   ]
  },
  {
   "cell_type": "code",
   "execution_count": null,
   "id": "d4980084",
   "metadata": {},
   "outputs": [],
   "source": [
    "minutes = 150\n",
    "hours = minutes / 60\n",
    "print(f\"{minutes} 分钟等于 {hours} 小时\")"
   ]
  },
  {
   "cell_type": "markdown",
   "id": "5c2000ce",
   "metadata": {},
   "source": [
    "## 学习目标\n",
    "- 熟悉 Markdown 与代码单元\n",
    "- 掌握数据科学常用语言与库\n",
    "- 使用工具进行数据分析与可视化\n",
    "- 理解基本算术表达式"
   ]
  },
  {
   "cell_type": "markdown",
   "id": "efb651e4",
   "metadata": {},
   "source": [
    "**作者：瑪塔·沃爾德**"
   ]
  },
  {
   "cell_type": "markdown",
   "id": "17f7b1e8",
   "metadata": {},
   "source": [
    "## GitHub 共享\n",
    "请将此笔记本上传至 GitHub 仓库，并将链接分享给课程指导员或作业提交系统。"
   ]
  },
  {
   "cell_type": "markdown",
   "id": "298568fc",
   "metadata": {},
   "source": [
    "## 截图\n",
    "请为此笔记本的第一页截图，并按课程要求上传或提交。"
   ]
  }
 ],
 "metadata": {},
 "nbformat": 4,
 "nbformat_minor": 5
}

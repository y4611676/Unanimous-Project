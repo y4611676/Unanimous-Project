{
 "cells": [
  {
   "cell_type": "markdown",
   "metadata": {},
   "source": [
    "# 藝術風格化模型應用"
   ]
  },
  {
   "cell_type": "code",
   "execution_count": null,
   "metadata": {},
   "outputs": [],
   "source": [
    "!gdown '1hsPe_rD4YXspLP2Ms4-iYe3gw4jqLNN2' --output style-transfer.zip\n",
    "!unzip style-transfer.zip"
   ]
  },
  {
   "cell_type": "markdown",
   "metadata": {},
   "source": [
    "## 設定環境\n",
    "TensorFlow Hub 是已訓練機器學習模型的存放區"
   ]
  },
  {
   "cell_type": "code",
   "execution_count": null,
   "metadata": {},
   "outputs": [],
   "source": [
    "#載入需要用到的套件\n",
    "import os\n",
    "import functools\n",
    "from matplotlib import gridspec\n",
    "import matplotlib.pyplot as plt\n",
    "import numpy as np\n",
    "import pandas as pd\n",
    "\n",
    "import tensorflow as tf\n",
    "import tensorflow_hub as hub"
   ]
  },
  {
   "cell_type": "code",
   "execution_count": null,
   "metadata": {},
   "outputs": [],
   "source": [
    "print(\"TF 版本: \", tf.__version__)\n",
    "print(\"TF-Hub 版本: \", hub.__version__)\n",
    "print(\"Eager mode 是否啟用: \", tf.executing_eagerly())\n",
    "print(\"GPU 可用情形: \", tf.config.list_physical_devices('GPU'))"
   ]
  },
  {
   "cell_type": "markdown",
   "metadata": {},
   "source": [
    "## upload local image"
   ]
  },
  {
   "cell_type": "code",
   "execution_count": null,
   "metadata": {},
   "outputs": [],
   "source": [
    "# prompt: import image from local\n",
    "\n",
    "from google.colab import files\n",
    "uploaded = files.upload()\n"
   ]
  },
  {
   "cell_type": "code",
   "execution_count": null,
   "metadata": {},
   "outputs": [],
   "source": [
    "from google.colab import drive\n",
    "drive.mount('/content/drive')"
   ]
  },
  {
   "cell_type": "markdown",
   "metadata": {},
   "source": [
    "## 影像前處理函式"
   ]
  },
  {
   "cell_type": "code",
   "execution_count": null,
   "metadata": {},
   "outputs": [],
   "source": [
    "# @title 定義圖像加載和可視化功能\n",
    "#Define image loading and visualization functions  { display-mode: \"form\" }\n",
    "# 剪裁圖片\n",
    "def crop_center(image):\n",
    "  \"\"\"回傳一個已裁剪好的正方形圖片.\"\"\"\n",
    "  shape = image.shape\n",
    "  new_shape = min(shape[1], shape[2])\n",
    "  offset_y = max(shape[1] - shape[2], 0) // 2\n",
    "  offset_x = max(shape[2] - shape[1], 0) // 2\n",
    "  image = tf.image.crop_to_bounding_box(\n",
    "      image, offset_y, offset_x, new_shape, new_shape)\n",
    "  return image\n",
    "\n",
    "# 載入圖片\n",
    "@functools.lru_cache(maxsize=None) #高阶函数,如果maxsize设置为NoneLRU功能将被禁用且缓存数量无上限。\n",
    "def load_image(image_path, image_size=(256, 256), preserve_aspect_ratio=True):\n",
    "  img = plt.imread(image_path).astype(np.float32)[np.newaxis, ...]\n",
    "  if img.max() > 1.0:\n",
    "    img = img / 255.\n",
    "  if len(img.shape) == 3:\n",
    "    img = tf.stack([img, img, img], axis=-1)\n",
    "  img = crop_center(img)\n",
    "  img = tf.image.resize(img, image_size, preserve_aspect_ratio=True)\n",
    "  return img\n",
    "\n",
    "# 顯示圖片\n",
    "def show_n(images, titles=('',)):\n",
    "  n = len(images)\n",
    "  image_sizes = [image.shape[1] for image in images]\n",
    "  w = (image_sizes[0] * 6) // 320\n",
    "  plt.figure(figsize=(w  * n, w))\n",
    "  gs = gridspec.GridSpec(1, n, width_ratios=image_sizes)\n",
    "  for i in range(n):\n",
    "    plt.subplot(gs[i])\n",
    "    plt.imshow(images[i][0], aspect='equal')\n",
    "    plt.axis('off')\n",
    "    plt.title(titles[i] if len(titles) > i else '')\n",
    "  plt.show()"
   ]
  },
  {
   "cell_type": "code",
   "execution_count": null,
   "metadata": {},
   "outputs": [],
   "source": [
    "# @title 加載範例圖片 { display-mode: \"form\" }\n",
    "content_image = 'myphoto.jpg' # @param {type:\"string\"}\n",
    "style_image = 'style2.jpg' # @param {type:\"string\"}\n",
    "output_image_size = 384  # @param {type:\"integer\"}\n",
    "\n",
    "content_img_size = (output_image_size, output_image_size)\n",
    "style_img_size = (256, 256)\n",
    "content_image = load_image(content_image, content_img_size)\n",
    "style_image = load_image(style_image, style_img_size)\n",
    "style_image = tf.nn.avg_pool(style_image, ksize=[3,3], strides=[1,1], padding='SAME')\n",
    "show_n([content_image, style_image], ['Content image', 'Style image'])"
   ]
  },
  {
   "cell_type": "markdown",
   "metadata": {},
   "source": [
    "## 導入TF-Hub模塊(需要等待一點時間)\n",
    "https://www.tensorflow.org/hub?hl=zh-tw\n",
    "\n",
    "https://tfhub.dev/google/magenta/arbitrary-image-stylization-v1-256/2"
   ]
  },
  {
   "cell_type": "code",
   "execution_count": null,
   "metadata": {},
   "outputs": [],
   "source": [
    "# 導入TF-Hub模塊\n",
    "\n",
    "hub_handle = 'https://tfhub.dev/google/magenta/arbitrary-image-stylization-v1-256/2'\n",
    "hub_module = hub.load(hub_handle)"
   ]
  },
  {
   "cell_type": "markdown",
   "metadata": {},
   "source": [
    "## 展示一張的圖像風格(需要約8秒)"
   ]
  },
  {
   "cell_type": "code",
   "execution_count": null,
   "metadata": {},
   "outputs": [],
   "source": [
    "outputs = hub_module(content_image, style_image)\n",
    "stylized_image = outputs[0]\n",
    "\n",
    "show_n([content_image, style_image, stylized_image],\n",
    "    titles=['Original content image', 'Style image', 'Stylized image'])"
   ]
  },
  {
   "cell_type": "markdown",
   "metadata": {},
   "source": [
    "## 練習轉一張圖\n",
    "1. 上傳圖檔後\n",
    "\n",
    "2. **到 [加載示例圖片] 輸入圖檔名稱**\n",
    "\n",
    "3. 展示一張的圖像風格"
   ]
  },
  {
   "cell_type": "markdown",
   "metadata": {},
   "source": [
    "動漫藝術家作品網站:\n",
    "https://www.artstation.com/?sort_by=trending\n",
    "\n",
    "風格移轉的 tensorflow hub 教學網站\n",
    "https://www.tensorflow.org/hub/tutorials/tf2_arbitrary_image_stylization?hl=zh-tw"
   ]
  },
  {
   "cell_type": "code",
   "execution_count": null,
   "metadata": {},
   "outputs": [],
   "source": [
    "# @title caculate traingle total\n",
    "length = '52' # @param {type:'string'} [\"53\",'52']\n",
    "hight = 23  # @param {type:'integer'}\n",
    "area = (int(length) * hight) / 2\n",
    "print(f'traingle hight = {area}')\n"
   ]
  },
  {
   "cell_type": "markdown",
   "metadata": {},
   "source": [
    "## 定義圖像網址加載和可視化功能"
   ]
  },
  {
   "cell_type": "code",
   "execution_count": null,
   "metadata": {},
   "outputs": [],
   "source": [
    "# @title 定義圖像網址加載和可視化功能\n",
    "#Define image loading and visualization functions  { display-mode: \"form\" }\n",
    "# 剪裁圖片\n",
    "def crop_center(image):\n",
    "  \"\"\"回傳一個已裁剪好的正方形圖片.\"\"\"\n",
    "  shape = image.shape\n",
    "  new_shape = min(shape[1], shape[2])\n",
    "  offset_y = max(shape[1] - shape[2], 0) // 2\n",
    "  offset_x = max(shape[2] - shape[1], 0) // 2\n",
    "  image = tf.image.crop_to_bounding_box(\n",
    "      image, offset_y, offset_x, new_shape, new_shape)\n",
    "  return image\n",
    "\n",
    "# 載入圖片\n",
    "@functools.lru_cache(maxsize=None) #高阶函数,如果maxsize设置为NoneLRU功能将被禁用且缓存数量无上限。\n",
    "def load_image(image_url, image_size=(256, 256), preserve_aspect_ratio=True):\n",
    "  image_path = tf.keras.utils.get_file(os.path.basename(image_url)[-128:], image_url)\n",
    "  img = tf.io.decode_image(tf.io.read_file(image_path), channels = 3, dtype = tf.float32)[np.newaxis, ...]\n",
    "  img = crop_center(img)\n",
    "  img = tf.image.resize(img, image_size, preserve_aspect_ratio=True)\n",
    "  return img\n",
    "\n",
    "# 顯示圖片\n",
    "def show_n(images, titles=('',)):\n",
    "  n = len(images)\n",
    "  image_sizes = [image.shape[1] for image in images]\n",
    "  w = (image_sizes[0] * 6) // 320\n",
    "  plt.figure(figsize=(w  * n, w))\n",
    "  gs = gridspec.GridSpec(1, n, width_ratios=image_sizes)\n",
    "  for i in range(n):\n",
    "    plt.subplot(gs[i])\n",
    "    plt.imshow(images[i][0], aspect='equal')\n",
    "    plt.axis('off')\n",
    "    plt.title(titles[i] if len(titles) > i else '')\n",
    "  plt.show()"
   ]
  }
 ],
 "metadata": {
  "language_info": {
   "name": "python"
  }
 },
 "nbformat": 4,
 "nbformat_minor": 2
}

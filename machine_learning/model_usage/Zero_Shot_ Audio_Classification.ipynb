{
 "cells": [
  {
   "cell_type": "markdown",
   "metadata": {},
   "source": [
    "# 零樣本音訊分類 Zero-Shot Audio Classification"
   ]
  },
  {
   "cell_type": "markdown",
   "metadata": {},
   "source": [
    "Zero-Shot Audio Classification 是指一種音訊分類的方法，其中模型在訓練過程中沒有接觸過特定類別的音訊樣本，但能夠在推論階段有效地將其分類到先前未見過的類別中。這種方法的核心思想是利用模型在訓練期間學習到的通用特徵來進行推論，而不是僅僅依賴於訓練集中的特定類別的示例。\n",
    "\n",
    "在 Zero-Shot Audio Classification 中，通常會使用預訓練的音訊處理模型，例如基於深度學習的模型，如聲學模型或深度神經網絡。這些模型通常在大規模的音訊數據集上進行預訓練，從而學習到了音訊的通用特徵。然後，這些模型可以在推論階段對新的音訊樣本進行分類，即使這些樣本屬於模型在訓練期間未見過的類別。\n",
    "\n",
    "Zero-Shot Audio Classification 的應用範圍包括音訊標籤預測、音訊事件檢測等任務，尤其在數據稀缺或新類別出現的情況下，具有重要的應用價值。"
   ]
  },
  {
   "cell_type": "markdown",
   "metadata": {},
   "source": [
    "\n",
    "- 如果您在自己的電腦上執行此程式碼，請安裝以下內容:\n",
    "```\n",
    "    !pip install transformers\n",
    "    !pip install datasets\n",
    "    !pip install soundfile\n",
    "    !pip install librosa\n",
    "```\n",
    "`librosa` 函式庫可能需要安裝 [ffmpeg](https://www.ffmpeg.org/download.html)。\n",
    "- [librosa](https://pypi.org/project/librosa/) 上的此頁面提供了 ffmpeg 的安裝說明。\n"
   ]
  },
  {
   "cell_type": "markdown",
   "metadata": {},
   "source": [
    "- 這是一些抑制警告訊息的程式碼。"
   ]
  },
  {
   "cell_type": "code",
   "execution_count": null,
   "metadata": {},
   "outputs": [],
   "source": [
    "from transformers.utils import logging\n",
    "logging.set_verbosity_error()"
   ]
  },
  {
   "cell_type": "markdown",
   "metadata": {},
   "source": [
    "### 準備音訊資料集\n",
    "\n",
    "[ESC50](https://huggingface.co/datasets/ashraq/esc50) 環境聲音分類資料集。第 23 屆 ACM 多媒體年度會議論文集，澳洲布里斯班，2015 年。\n",
    "\n",
    "K. J. Piczak. ESC: Dataset for Environmental Sound Classification. Proceedings of the 23rd Annual ACM Conference on Multimedia, Brisbane, Australia, 2015.\n",
    "\n",
    "ashraq/esc50"
   ]
  },
  {
   "cell_type": "code",
   "execution_count": null,
   "metadata": {},
   "outputs": [],
   "source": [
    "from datasets import load_dataset, load_from_disk\n",
    "\n",
    "# 此資料集是5秒不同聲音的集合\n",
    "dataset = load_dataset(\"ashraq/esc50\", split=\"train[0:10]\")\n",
    "\n",
    "len(dataset)\n",
    "\n",
    "audio_sample = dataset[0]\n",
    "audio_sample\n",
    "\n",
    "#播放聲音\n",
    "from IPython.display import Audio as IPythonAudio\n",
    "IPythonAudio(audio_sample[\"audio\"]['array'], rate=audio_sample[\"audio\"]['sampling_rate'])"
   ]
  },
  {
   "cell_type": "markdown",
   "metadata": {},
   "source": [
    "### 使用 🤗 Transformers 庫建立「音訊分類」管道\n",
    "\n",
    "laion/clap-htsat-unfused"
   ]
  },
  {
   "cell_type": "code",
   "execution_count": null,
   "metadata": {},
   "outputs": [],
   "source": [
    "from transformers import pipeline\n",
    "zero_shot_classifier = pipeline('zero-shot-audio-classification',\n",
    "                                model = 'laion/clap-htsat-unfused')"
   ]
  },
  {
   "cell_type": "markdown",
   "metadata": {},
   "source": [
    "### Transformer 模型的取樣率 Sampling Rate\n",
    "- 用 Whisper 模型（經過訓練預測音訊檔案的頻率為 16,000 Hz）,1 秒的高解析度音訊 (192,000 Hz) 會有多久時間？\n"
   ]
  },
  {
   "cell_type": "code",
   "execution_count": null,
   "metadata": {},
   "outputs": [],
   "source": [
    "192000 / 16000"
   ]
  },
  {
   "cell_type": "markdown",
   "metadata": {},
   "source": [
    "- 1 秒的高解析度音訊對於模型來說就像是 12 秒的音訊。"
   ]
  },
  {
   "cell_type": "markdown",
   "metadata": {},
   "source": [
    "- 5秒的音頻怎麼樣？"
   ]
  },
  {
   "cell_type": "code",
   "execution_count": null,
   "metadata": {},
   "outputs": [],
   "source": [
    "(5*192000)/16000"
   ]
  },
  {
   "cell_type": "markdown",
   "metadata": {},
   "source": [
    "- 5 秒的高解析度音訊對於模型來說就像 60 秒的音訊一樣。"
   ]
  },
  {
   "cell_type": "markdown",
   "metadata": {},
   "source": [
    "model.feature_extractor.sampling_rate\n",
    "\n",
    "audio_sample[\"audio\"]['sampling_rate']"
   ]
  },
  {
   "cell_type": "markdown",
   "metadata": {},
   "source": [
    "* 為輸入和模型設定正確的取樣率。"
   ]
  },
  {
   "cell_type": "code",
   "execution_count": null,
   "metadata": {},
   "outputs": [],
   "source": [
    "import datasets import audio\n",
    "dataset = dataset.cast_column('audio', Audio(sampling_rate = 48000))\n",
    "autio_sample = dataset[0]\n",
    "audio_sample"
   ]
  },
  {
   "cell_type": "markdown",
   "metadata": {},
   "source": [
    "### Transformer 模型的取樣率 Sampling Rate\n",
    "- 用 Whisper 模型（經過訓練預測音訊檔案的頻率為 16,000 Hz）,1 秒的高解析度音訊 (192,000 Hz) 會有多久時間？\n"
   ]
  },
  {
   "cell_type": "code",
   "execution_count": null,
   "metadata": {},
   "outputs": [],
   "source": [
    "# 狗的聲音, 吸塵器的聲音\n",
    "candidate_labels = [\"Sound of a dog\",\n",
    "                    \"Sound of vacuum cleaner\"]\n",
    "res1 = model(audio_sample[\"audio\"]['array'], candidate_labels=candidate_labels)\n",
    "for r in res1:\n",
    "  print(f\"{r['label']} 相似分數:{r['score']:.4f}\")\n",
    "\n",
    "candidate_labels = [\"Sound of a child crying\",\n",
    "                    \"Sound of vacuum cleaner\",\n",
    "                    \"Sound of a bird singing\",\n",
    "                    \"Sound of an airplane\"]\n",
    "audio_sample= dataset[7]\n",
    "res2 = model(audio_sample[\"audio\"]['array'], candidate_labels=candidate_labels)\n",
    "for r in res2:\n",
    "  print(f\"{r['label']} 相似分數:{r['score']:.4f}\")\n",
    "IPythonAudio(audio_sample[\"audio\"]['array'], rate=audio_sample[\"audio\"]['sampling_rate'])"
   ]
  },
  {
   "cell_type": "markdown",
   "metadata": {},
   "source": [
    "## gradio"
   ]
  },
  {
   "cell_type": "code",
   "execution_count": null,
   "metadata": {},
   "outputs": [],
   "source": [
    "def guessSound(audio_sample, candidate_labels):\n",
    "  res = model(audio_sample[\"audio\"]['array'], candidate_labels=candidate_labels)\n",
    "  text = ''\n",
    "  for r in res:\n",
    "    text += f\"{r['label']} 相似分數:{r['score']:.4f}\\n\"\n",
    "  return text\n",
    "candidate_labels = [\"Sound of a child crying\",\n",
    "                    \"Sound of vacuum cleaner\",\n",
    "                    \"Sound of a bird singing\",\n",
    "                    \"Sound of an airplane\",\n",
    "                    \"Sound of thunderstorm\",\n",
    "                    \"Sound of can_opening\",\n",
    "                    \"Sound of a dog\"]\n",
    "print(guessSound(dataset[0], candidate_labels))\n",
    "IPythonAudio(dataset[8][\"audio\"]['array'], rate=dataset[8][\"audio\"]['sampling_rate'])"
   ]
  }
 ],
 "metadata": {
  "language_info": {
   "name": "python"
  }
 },
 "nbformat": 4,
 "nbformat_minor": 2
}

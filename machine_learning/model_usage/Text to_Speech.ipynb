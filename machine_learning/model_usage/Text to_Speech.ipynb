{
 "cells": [
  {
   "cell_type": "markdown",
   "metadata": {},
   "source": [
    "# 文字轉語音Text to Speech"
   ]
  },
  {
   "cell_type": "markdown",
   "metadata": {},
   "source": [
    "Text-to-Speech（TTS）是一種技術，用於將文本轉換為語音。這種技術使得計算機能夠將書面文字讀取為口語語音，使得使用者能夠以聽覺方式接收文本信息。\n",
    "\n",
    "Text-to-Speech 技術的運作方式通常包括以下步驟：\n",
    "\n",
    "1. **文本處理**：將輸入的文本進行預處理，例如分詞、詞性標注等。\n",
    "2. **語音生成模型**：使用預訓練的 TTS 模型，通常基於深度學習的模型，如 WaveNet、Tacotron 等，來將文本轉換為語音。\n",
    "3. **語音合成**：根據模型生成的音頻特徵，使用合成技術將其轉換為自然流暢的語音流。\n",
    "\n",
    "Text-to-Speech 技術的應用範圍非常廣泛，包括但不限於：\n",
    "\n",
    "1. **可訪問性工具**：幫助視覺障礙者、語言障礙者等人群輕鬆地獲取書面文字信息。\n",
    "2. **語音助手**：如智能音箱、語音應答系統等，使得用戶可以通過語音與設備進行交互。\n",
    "3. **教育應用**：用於教育和培訓領域，例如語音化教學材料、電子書朗讀等。\n",
    "4. **自動化工具**：用於自動提示、語音報警、語音導航等場景中。\n",
    "\n",
    "總之，Text-to-Speech 是一種將文本轉換為語音的技術，它在多個領域中發揮著重要作用，為用戶提供了更多的可訪問性和便利性。\n",
    "\n",
    "- 如果您想在自己的電腦上執行此程式碼，您可以安裝以下內容:\n",
    "\n",
    "```\n",
    "    !pip install transformers\n",
    "    !pip install gradio\n",
    "    !pip install timm    \n",
    "    !pip install inflect\n",
    "    !pip install phonemizer\n",
    "    \n",
    "```"
   ]
  },
  {
   "cell_type": "code",
   "execution_count": null,
   "metadata": {},
   "outputs": [],
   "source": [
    "!pip install -q -U gradio timm inflect phonemizer"
   ]
  },
  {
   "cell_type": "markdown",
   "metadata": {},
   "source": [
    "**注意：** `py-espeak-ng` 僅適用於 Linux 作業系統。\n",
    "\n",
    "若要在 Linux 電腦上本機運行，請執行下列命令:\n",
    "```\n",
    "    sudo apt-get update\n",
    "    sudo apt-get install espeak-ng\n",
    "    pip install py-espeak-ng\n",
    "```"
   ]
  },
  {
   "cell_type": "code",
   "execution_count": null,
   "metadata": {},
   "outputs": [],
   "source": [
    "!sudo apt-get update\n",
    "!sudo apt-get install espeak-ng\n",
    "!pip install py-espeak-ng"
   ]
  },
  {
   "cell_type": "markdown",
   "metadata": {},
   "source": [
    "### 使用 🤗 Transformers 庫建立「文字轉語音」管道"
   ]
  },
  {
   "cell_type": "markdown",
   "metadata": {},
   "source": [
    "- 這是一些抑制警告訊息的程式碼。"
   ]
  },
  {
   "cell_type": "code",
   "execution_count": null,
   "metadata": {},
   "outputs": [],
   "source": [
    "from transformers.utils import logging\n",
    "\n",
    "logging.set_verbosity_error()"
   ]
  },
  {
   "cell_type": "markdown",
   "metadata": {},
   "source": [
    "kakao-enterprise/vits-ljs"
   ]
  },
  {
   "cell_type": "code",
   "execution_count": null,
   "metadata": {},
   "outputs": [],
   "source": [
    "from transformers import pipeline\n",
    "\n",
    "narrator = pipeline('text-to-speech','kakao-enterprise/vits-ljs')"
   ]
  },
  {
   "cell_type": "markdown",
   "metadata": {},
   "source": [
    "更多資訊: [kakao-enterprise/vits-ljs](https://huggingface.co/kakao-enterprise/vits-ljs)"
   ]
  },
  {
   "cell_type": "code",
   "execution_count": null,
   "metadata": {},
   "outputs": [],
   "source": [
    "text = \"\"\"\n",
    "Researchers at the Allen Institute for AI, \\\n",
    "HuggingFace, Microsoft, the University of Washington, \\\n",
    "Carnegie Mellon University, and the Hebrew University of \\\n",
    "Jerusalem developed a tool that measures atmospheric \\\n",
    "carbon emitted by cloud servers while training machine \\\n",
    "learning models. After a model’s size, the biggest variables \\\n",
    "were the server’s location and time of day it was active.\n",
    "\"\"\"\n",
    "narrated_text = narrator(text)\n",
    "# 播放音訊結果\n",
    "from IPython.display import Audio as IPythonAudio\n",
    "IPythonAudio(narrated_text['audio'][0],\n",
    "             rate=narrated_text['sampling_rate'])\n"
   ]
  },
  {
   "cell_type": "code",
   "execution_count": null,
   "metadata": {},
   "outputs": [],
   "source": [
    "import gradio as gr\n",
    "\n",
    "def text_to_speech(text):\n",
    "    narrated_text = narrator(text)\n",
    "    return (narrated_text['sampling_rate'], narrated_text['audio'][0])\n",
    "\n",
    "iface = gr.Interface(fn=text_to_speech,\n",
    "                     inputs=gr.Textbox(label='文字',lines=3),\n",
    "                     outputs=gr.Audio(label='旁白'))\n",
    "iface.launch(share=True)"
   ]
  }
 ],
 "metadata": {
  "language_info": {
   "name": "python"
  }
 },
 "nbformat": 4,
 "nbformat_minor": 2
}

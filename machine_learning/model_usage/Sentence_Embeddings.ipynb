{
 "cells": [
  {
   "cell_type": "markdown",
   "metadata": {},
   "source": [
    "# 句子嵌入Sentence Embeddings"
   ]
  },
  {
   "cell_type": "markdown",
   "metadata": {},
   "source": [
    "句子嵌入（Sentence Embeddings）是將文本句子映射到連續向量空間的技術。它將句子中的單詞或標記轉換為向量表示形式，以捕捉句子的語義和語境信息。這種向量化的表示形式使得計算機能夠更容易地理解和處理文本數據。\n",
    "\n",
    "句子嵌入的目的是將句子轉換為連續的數字向量，這些向量能夠捕捉句子的語義含義和關係，並且能夠在向量空間中進行有效的計算和比較。通常，句子嵌入技術可以使用預訓練的語言模型，如BERT、GPT等，或者通過其他技術，如Doc2Vec、Skip-thoughts等來實現。\n",
    "\n",
    "使用句子嵌入技術有幾個優點，包括：\n",
    "1. **語義表示**：句子嵌入能夠將句子轉換為連續向量表示，捕捉了句子的語義含義，使得計算機可以更好地理解和處理文本。\n",
    "2. **計算效率**：在向量空間中進行計算和比較是非常高效的，這使得使用句子嵌入來進行相似度比較、聚類等任務變得更加容易。\n",
    "3. **通用性**：句子嵌入技術通常是通用的，可以應用於各種自然語言處理任務，如情感分析、文本分類、機器翻譯等。\n",
    "\n",
    "總之，句子嵌入是自然語言處理中一個重要的技術，它能夠將文本句子轉換為向量表示形式，從而使得計算機可以更好地理解和處理文本數據。"
   ]
  },
  {
   "cell_type": "markdown",
   "metadata": {},
   "source": [
    "- 如果您想在自己的電腦上執行此程式碼，您可以安裝以下內容:\n",
    "```\n",
    "    !pip install sentence-transformers\n",
    "```"
   ]
  },
  {
   "cell_type": "markdown",
   "metadata": {},
   "source": [
    "- 這是一些抑制警告訊息的程式碼。\n",
    "\n",
    "這段程式碼是從`transformers`庫中引入`logging`模組，然後設置日誌輸出的細節程度為錯誤級別（error）。這樣做的目的通常是為了避免顯示過多的日誌訊息，只保留錯誤和更高級別的訊息，以便更容易追蹤和處理錯誤。"
   ]
  },
  {
   "cell_type": "code",
   "execution_count": null,
   "metadata": {},
   "outputs": [],
   "source": [
    "from transformers.utils import logging\n",
    "logging.set_verbosity_error()"
   ]
  },
  {
   "cell_type": "markdown",
   "metadata": {},
   "source": [
    "### 使用 🤗 Transformers 函式庫建置 `sentence embedding` 管道\n",
    "\n",
    "all-MiniLM-L6-v2"
   ]
  },
  {
   "cell_type": "code",
   "execution_count": null,
   "metadata": {},
   "outputs": [],
   "source": [
    "from sentence_transformers import SentenceTransformer\n",
    "model = SentenceTransformer ('all-MiniLM-L6-v2')"
   ]
  },
  {
   "cell_type": "markdown",
   "metadata": {},
   "source": [
    "更多資訊： [all-MiniLM-L6-v2](https://huggingface.co/sentence-transformers/all-MiniLM-L6-v2)."
   ]
  },
  {
   "cell_type": "markdown",
   "metadata": {},
   "source": [
    "sentences1 = ['The cat sits outside',\n",
    "              'A man is playing guitar',\n",
    "              'The movies are awesome']\n",
    "embeddings1 = model.encode(sentences1)\n",
    "embeddings1"
   ]
  },
  {
   "cell_type": "markdown",
   "metadata": {},
   "source": [
    "\n",
    "\n",
    "```\n",
    "['貓坐在外面',\n",
    " “一個男人正在彈吉他”，\n",
    " “電影很棒”]\n",
    "```\n",
    "\n"
   ]
  },
  {
   "cell_type": "code",
   "execution_count": null,
   "metadata": {},
   "outputs": [],
   "source": [
    "sentences2 = ['The dog plays in the garden',\n",
    "              'A woman watches TV',\n",
    "              'The new movie is so great']\n",
    "embeddings2 = model.encode(sentences2)\n",
    "print(embeddings2)"
   ]
  },
  {
   "cell_type": "markdown",
   "metadata": {},
   "source": [
    "\n",
    "\n",
    "```\n",
    "[\"狗在花園玩耍\",\n",
    " “一個女人看電視”，\n",
    " \"新電影太棒了\"]\n",
    "```\n",
    "\n"
   ]
  },
  {
   "cell_type": "markdown",
   "metadata": {},
   "source": [
    "* 計算兩個句子之間的餘弦相似度，以衡量它們之間的相似程度。"
   ]
  },
  {
   "cell_type": "code",
   "execution_count": null,
   "metadata": {},
   "outputs": [],
   "source": [
    "from sentence_transformers import util\n",
    "cosine_scores = util.cos_sim (embeddings1, embeddings2)\n",
    "print(cosine_scores)\n",
    "\n",
    "for i in range(len(sentences1)):\n",
    "    print(f\"{sentences1[i]} \\t\\t {sentences2[i]} \\t\\t Score: {cosine_scores[i][i]:.4f}\")"
   ]
  },
  {
   "cell_type": "markdown",
   "metadata": {},
   "source": [
    "### 句子比對小遊戲"
   ]
  },
  {
   "cell_type": "code",
   "execution_count": null,
   "metadata": {},
   "outputs": [],
   "source": [
    "from sentence_transformers import SentenceTransformer\n",
    "\n",
    "m = SentenceTransformer(\"shibing624/text2vec-base-chinese\")\n",
    "sentences = ['如何更换花呗绑定银行卡', '花呗更改绑定银行卡']\n",
    "\n",
    "sentence_embeddings = m.encode(sentences)\n",
    "print(\"Sentence embeddings:\")\n",
    "print(sentence_embeddings)"
   ]
  },
  {
   "cell_type": "code",
   "execution_count": null,
   "metadata": {},
   "outputs": [],
   "source": [
    "!pip install -q gradio"
   ]
  },
  {
   "cell_type": "code",
   "execution_count": null,
   "metadata": {},
   "outputs": [],
   "source": [
    "from sentence_transformers import SentenceTransformer, util\n",
    "import gradio as gr\n",
    "\n",
    "model = SentenceTransformer('shibing624/text2vec-base-chinese')\n",
    "\n",
    "def 句子相似比對(句子1, 句子2):\n",
    "  emb1 = model.encode(句子1, convert_to_tensor=True)\n",
    "  emb2 = model.encode(句子2, convert_to_tensor=True)\n",
    "  cos_sim = util.cos_sim(emb1, emb2)\n",
    "  return f\"相似度: {cos_sim[0][0]:.4f}\"\n",
    "\n",
    "iface = gr.Interface(fn=句子相似比對, inputs=[\"text\", \"text\"], outputs=\"text\")\n",
    "iface.launch(share = True)"
   ]
  },
  {
   "cell_type": "code",
   "execution_count": null,
   "metadata": {},
   "outputs": [],
   "source": [
    "iface.close()"
   ]
  }
 ],
 "metadata": {
  "language_info": {
   "name": "python"
  }
 },
 "nbformat": 4,
 "nbformat_minor": 2
}

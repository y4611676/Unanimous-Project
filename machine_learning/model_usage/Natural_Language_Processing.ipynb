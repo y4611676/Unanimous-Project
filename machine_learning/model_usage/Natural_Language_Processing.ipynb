{
 "cells": [
  {
   "cell_type": "markdown",
   "metadata": {},
   "source": [
    "# 自然語言處理 (NLP)"
   ]
  },
  {
   "cell_type": "markdown",
   "metadata": {},
   "source": [
    "**重要:** 請複製此檔到你的雲端硬碟\n",
    "1. 點選 [檔案]  \n",
    "2. 選擇  [在雲端硬碟中儲存副本]\n",
    "3. 關閉此檔"
   ]
  },
  {
   "cell_type": "markdown",
   "metadata": {},
   "source": [
    "首先，如果您在本機上運行，請安裝以下內容：\n",
    "\n",
    "```\n",
    "    !pip install transformers\n",
    "```\n"
   ]
  },
  {
   "cell_type": "code",
   "execution_count": null,
   "metadata": {},
   "outputs": [],
   "source": [
    "import transformers\n",
    "print(transformers.__version__)"
   ]
  },
  {
   "cell_type": "markdown",
   "metadata": {},
   "source": [
    "### 使用 🤗 Transformers 庫建立 `chatbot` 管道"
   ]
  },
  {
   "cell_type": "markdown",
   "metadata": {},
   "source": [
    "- 這是一些抑制某些警告訊息的程式碼。\n",
    "- 定義對話管道 Define the conversation pipeline\n",
    "\n",
    "facebook/blenderbot-400M-distill"
   ]
  },
  {
   "cell_type": "code",
   "execution_count": null,
   "metadata": {},
   "outputs": [],
   "source": [
    "from transformers.utils import logging\n",
    "logging.set_verbosity_error()\n",
    "from transformers import pipeline\n",
    "# 創建聊天機器人\n",
    "chatbot = pipeline(task = 'conversational', model = 'facebook/blenderbot-400M-distill')"
   ]
  },
  {
   "cell_type": "markdown",
   "metadata": {},
   "source": [
    "_注意：_ 有關模型 'blenderbot-400M-distill' 的更多信息，[here](https://huggingface.co/facebook/blenderbot-400M-distill)"
   ]
  },
  {
   "cell_type": "code",
   "execution_count": null,
   "metadata": {},
   "outputs": [],
   "source": [
    "# 導入對話以開始\n",
    "from transformers import Conversation\n",
    "\n",
    "# 用於開始與聊天機器人對話的用戶訊息\n",
    "user_message = \"\"\"\n",
    "What are some fun activities I can do in the winter?\n",
    "\"\"\"\n",
    "# 開始新的對話\n",
    "conversation = Conversation(user_message)\n",
    "# 將此對話傳送給聊天機器人\n",
    "conversation = chatbot(conversation)\n",
    "print(conversation)\n",
    "\"\"\"\n",
    "_注意：_ 可以透過新增以下內容繼續與聊天機器人對話：\n",
    "```\n",
    "print(chatbot(Conversation(\"What else do you recommend?\")))\n",
    "```\n",
    "但是，聊天機器人可能會回覆一些不相關的內容，因為聊天機器人沒有跟進整個對話。\n",
    "\n",
    "若要解決此問題，請嘗試在對話中新增「訊息」以跟進對話的上下文。\n",
    "\"\"\"\n",
    "# 在對話中加入訊息\n",
    "conversation.add_message({'role': 'user', 'content': '''what else do you recommend'''})\n",
    "# 將此對話傳送給聊天機器人\n",
    "conversation = chatbot(conversation)\n",
    "print(conversation)"
   ]
  },
  {
   "cell_type": "markdown",
   "metadata": {},
   "source": [
    "_注意：_ 可以透過新增以下內容繼續與聊天機器人對話：\n",
    "```\n",
    "print(chatbot(Conversation(\"What else do you recommend?\")))\n",
    "```\n",
    "但是，聊天機器人可能會回覆一些不相關的內容，因為聊天機器人沒有跟進整個對話。\n",
    "\n",
    "若要解決此問題，請嘗試在對話中新增「訊息」以跟進對話的上下文。"
   ]
  },
  {
   "cell_type": "markdown",
   "metadata": {},
   "source": [
    "\n",
    "_注意：_ 有關__Open LLM 排行榜__[__Open LLM Leaderboard__](https://huggingface.co/spaces/HuggingFaceH4/open_llm_leaderboard) 以及有關__LMSYS 聊天機器人競技場排行榜__ [__LMSYS Chatbot Arena Leaderboard__](https://huggingface.co/spaces/lmsys/chatbot-arena-leaderboard)。"
   ]
  },
  {
   "cell_type": "markdown",
   "metadata": {},
   "source": [
    "### selfmade"
   ]
  },
  {
   "cell_type": "code",
   "execution_count": null,
   "metadata": {},
   "outputs": [],
   "source": [
    "from transformers import pipeline, Conversation\n",
    "\n",
    "chatbot = pipeline(task='conversational',\n",
    "                   model='facebook/blenderbot-400M-distill')\n",
    "\n",
    "conversation = Conversation(\"How are you?\")\n",
    "conversation = chatbot(conversation)\n",
    "\n",
    "def talk(msg, conversation):\n",
    "  conversation.add_message(\n",
    "      {\"role\":\"user\",\n",
    "       \"content\":msg}\n",
    "  )\n",
    "  conversation = chatbot(conversation)\n",
    "  return conversation"
   ]
  },
  {
   "cell_type": "code",
   "execution_count": null,
   "metadata": {},
   "outputs": [],
   "source": [
    "msg = input('你說:')\n",
    "conversation = talk(msg, conversation)\n",
    "print(conversation)"
   ]
  }
 ],
 "metadata": {
  "language_info": {
   "name": "python"
  }
 },
 "nbformat": 4,
 "nbformat_minor": 2
}
